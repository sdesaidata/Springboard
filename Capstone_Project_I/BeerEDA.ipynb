{
 "cells": [
  {
   "cell_type": "markdown",
   "metadata": {},
   "source": [
    "# Datawrangling - Capstone 1\n",
    "***\n",
    "\n",
    "## Beer Review Data Description\n",
    "***\n",
    "\n",
    "The dataset we have contains over 1.5 million reviews of various beers from two websites: BeerAdvocate.com. This data not only includes user reviews, product category and alcohol by volume(ABV), but sensory aspects as well such as taste, look, smell and overall ratings. For this project we will train and test models to predict beer ratings and beer style based of the user reviews that were left.\n",
    "\n",
    "These reviews were made available by Julian Mcauley, a UCSD Computer Science professor, from a collection period of January 1998 to November 2011. This dataset was accessed with permssion. Here are some key specs of the dataset itself.\n",
    "+ Number of users: 33,387\n",
    "+ Number of items: 66,051\n",
    "+ Number of reviews: 1,586,259\n",
    "    \n",
    "To tackle the issue of size, we will take a subset sample of 99,999 reviews to train and test our models before applying it to the rest of the dataset.\n"
   ]
  },
  {
   "cell_type": "markdown",
   "metadata": {},
   "source": [
    "### Import and Review Data\n",
    "***"
   ]
  },
  {
   "cell_type": "code",
   "execution_count": 30,
   "metadata": {
    "collapsed": false
   },
   "outputs": [],
   "source": [
    "# Import necessary libraries\n",
    "import pandas as pd\n",
    "import seaborn as sns\n",
    "import numpy as np\n",
    "import matplotlib.pyplot as plt\n",
    "from nltk.corpus import stopwords\n",
    "from textblob import TextBlob"
   ]
  },
  {
   "cell_type": "code",
   "execution_count": 2,
   "metadata": {
    "collapsed": false
   },
   "outputs": [],
   "source": [
    "beersmall = pd.read_excel('data/ratebeer_sample.xlsx')"
   ]
  },
  {
   "cell_type": "code",
   "execution_count": 3,
   "metadata": {
    "collapsed": false,
    "scrolled": true
   },
   "outputs": [
    {
     "data": {
      "text/html": [
       "<div>\n",
       "<table border=\"1\" class=\"dataframe\">\n",
       "  <thead>\n",
       "    <tr style=\"text-align: right;\">\n",
       "      <th></th>\n",
       "      <th>name</th>\n",
       "      <th>beerId</th>\n",
       "      <th>brewerId</th>\n",
       "      <th>ABV</th>\n",
       "      <th>style</th>\n",
       "      <th>appearance</th>\n",
       "      <th>aroma</th>\n",
       "      <th>palate</th>\n",
       "      <th>taste</th>\n",
       "      <th>overall</th>\n",
       "      <th>time</th>\n",
       "      <th>profileName</th>\n",
       "      <th>text</th>\n",
       "    </tr>\n",
       "  </thead>\n",
       "  <tbody>\n",
       "    <tr>\n",
       "      <th>0</th>\n",
       "      <td>John Harvards Simcoe IPA</td>\n",
       "      <td>63836</td>\n",
       "      <td>8481</td>\n",
       "      <td>5.4</td>\n",
       "      <td>India Pale Ale &amp;#40;IPA&amp;#41;</td>\n",
       "      <td>4</td>\n",
       "      <td>6</td>\n",
       "      <td>3</td>\n",
       "      <td>6</td>\n",
       "      <td>13</td>\n",
       "      <td>1157587200</td>\n",
       "      <td>hopdog</td>\n",
       "      <td>On tap at the Springfield, PA location. Poured...</td>\n",
       "    </tr>\n",
       "    <tr>\n",
       "      <th>1</th>\n",
       "      <td>John Harvards Simcoe IPA</td>\n",
       "      <td>63836</td>\n",
       "      <td>8481</td>\n",
       "      <td>5.4</td>\n",
       "      <td>India Pale Ale &amp;#40;IPA&amp;#41;</td>\n",
       "      <td>4</td>\n",
       "      <td>6</td>\n",
       "      <td>4</td>\n",
       "      <td>7</td>\n",
       "      <td>13</td>\n",
       "      <td>1157241600</td>\n",
       "      <td>TomDecapolis</td>\n",
       "      <td>On tap at the John Harvards in Springfield PA....</td>\n",
       "    </tr>\n",
       "    <tr>\n",
       "      <th>2</th>\n",
       "      <td>John Harvards Cristal Pilsner</td>\n",
       "      <td>71716</td>\n",
       "      <td>8481</td>\n",
       "      <td>5</td>\n",
       "      <td>Bohemian Pilsener</td>\n",
       "      <td>4</td>\n",
       "      <td>5</td>\n",
       "      <td>3</td>\n",
       "      <td>6</td>\n",
       "      <td>14</td>\n",
       "      <td>958694400</td>\n",
       "      <td>PhillyBeer2112</td>\n",
       "      <td>Springfield, PA. I've never had the Budvar Cri...</td>\n",
       "    </tr>\n",
       "    <tr>\n",
       "      <th>3</th>\n",
       "      <td>John Harvards Fancy Lawnmower Beer</td>\n",
       "      <td>64125</td>\n",
       "      <td>8481</td>\n",
       "      <td>5.4</td>\n",
       "      <td>K•À_lsch</td>\n",
       "      <td>2</td>\n",
       "      <td>4</td>\n",
       "      <td>2</td>\n",
       "      <td>4</td>\n",
       "      <td>8</td>\n",
       "      <td>1157587200</td>\n",
       "      <td>TomDecapolis</td>\n",
       "      <td>On tap the Springfield PA location billed as t...</td>\n",
       "    </tr>\n",
       "    <tr>\n",
       "      <th>4</th>\n",
       "      <td>John Harvards Fancy Lawnmower Beer</td>\n",
       "      <td>64125</td>\n",
       "      <td>8481</td>\n",
       "      <td>5.4</td>\n",
       "      <td>K•À_lsch</td>\n",
       "      <td>2</td>\n",
       "      <td>4</td>\n",
       "      <td>2</td>\n",
       "      <td>4</td>\n",
       "      <td>8</td>\n",
       "      <td>1157587200</td>\n",
       "      <td>hopdog</td>\n",
       "      <td>On tap at the Springfield, PA location. Poured...</td>\n",
       "    </tr>\n",
       "  </tbody>\n",
       "</table>\n",
       "</div>"
      ],
      "text/plain": [
       "                                 name beerId  brewerId  ABV  \\\n",
       "0            John Harvards Simcoe IPA  63836      8481  5.4   \n",
       "1            John Harvards Simcoe IPA  63836      8481  5.4   \n",
       "2       John Harvards Cristal Pilsner  71716      8481    5   \n",
       "3  John Harvards Fancy Lawnmower Beer  64125      8481  5.4   \n",
       "4  John Harvards Fancy Lawnmower Beer  64125      8481  5.4   \n",
       "\n",
       "                          style  appearance  aroma  palate  taste  overall  \\\n",
       "0  India Pale Ale &#40;IPA&#41;           4      6       3      6       13   \n",
       "1  India Pale Ale &#40;IPA&#41;           4      6       4      7       13   \n",
       "2             Bohemian Pilsener           4      5       3      6       14   \n",
       "3                      K•À_lsch           2      4       2      4        8   \n",
       "4                      K•À_lsch           2      4       2      4        8   \n",
       "\n",
       "         time     profileName  \\\n",
       "0  1157587200          hopdog   \n",
       "1  1157241600    TomDecapolis   \n",
       "2   958694400  PhillyBeer2112   \n",
       "3  1157587200    TomDecapolis   \n",
       "4  1157587200          hopdog   \n",
       "\n",
       "                                                text  \n",
       "0  On tap at the Springfield, PA location. Poured...  \n",
       "1  On tap at the John Harvards in Springfield PA....  \n",
       "2  Springfield, PA. I've never had the Budvar Cri...  \n",
       "3  On tap the Springfield PA location billed as t...  \n",
       "4  On tap at the Springfield, PA location. Poured...  "
      ]
     },
     "execution_count": 3,
     "metadata": {},
     "output_type": "execute_result"
    }
   ],
   "source": [
    "beersmall.head()"
   ]
  },
  {
   "cell_type": "code",
   "execution_count": 4,
   "metadata": {
    "collapsed": false,
    "scrolled": true
   },
   "outputs": [
    {
     "data": {
      "text/plain": [
       "Index(['name', 'beerId', 'brewerId', 'ABV', 'style', 'appearance', 'aroma',\n",
       "       'palate', 'taste', 'overall', 'time', 'profileName', 'text'],\n",
       "      dtype='object')"
      ]
     },
     "execution_count": 4,
     "metadata": {},
     "output_type": "execute_result"
    }
   ],
   "source": [
    "beersmall.columns"
   ]
  },
  {
   "cell_type": "code",
   "execution_count": 5,
   "metadata": {
    "collapsed": false
   },
   "outputs": [
    {
     "name": "stdout",
     "output_type": "stream",
     "text": [
      "<class 'pandas.core.frame.DataFrame'>\n",
      "RangeIndex: 99999 entries, 0 to 99998\n",
      "Data columns (total 13 columns):\n",
      "name           99999 non-null object\n",
      "beerId         99999 non-null object\n",
      "brewerId       99999 non-null int64\n",
      "ABV            99999 non-null object\n",
      "style          99999 non-null object\n",
      "appearance     99999 non-null int64\n",
      "aroma          99999 non-null int64\n",
      "palate         99999 non-null int64\n",
      "taste          99999 non-null int64\n",
      "overall        99999 non-null int64\n",
      "time           99999 non-null int64\n",
      "profileName    99999 non-null object\n",
      "text           99999 non-null object\n",
      "dtypes: int64(7), object(6)\n",
      "memory usage: 9.9+ MB\n"
     ]
    }
   ],
   "source": [
    "beersmall.info()"
   ]
  },
  {
   "cell_type": "markdown",
   "metadata": {},
   "source": [
    "## Examining and Cleaning the DataFrame \n",
    "***\n",
    "Examining the first few columns of the dataframe you can notice a few things\n",
    "+ Special characters and notation weren't read properly. We need to fix this somehow.\n",
    "+ There is a time column that if we would want to use needs to be altered. In this case we don't need it, so we will drop it.\n",
    "+ Beers have a range of reviews from 1 to x amount. We want beers to have at least 5 reviews so we need to remove the ones that have less\n",
    "+ Some beers don't have an alcohol percentage (ABV)\n",
    "+ Index needs to be redone.\n",
    "+ The rating system is not on the same scale. \"Aroma\" and \"Taste\" ratings are on a scale of 10 while, the rest are on a scale of 5. \n",
    "***\n",
    "### Remove Unecessary Data"
   ]
  },
  {
   "cell_type": "code",
   "execution_count": 6,
   "metadata": {
    "collapsed": true
   },
   "outputs": [],
   "source": [
    "# Drop Time Column\n",
    "beersmall = beersmall.drop(['time'], axis=1)"
   ]
  },
  {
   "cell_type": "code",
   "execution_count": 7,
   "metadata": {
    "collapsed": true
   },
   "outputs": [],
   "source": [
    "# Drop any beer styles that have less than 5 reviews\n",
    "id_count = beersmall.groupby('style')['style'].transform(len)\n",
    "mask = id_count > 5\n",
    "beersmall = beersmall[mask]\n",
    "\n",
    "# Drop any beer names that have less than 5 reviews\n",
    "id_count = beersmall.groupby('name')['name'].transform(len)\n",
    "mask = id_count > 5\n",
    "beersmall = beersmall[mask]"
   ]
  },
  {
   "cell_type": "markdown",
   "metadata": {},
   "source": [
    "### Fix Spelling Errors"
   ]
  },
  {
   "cell_type": "code",
   "execution_count": 8,
   "metadata": {
    "collapsed": false
   },
   "outputs": [
    {
     "data": {
      "text/plain": [
       "array(['Imperial/Double IPA', 'Sour Ale/Wild Ale', 'Traditional Ale',\n",
       "       'India Pale Ale &#40;IPA&#41;', 'Brown Ale', 'Porter',\n",
       "       'Belgian White &#40;Witbier&#41;', 'Imperial Stout', 'Sweet Stout',\n",
       "       'Stout', 'Scotch Ale', 'Saison', 'American Pale Ale',\n",
       "       'Belgian Strong Ale', 'Wheat Ale', 'Abt/Quadrupel', 'Premium Lager',\n",
       "       'Imperial/Strong Porter', 'Pale Lager', 'Fruit Beer',\n",
       "       'English Pale Ale', 'Spice/Herb/Vegetable', 'Amber Ale', 'Pilsener',\n",
       "       'Premium Bitter/ESB', 'Vienna', 'Barley Wine', 'Doppelbock',\n",
       "       'Altbier', 'Abbey Tripel', 'Classic German Pilsener', 'Weizen Bock',\n",
       "       'Dunkelweizen', 'Oktoberfest/M•À_rzen', 'Dortmunder/Helles',\n",
       "       'Zwickel/Keller/Landbier', 'German Hefeweizen', 'Sak•À_ - Junmai',\n",
       "       'Sak•À_ - Nigori', 'Sak•À_ - Daiginjo',\n",
       "       'Strong Pale Lager/Imperial Pils', 'Dunkel', 'Heller Bock',\n",
       "       'Golden Ale/Blond Ale', 'Scottish Ale', 'Mild Ale', 'Irish Ale',\n",
       "       'California Common', 'Dunkler Bock', 'Low Alcohol',\n",
       "       'Ice Cider/Perry', 'Cider', 'Bitter', 'English Strong Ale',\n",
       "       'Belgian Ale', 'Abbey Dubbel', 'Sak•À_ - Ginjo', 'Foreign Stout',\n",
       "       'Bi•À_re de Garde', 'American Strong Ale', 'K•À_lsch',\n",
       "       'Specialty Grain', 'Malt Liquor', 'Smoked', 'Bohemian Pilsener',\n",
       "       'Baltic Porter', 'Mead', 'Schwarzbier', 'Cream Ale',\n",
       "       'American Dark Lager', 'Black IPA', 'Dry Stout', 'Eisbock',\n",
       "       'Berliner Weisse', 'Perry', 'Old Ale', 'German Kristallweizen'], dtype=object)"
      ]
     },
     "execution_count": 8,
     "metadata": {},
     "output_type": "execute_result"
    }
   ],
   "source": [
    "# Check for Beer Styles where the name needs to be altered.\n",
    "beersmall['style'].unique()"
   ]
  },
  {
   "cell_type": "code",
   "execution_count": 9,
   "metadata": {
    "collapsed": false,
    "scrolled": true
   },
   "outputs": [],
   "source": [
    "# Function to replace character errors in the style column\n",
    "def replacestyle(col):\n",
    "    # Replace each value that matches the left side of the pair\n",
    "    return col.replace({\n",
    "        'K•À_lsch': 'Kölsch',\n",
    "        '&#40;' : '(',\n",
    "        '&#41;' : ')',\n",
    "        'M•À_rzen' : 'Märzen',\n",
    "        'Sak•À_' : 'Sake',\n",
    "        'Bi•À_re de Garde' : 'Bière de Garde'\n",
    "    }, regex=True)\n",
    "\n",
    "# Apply the function replacestyle to the beer['style'] column\n",
    "beersmall['style'] = replacestyle(beersmall['style'])\n",
    "\n",
    "# Function to replace character errors in the name column \n",
    "def replacename(col):\n",
    "    # Replace each value that matches the left side of the pair\n",
    "    return col.replace({\n",
    "        '&quot;' : '\"', \n",
    "        '&#40;' : '(',\n",
    "        '&#41;' : ')',\n",
    "        'Brï¿½u' : 'Bräu',\n",
    "        'Kï¿½r' : 'Kür',\n",
    "        'Mï¿½r' : 'Mär',\n",
    "        'hï¿½f' : 'häf',\n",
    "        'lï¿½n' : 'lán',\n",
    "        'gï¿½u' : 'gäu',\n",
    "        'rï¿½n' : 'rän',\n",
    "        'tï¿½c' : 'tüc'\n",
    "    }, regex= True)\n",
    "\n",
    "# Apply the function replacename to the beer.name column\n",
    "beersmall.name = replacename(beersmall.name)"
   ]
  },
  {
   "cell_type": "markdown",
   "metadata": {},
   "source": [
    "### Adjust Rating Scales\n",
    "***\n",
    "In order to have all the ratings on the same scale, we will adjust the \"aroma\" and \"taste\" rating scales from a scale of 10 to a scale of 5. In addition, the \"overall\" scale appears to be representative of the other 4 rating values combined on a scale of 20. We will adjust this scale down to a scale of 5 as well."
   ]
  },
  {
   "cell_type": "code",
   "execution_count": 33,
   "metadata": {
    "collapsed": false
   },
   "outputs": [],
   "source": [
    "beersmall['aroma'] = round(beersmall['aroma'] / 2).astype(int)\n",
    "beersmall['taste'] = round(beersmall['taste'] / 2).astype(int)\n",
    "beersmall['overall'] = (beersmall['appearance'] + beersmall['aroma'] + beersmall['palate'] + beersmall['taste']) / 4"
   ]
  },
  {
   "cell_type": "code",
   "execution_count": 34,
   "metadata": {
    "collapsed": false,
    "scrolled": false
   },
   "outputs": [
    {
     "data": {
      "text/html": [
       "<div>\n",
       "<table border=\"1\" class=\"dataframe\">\n",
       "  <thead>\n",
       "    <tr style=\"text-align: right;\">\n",
       "      <th></th>\n",
       "      <th>name</th>\n",
       "      <th>beerId</th>\n",
       "      <th>brewerId</th>\n",
       "      <th>ABV</th>\n",
       "      <th>style</th>\n",
       "      <th>appearance</th>\n",
       "      <th>aroma</th>\n",
       "      <th>palate</th>\n",
       "      <th>taste</th>\n",
       "      <th>overall</th>\n",
       "      <th>profileName</th>\n",
       "      <th>text</th>\n",
       "      <th>word_count</th>\n",
       "      <th>char_count</th>\n",
       "      <th>avg_word_len</th>\n",
       "      <th>stop_words</th>\n",
       "      <th>upper</th>\n",
       "      <th>clean_text</th>\n",
       "    </tr>\n",
       "  </thead>\n",
       "  <tbody>\n",
       "    <tr>\n",
       "      <th>15</th>\n",
       "      <td>Barley Island Barrel-Aged Count Hopula</td>\n",
       "      <td>91592</td>\n",
       "      <td>3228</td>\n",
       "      <td>8</td>\n",
       "      <td>Imperial/Double IPA</td>\n",
       "      <td>4</td>\n",
       "      <td>1</td>\n",
       "      <td>4</td>\n",
       "      <td>1</td>\n",
       "      <td>2.5</td>\n",
       "      <td>JJClark</td>\n",
       "      <td>Handbottled from trade wth Sprinkle. Pours a n...</td>\n",
       "      <td>60</td>\n",
       "      <td>346.0</td>\n",
       "      <td>4.783333</td>\n",
       "      <td>18</td>\n",
       "      <td>0</td>\n",
       "      <td>handbottled trade wth sprinkle pours dark copp...</td>\n",
       "    </tr>\n",
       "    <tr>\n",
       "      <th>16</th>\n",
       "      <td>Barley Island Barrel-Aged Count Hopula</td>\n",
       "      <td>91592</td>\n",
       "      <td>3228</td>\n",
       "      <td>8</td>\n",
       "      <td>Imperial/Double IPA</td>\n",
       "      <td>4</td>\n",
       "      <td>1</td>\n",
       "      <td>4</td>\n",
       "      <td>1</td>\n",
       "      <td>2.5</td>\n",
       "      <td>CaptainCougar</td>\n",
       "      <td>On tap at the Great Taste of the Midwest (8/9/...</td>\n",
       "      <td>66</td>\n",
       "      <td>381.0</td>\n",
       "      <td>5.015873</td>\n",
       "      <td>18</td>\n",
       "      <td>0</td>\n",
       "      <td>tap great taste midwest 8908 pours transparent...</td>\n",
       "    </tr>\n",
       "    <tr>\n",
       "      <th>17</th>\n",
       "      <td>Barley Island Barrel-Aged Count Hopula</td>\n",
       "      <td>91592</td>\n",
       "      <td>3228</td>\n",
       "      <td>8</td>\n",
       "      <td>Imperial/Double IPA</td>\n",
       "      <td>3</td>\n",
       "      <td>1</td>\n",
       "      <td>3</td>\n",
       "      <td>1</td>\n",
       "      <td>2.0</td>\n",
       "      <td>StFun</td>\n",
       "      <td>On tap. Interesting experiment, but I liked re...</td>\n",
       "      <td>64</td>\n",
       "      <td>378.0</td>\n",
       "      <td>4.921875</td>\n",
       "      <td>23</td>\n",
       "      <td>2</td>\n",
       "      <td>tap interesting experiment liked regular hopul...</td>\n",
       "    </tr>\n",
       "    <tr>\n",
       "      <th>18</th>\n",
       "      <td>Barley Island Barrel-Aged Count Hopula</td>\n",
       "      <td>91592</td>\n",
       "      <td>3228</td>\n",
       "      <td>8</td>\n",
       "      <td>Imperial/Double IPA</td>\n",
       "      <td>4</td>\n",
       "      <td>0</td>\n",
       "      <td>4</td>\n",
       "      <td>0</td>\n",
       "      <td>2.0</td>\n",
       "      <td>MI2CA</td>\n",
       "      <td>On cask at BI - Aroma of the Hopula Play-Doh h...</td>\n",
       "      <td>62</td>\n",
       "      <td>318.0</td>\n",
       "      <td>4.431034</td>\n",
       "      <td>22</td>\n",
       "      <td>2</td>\n",
       "      <td>cask bi hopula playdoh lots oak vanilla bourbo...</td>\n",
       "    </tr>\n",
       "    <tr>\n",
       "      <th>19</th>\n",
       "      <td>Barley Island Barrel-Aged Count Hopula</td>\n",
       "      <td>91592</td>\n",
       "      <td>3228</td>\n",
       "      <td>8</td>\n",
       "      <td>Imperial/Double IPA</td>\n",
       "      <td>3</td>\n",
       "      <td>1</td>\n",
       "      <td>3</td>\n",
       "      <td>1</td>\n",
       "      <td>2.0</td>\n",
       "      <td>vyvvy</td>\n",
       "      <td>GTMW 08 on cask - Pours bronze orang with a mi...</td>\n",
       "      <td>67</td>\n",
       "      <td>349.0</td>\n",
       "      <td>4.564516</td>\n",
       "      <td>22</td>\n",
       "      <td>1</td>\n",
       "      <td>gtmw 08 cask pours bronze orang minimal lots v...</td>\n",
       "    </tr>\n",
       "  </tbody>\n",
       "</table>\n",
       "</div>"
      ],
      "text/plain": [
       "                                      name beerId  brewerId ABV  \\\n",
       "15  Barley Island Barrel-Aged Count Hopula  91592      3228   8   \n",
       "16  Barley Island Barrel-Aged Count Hopula  91592      3228   8   \n",
       "17  Barley Island Barrel-Aged Count Hopula  91592      3228   8   \n",
       "18  Barley Island Barrel-Aged Count Hopula  91592      3228   8   \n",
       "19  Barley Island Barrel-Aged Count Hopula  91592      3228   8   \n",
       "\n",
       "                  style  appearance  aroma  palate  taste  overall  \\\n",
       "15  Imperial/Double IPA           4      1       4      1      2.5   \n",
       "16  Imperial/Double IPA           4      1       4      1      2.5   \n",
       "17  Imperial/Double IPA           3      1       3      1      2.0   \n",
       "18  Imperial/Double IPA           4      0       4      0      2.0   \n",
       "19  Imperial/Double IPA           3      1       3      1      2.0   \n",
       "\n",
       "      profileName                                               text  \\\n",
       "15        JJClark  Handbottled from trade wth Sprinkle. Pours a n...   \n",
       "16  CaptainCougar  On tap at the Great Taste of the Midwest (8/9/...   \n",
       "17          StFun  On tap. Interesting experiment, but I liked re...   \n",
       "18          MI2CA  On cask at BI - Aroma of the Hopula Play-Doh h...   \n",
       "19          vyvvy  GTMW 08 on cask - Pours bronze orang with a mi...   \n",
       "\n",
       "    word_count  char_count  avg_word_len  stop_words  upper  \\\n",
       "15          60       346.0      4.783333          18      0   \n",
       "16          66       381.0      5.015873          18      0   \n",
       "17          64       378.0      4.921875          23      2   \n",
       "18          62       318.0      4.431034          22      2   \n",
       "19          67       349.0      4.564516          22      1   \n",
       "\n",
       "                                           clean_text  \n",
       "15  handbottled trade wth sprinkle pours dark copp...  \n",
       "16  tap great taste midwest 8908 pours transparent...  \n",
       "17  tap interesting experiment liked regular hopul...  \n",
       "18  cask bi hopula playdoh lots oak vanilla bourbo...  \n",
       "19  gtmw 08 cask pours bronze orang minimal lots v...  "
      ]
     },
     "execution_count": 34,
     "metadata": {},
     "output_type": "execute_result"
    }
   ],
   "source": [
    "beersmall.head()"
   ]
  },
  {
   "cell_type": "markdown",
   "metadata": {},
   "source": [
    "### Break Down and Clean Text Reviews\n",
    "*** \n",
    "Text reviews often times have spelling errors, extraneous words and punctuation that we may not need when analyzing the information. For this reason we are going to break down the reviews to deterimine the quality and quantity of them."
   ]
  },
  {
   "cell_type": "code",
   "execution_count": 12,
   "metadata": {
    "collapsed": false
   },
   "outputs": [
    {
     "data": {
      "text/html": [
       "<div>\n",
       "<table border=\"1\" class=\"dataframe\">\n",
       "  <thead>\n",
       "    <tr style=\"text-align: right;\">\n",
       "      <th></th>\n",
       "      <th>text</th>\n",
       "      <th>word_count</th>\n",
       "      <th>char_count</th>\n",
       "      <th>avg_word_len</th>\n",
       "      <th>stop_words</th>\n",
       "      <th>upper</th>\n",
       "    </tr>\n",
       "  </thead>\n",
       "  <tbody>\n",
       "    <tr>\n",
       "      <th>15</th>\n",
       "      <td>Handbottled from trade wth Sprinkle. Pours a n...</td>\n",
       "      <td>60</td>\n",
       "      <td>346.0</td>\n",
       "      <td>4.783333</td>\n",
       "      <td>18</td>\n",
       "      <td>0</td>\n",
       "    </tr>\n",
       "    <tr>\n",
       "      <th>16</th>\n",
       "      <td>On tap at the Great Taste of the Midwest (8/9/...</td>\n",
       "      <td>66</td>\n",
       "      <td>381.0</td>\n",
       "      <td>5.015873</td>\n",
       "      <td>18</td>\n",
       "      <td>0</td>\n",
       "    </tr>\n",
       "    <tr>\n",
       "      <th>17</th>\n",
       "      <td>On tap. Interesting experiment, but I liked re...</td>\n",
       "      <td>64</td>\n",
       "      <td>378.0</td>\n",
       "      <td>4.921875</td>\n",
       "      <td>23</td>\n",
       "      <td>2</td>\n",
       "    </tr>\n",
       "    <tr>\n",
       "      <th>18</th>\n",
       "      <td>On cask at BI - Aroma of the Hopula Play-Doh h...</td>\n",
       "      <td>62</td>\n",
       "      <td>318.0</td>\n",
       "      <td>4.431034</td>\n",
       "      <td>22</td>\n",
       "      <td>2</td>\n",
       "    </tr>\n",
       "    <tr>\n",
       "      <th>19</th>\n",
       "      <td>GTMW 08 on cask - Pours bronze orang with a mi...</td>\n",
       "      <td>67</td>\n",
       "      <td>349.0</td>\n",
       "      <td>4.564516</td>\n",
       "      <td>22</td>\n",
       "      <td>1</td>\n",
       "    </tr>\n",
       "  </tbody>\n",
       "</table>\n",
       "</div>"
      ],
      "text/plain": [
       "                                                 text  word_count  char_count  \\\n",
       "15  Handbottled from trade wth Sprinkle. Pours a n...          60       346.0   \n",
       "16  On tap at the Great Taste of the Midwest (8/9/...          66       381.0   \n",
       "17  On tap. Interesting experiment, but I liked re...          64       378.0   \n",
       "18  On cask at BI - Aroma of the Hopula Play-Doh h...          62       318.0   \n",
       "19  GTMW 08 on cask - Pours bronze orang with a mi...          67       349.0   \n",
       "\n",
       "    avg_word_len  stop_words  upper  \n",
       "15      4.783333          18      0  \n",
       "16      5.015873          18      0  \n",
       "17      4.921875          23      2  \n",
       "18      4.431034          22      2  \n",
       "19      4.564516          22      1  "
      ]
     },
     "execution_count": 12,
     "metadata": {},
     "output_type": "execute_result"
    }
   ],
   "source": [
    "def avg_word_len(sentence):\n",
    "    words = str(sentence).split()\n",
    "    return (sum(len(word) for word in words)/len(words))\n",
    "\n",
    "# Determine the word count for each text review: word_count\n",
    "beersmall['word_count'] = beersmall['text'].apply(lambda x: len(str(x).split(\" \")))\n",
    "\n",
    "# Determine the character count for each text review: char_count\n",
    "beersmall['char_count'] = beersmall['text'].str.len() ## this also includes spaces\n",
    "\n",
    "# Determine the average word length per text review: avg_word_len\n",
    "beersmall['avg_word_len'] = beersmall['text'].apply(lambda x: avg_word_len(x))\n",
    "\n",
    "# Determine the number of stop words per text review: stop_words\n",
    "stop = stopwords.words('english')\n",
    "beersmall['stop_words'] = beersmall['text'].apply(lambda x: len([x for x in str(x).split() if x in stop]))\n",
    "\n",
    "# Determine the number of uppercase words per text review: upper\n",
    "beersmall['upper'] = beersmall['text'].apply(lambda x: len([x for x in str(x).split() if x.isupper()]))\n",
    "\n",
    "beersmall[['text','word_count', 'char_count', 'avg_word_len', 'stop_words', 'upper']].head()"
   ]
  },
  {
   "cell_type": "code",
   "execution_count": 13,
   "metadata": {
    "collapsed": false
   },
   "outputs": [
    {
     "data": {
      "text/html": [
       "<div>\n",
       "<table border=\"1\" class=\"dataframe\">\n",
       "  <thead>\n",
       "    <tr style=\"text-align: right;\">\n",
       "      <th></th>\n",
       "      <th>text</th>\n",
       "      <th>clean_text</th>\n",
       "    </tr>\n",
       "  </thead>\n",
       "  <tbody>\n",
       "    <tr>\n",
       "      <th>15</th>\n",
       "      <td>Handbottled from trade wth Sprinkle. Pours a n...</td>\n",
       "      <td>handbottled trade wth sprinkle pours dark copp...</td>\n",
       "    </tr>\n",
       "    <tr>\n",
       "      <th>16</th>\n",
       "      <td>On tap at the Great Taste of the Midwest (8/9/...</td>\n",
       "      <td>tap great taste midwest 8908 pours transparent...</td>\n",
       "    </tr>\n",
       "    <tr>\n",
       "      <th>17</th>\n",
       "      <td>On tap. Interesting experiment, but I liked re...</td>\n",
       "      <td>tap interesting experiment liked regular hopul...</td>\n",
       "    </tr>\n",
       "    <tr>\n",
       "      <th>18</th>\n",
       "      <td>On cask at BI - Aroma of the Hopula Play-Doh h...</td>\n",
       "      <td>cask bi hopula playdoh lots oak vanilla bourbo...</td>\n",
       "    </tr>\n",
       "    <tr>\n",
       "      <th>19</th>\n",
       "      <td>GTMW 08 on cask - Pours bronze orang with a mi...</td>\n",
       "      <td>gtmw 08 cask pours bronze orang minimal lots v...</td>\n",
       "    </tr>\n",
       "  </tbody>\n",
       "</table>\n",
       "</div>"
      ],
      "text/plain": [
       "                                                 text  \\\n",
       "15  Handbottled from trade wth Sprinkle. Pours a n...   \n",
       "16  On tap at the Great Taste of the Midwest (8/9/...   \n",
       "17  On tap. Interesting experiment, but I liked re...   \n",
       "18  On cask at BI - Aroma of the Hopula Play-Doh h...   \n",
       "19  GTMW 08 on cask - Pours bronze orang with a mi...   \n",
       "\n",
       "                                           clean_text  \n",
       "15  handbottled trade wth sprinkle pours dark copp...  \n",
       "16  tap great taste midwest 8908 pours transparent...  \n",
       "17  tap interesting experiment liked regular hopul...  \n",
       "18  cask bi hopula playdoh lots oak vanilla bourbo...  \n",
       "19  gtmw 08 cask pours bronze orang minimal lots v...  "
      ]
     },
     "execution_count": 13,
     "metadata": {},
     "output_type": "execute_result"
    }
   ],
   "source": [
    "# Create a new column clean_text where each text review is cleaned to be prepared for sentiment analyses\n",
    "# Change all characters in each review to lowercase.\n",
    "beersmall['clean_text'] = beersmall['text'].apply(lambda x: \" \".join(x.lower() for x in str(x).split()))\n",
    "\n",
    "# Remove any special characters from each review.\n",
    "beersmall['clean_text'] = beersmall['clean_text'].str.replace('[^\\w\\s]','')\n",
    "\n",
    "# Remove any stop words.\n",
    "beersmall['clean_text'] = beersmall['clean_text'].apply(lambda x: \" \".join(x for x in str(x).split() if x not in stop))\n",
    "\n",
    "# Determine the 10 most frequent words and 10 least frequent words and remove them from each review\n",
    "freq = pd.Series(' '.join(beersmall['clean_text']).split()).value_counts()[:10]\n",
    "freq2 = pd.Series(' '.join(beersmall['clean_text']).split()).value_counts()[-10:]\n",
    "beersmall['clean_text'] = beersmall['clean_text'].apply(lambda x: \" \".join(x for x in x.split() if x not in freq))\n",
    "beersmall['clean_text'] = beersmall['clean_text'].apply(lambda x: \" \".join(x for x in x.split() if x not in freq2))\n",
    "\n",
    "beersmall[['text', 'clean_text']].head()"
   ]
  },
  {
   "cell_type": "markdown",
   "metadata": {},
   "source": [
    "### Extract One Beer Style for Training Set\n",
    "***\n",
    "By looking at our value counts we determine that within this chunk of the data, it appears that there are the most reviews for India Pale Ales(IPAs) and therefore we will use these reviews as our training set to test our models. In order to do so we must extract the rows from the beer dataframe that only include IPAs. "
   ]
  },
  {
   "cell_type": "code",
   "execution_count": 14,
   "metadata": {
    "collapsed": false
   },
   "outputs": [],
   "source": [
    "beer_ipa = beersmall[beersmall['style'] == 'India Pale Ale (IPA)'] "
   ]
  },
  {
   "cell_type": "code",
   "execution_count": 15,
   "metadata": {
    "collapsed": false
   },
   "outputs": [
    {
     "data": {
      "text/html": [
       "<div>\n",
       "<table border=\"1\" class=\"dataframe\">\n",
       "  <thead>\n",
       "    <tr style=\"text-align: right;\">\n",
       "      <th></th>\n",
       "      <th>name</th>\n",
       "      <th>beerId</th>\n",
       "      <th>brewerId</th>\n",
       "      <th>ABV</th>\n",
       "      <th>style</th>\n",
       "      <th>appearance</th>\n",
       "      <th>aroma</th>\n",
       "      <th>palate</th>\n",
       "      <th>taste</th>\n",
       "      <th>overall</th>\n",
       "      <th>profileName</th>\n",
       "      <th>text</th>\n",
       "      <th>word_count</th>\n",
       "      <th>char_count</th>\n",
       "      <th>avg_word_len</th>\n",
       "      <th>stop_words</th>\n",
       "      <th>upper</th>\n",
       "      <th>clean_text</th>\n",
       "    </tr>\n",
       "  </thead>\n",
       "  <tbody>\n",
       "    <tr>\n",
       "      <th>114</th>\n",
       "      <td>Barley Island Barfly IPA</td>\n",
       "      <td>58511</td>\n",
       "      <td>3228</td>\n",
       "      <td>6.5</td>\n",
       "      <td>India Pale Ale (IPA)</td>\n",
       "      <td>3</td>\n",
       "      <td>4.0</td>\n",
       "      <td>4</td>\n",
       "      <td>4.0</td>\n",
       "      <td>3.75</td>\n",
       "      <td>adamlangolf</td>\n",
       "      <td>Another quality session IPA.  The lowest ABV o...</td>\n",
       "      <td>82</td>\n",
       "      <td>423.0</td>\n",
       "      <td>4.441558</td>\n",
       "      <td>22</td>\n",
       "      <td>6</td>\n",
       "      <td>another quality session ipa lowest abv ipa wou...</td>\n",
       "    </tr>\n",
       "    <tr>\n",
       "      <th>115</th>\n",
       "      <td>Barley Island Barfly IPA</td>\n",
       "      <td>58511</td>\n",
       "      <td>3228</td>\n",
       "      <td>6.5</td>\n",
       "      <td>India Pale Ale (IPA)</td>\n",
       "      <td>3</td>\n",
       "      <td>3.0</td>\n",
       "      <td>3</td>\n",
       "      <td>4.0</td>\n",
       "      <td>3.25</td>\n",
       "      <td>GG</td>\n",
       "      <td>Received in a trade with mmm///beer, so thanks...</td>\n",
       "      <td>117</td>\n",
       "      <td>614.0</td>\n",
       "      <td>4.389381</td>\n",
       "      <td>45</td>\n",
       "      <td>0</td>\n",
       "      <td>received trade mmmbeer thanks bro quite actual...</td>\n",
       "    </tr>\n",
       "    <tr>\n",
       "      <th>116</th>\n",
       "      <td>Barley Island Barfly IPA</td>\n",
       "      <td>58511</td>\n",
       "      <td>3228</td>\n",
       "      <td>6.5</td>\n",
       "      <td>India Pale Ale (IPA)</td>\n",
       "      <td>3</td>\n",
       "      <td>4.0</td>\n",
       "      <td>4</td>\n",
       "      <td>4.0</td>\n",
       "      <td>3.75</td>\n",
       "      <td>mar</td>\n",
       "      <td>bottle thanks to mmm///beer.  deep ruby color ...</td>\n",
       "      <td>33</td>\n",
       "      <td>175.0</td>\n",
       "      <td>4.766667</td>\n",
       "      <td>7</td>\n",
       "      <td>0</td>\n",
       "      <td>thanks mmmbeer deep ruby color 1 finger cream ...</td>\n",
       "    </tr>\n",
       "    <tr>\n",
       "      <th>117</th>\n",
       "      <td>Barley Island Barfly IPA</td>\n",
       "      <td>58511</td>\n",
       "      <td>3228</td>\n",
       "      <td>6.5</td>\n",
       "      <td>India Pale Ale (IPA)</td>\n",
       "      <td>4</td>\n",
       "      <td>4.0</td>\n",
       "      <td>3</td>\n",
       "      <td>4.0</td>\n",
       "      <td>3.75</td>\n",
       "      <td>jcwattsrugger</td>\n",
       "      <td>on tap-pours a light tan head that laces and a...</td>\n",
       "      <td>59</td>\n",
       "      <td>377.0</td>\n",
       "      <td>6.000000</td>\n",
       "      <td>15</td>\n",
       "      <td>0</td>\n",
       "      <td>tappours tan laces amber color northwest hopsg...</td>\n",
       "    </tr>\n",
       "    <tr>\n",
       "      <th>118</th>\n",
       "      <td>Barley Island Barfly IPA</td>\n",
       "      <td>58511</td>\n",
       "      <td>3228</td>\n",
       "      <td>6.5</td>\n",
       "      <td>India Pale Ale (IPA)</td>\n",
       "      <td>3</td>\n",
       "      <td>3.0</td>\n",
       "      <td>3</td>\n",
       "      <td>3.0</td>\n",
       "      <td>3.00</td>\n",
       "      <td>Snojerk321</td>\n",
       "      <td>Bottle via trade with mmm///beer.  This brew p...</td>\n",
       "      <td>81</td>\n",
       "      <td>475.0</td>\n",
       "      <td>4.937500</td>\n",
       "      <td>24</td>\n",
       "      <td>0</td>\n",
       "      <td>via trade mmmbeer brew pours thick hazy orange...</td>\n",
       "    </tr>\n",
       "  </tbody>\n",
       "</table>\n",
       "</div>"
      ],
      "text/plain": [
       "                         name beerId  brewerId  ABV                 style  \\\n",
       "114  Barley Island Barfly IPA  58511      3228  6.5  India Pale Ale (IPA)   \n",
       "115  Barley Island Barfly IPA  58511      3228  6.5  India Pale Ale (IPA)   \n",
       "116  Barley Island Barfly IPA  58511      3228  6.5  India Pale Ale (IPA)   \n",
       "117  Barley Island Barfly IPA  58511      3228  6.5  India Pale Ale (IPA)   \n",
       "118  Barley Island Barfly IPA  58511      3228  6.5  India Pale Ale (IPA)   \n",
       "\n",
       "     appearance  aroma  palate  taste  overall    profileName  \\\n",
       "114           3    4.0       4    4.0     3.75    adamlangolf   \n",
       "115           3    3.0       3    4.0     3.25             GG   \n",
       "116           3    4.0       4    4.0     3.75            mar   \n",
       "117           4    4.0       3    4.0     3.75  jcwattsrugger   \n",
       "118           3    3.0       3    3.0     3.00     Snojerk321   \n",
       "\n",
       "                                                  text  word_count  \\\n",
       "114  Another quality session IPA.  The lowest ABV o...          82   \n",
       "115  Received in a trade with mmm///beer, so thanks...         117   \n",
       "116  bottle thanks to mmm///beer.  deep ruby color ...          33   \n",
       "117  on tap-pours a light tan head that laces and a...          59   \n",
       "118  Bottle via trade with mmm///beer.  This brew p...          81   \n",
       "\n",
       "     char_count  avg_word_len  stop_words  upper  \\\n",
       "114       423.0      4.441558          22      6   \n",
       "115       614.0      4.389381          45      0   \n",
       "116       175.0      4.766667           7      0   \n",
       "117       377.0      6.000000          15      0   \n",
       "118       475.0      4.937500          24      0   \n",
       "\n",
       "                                            clean_text  \n",
       "114  another quality session ipa lowest abv ipa wou...  \n",
       "115  received trade mmmbeer thanks bro quite actual...  \n",
       "116  thanks mmmbeer deep ruby color 1 finger cream ...  \n",
       "117  tappours tan laces amber color northwest hopsg...  \n",
       "118  via trade mmmbeer brew pours thick hazy orange...  "
      ]
     },
     "execution_count": 15,
     "metadata": {},
     "output_type": "execute_result"
    }
   ],
   "source": [
    "beer_ipa.head()"
   ]
  },
  {
   "cell_type": "markdown",
   "metadata": {},
   "source": [
    "We have 7818 reviews for 101 different types of IPAs. We can increase this size by incorporating the rest of the reviews at a later time.\n",
    "***\n",
    "\n",
    "# Exploratory Data Analysis"
   ]
  },
  {
   "cell_type": "code",
   "execution_count": 55,
   "metadata": {
    "collapsed": false
   },
   "outputs": [
    {
     "data": {
      "image/png": "[encoded data removed]",
      "text/plain": [
       "<matplotlib.figure.Figure at 0x13ae06860>"
      ]
     },
     "metadata": {},
     "output_type": "display_data"
    }
   ],
   "source": [
    "appear_sizes = [len(beer_ipa.appearance[beer_ipa.appearance == 0]), len(beer_ipa.appearance[beer_ipa.appearance == 1]), \n",
    "             len(beer_ipa.appearance[beer_ipa.appearance == 2]), len(beer_ipa.appearance[beer_ipa.appearance == 3]),\n",
    "             len(beer_ipa.appearance[beer_ipa.appearance == 4]), len(beer_ipa.appearance[beer_ipa.appearance == 5])]\n",
    "\n",
    "aroma_sizes = [len(beer_ipa.aroma[beer_ipa.aroma == 0]), len(beer_ipa.aroma[beer_ipa.aroma == 1]), \n",
    "             len(beer_ipa.aroma[beer_ipa.aroma == 2]), len(beer_ipa.aroma[beer_ipa.aroma == 3]),\n",
    "             len(beer_ipa.aroma[beer_ipa.aroma == 4]), len(beer_ipa.aroma[beer_ipa.aroma == 5])]\n",
    "\n",
    "palate_sizes = [len(beer_ipa.palate[beer_ipa.palate == 0]), len(beer_ipa.palate[beer_ipa.palate == 1]), \n",
    "             len(beer_ipa.palate[beer_ipa.palate == 2]), len(beer_ipa.palate[beer_ipa.palate == 3]),\n",
    "             len(beer_ipa.palate[beer_ipa.palate == 4]), len(beer_ipa.palate[beer_ipa.palate == 5])]\n",
    "\n",
    "taste_sizes = [len(beer_ipa.taste[beer_ipa.taste == 0]), len(beer_ipa.taste[beer_ipa.taste == 1]), \n",
    "             len(beer_ipa.taste[beer_ipa.taste == 2]), len(beer_ipa.taste[beer_ipa.taste == 3]),\n",
    "             len(beer_ipa.taste[beer_ipa.taste == 4]), len(beer_ipa.taste[beer_ipa.taste == 5])]\n",
    "\n",
    "ind = np.arange(len(appear_sizes))  # the x locations for the groups\n",
    "width = 0.35  # the width of the bars\n",
    "\n",
    "fig, ax = plt.subplots()\n",
    "rects1 = ax.bar(ind - width/4, appear_sizes, width,\n",
    "                label='Appearance')\n",
    "rects2 = ax.bar(ind + width/4, aroma_sizes, width,\n",
    "                label='Aroma')\n",
    "\n",
    "rects3 = ax.bar(ind + width/4, palate_sizes, width,\n",
    "                label='Palate')\n",
    "\n",
    "rects4 = ax.bar(ind + width/4, taste_sizes, width,\n",
    "                label='Ta')\n",
    "\n",
    "# Add some text for labels, title and custom x-axis tick labels, etc.\n",
    "ax.set_ylabel('# of Ratings')\n",
    "ax.set_title('# of Ratings by Category')\n",
    "ax.set_xticks(ind)\n",
    "ax.set_xticklabels(('0', '1', '2', '3', '4', '5'))\n",
    "ax.legend()\n",
    "\n",
    "\n",
    "def autolabel(rects, xpos='center'):\n",
    "    \"\"\"\n",
    "    Attach a text label above each bar in *rects*, displaying its height.\n",
    "\n",
    "    *xpos* indicates which side to place the text w.r.t. the center of\n",
    "    the bar. It can be one of the following {'center', 'right', 'left'}.\n",
    "    \"\"\"\n",
    "\n",
    "    ha = {'center': 'center', 'right': 'left', 'left': 'right'}\n",
    "    offset = {'center': 0, 'right': 1, 'left': -1}\n",
    "\n",
    "    for rect in rects:\n",
    "        height = rect.get_height()\n",
    "        ax.annotate('{}'.format(height),\n",
    "                    xy=(rect.get_x() + rect.get_width() / 2, height),\n",
    "                    xytext=(offset[xpos]*3, 3),  # use 3 points offset\n",
    "                    textcoords=\"offset points\",  # in both directions\n",
    "                    ha=ha[xpos], va='bottom')\n",
    "\n",
    "\n",
    "autolabel(rects1, \"left\")\n",
    "autolabel(rects2, \"right\")\n",
    "\n",
    "fig.tight_layout()\n",
    "\n",
    "plt.show()"
   ]
  },
  {
   "cell_type": "code",
   "execution_count": 73,
   "metadata": {
    "collapsed": true
   },
   "outputs": [],
   "source": [
    "def plot_bar_x(rater):\n",
    "    # this is for plotting purpose\n",
    "    \n",
    "    x = ['0', '1', '2', '3', '4', '5']\n",
    "    sizes = [len(rater[rater == 0]), len(rater[rater == 1]), \n",
    "             len(rater[rater == 2]), len(rater[rater == 3]),\n",
    "             len(rater[rater == 4]), len(rater[rater == 5])]\n",
    "    \n",
    "    \n",
    "    index = np.arange(len(x))\n",
    "    plt.bar(index, sizes)\n",
    "    plt.xlabel('Genre', fontsize=5)\n",
    "    plt.ylabel('No of Movies', fontsize=5)\n",
    "    plt.xticks(index, x)\n",
    "    plt.title('Market Share for Each Genre 1995-2017')\n",
    "    plt.show()"
   ]
  },
  {
   "cell_type": "code",
   "execution_count": 78,
   "metadata": {
    "collapsed": false
   },
   "outputs": [
    {
     "data": {
      "image/png": "[encoded data removed]",
      "text/plain": [
       "<matplotlib.figure.Figure at 0x13b0b60f0>"
      ]
     },
     "metadata": {},
     "output_type": "display_data"
    },
    {
     "data": {
      "image/png": "[encoded data removed]",
      "text/plain": [
       "<matplotlib.figure.Figure at 0x13af5c080>"
      ]
     },
     "metadata": {},
     "output_type": "display_data"
    },
    {
     "data": {
      "image/png": "[encoded data removed]",
      "text/plain": [
       "<matplotlib.figure.Figure at 0x13bc70ba8>"
      ]
     },
     "metadata": {},
     "output_type": "display_data"
    },
    {
     "data": {
      "image/png": "[encoded data removed]",
      "text/plain": [
       "<matplotlib.figure.Figure at 0x13b07cef0>"
      ]
     },
     "metadata": {},
     "output_type": "display_data"
    }
   ],
   "source": [
    "fig = plt.figure()\n",
    "\n",
    "plt.subplot(2,2,1)\n",
    "plot_bar_x(beer_ipa.appearance)\n",
    "\n",
    "plt.subplot(2,2,2)\n",
    "plot_bar_x(beer_ipa.aroma)\n",
    "\n",
    "plt.subplot(2,2,3)\n",
    "plot_bar_x(beer_ipa.palate)\n",
    "\n",
    "plt.subplot(2,2,4)\n",
    "plot_bar_x(beer_ipa.taste)\n",
    "\n",
    "\n",
    "plt.show()"
   ]
  },
  {
   "cell_type": "code",
   "execution_count": 80,
   "metadata": {
    "collapsed": false
   },
   "outputs": [
    {
     "data": {
      "text/plain": [
       "4    3577\n",
       "3    3563\n",
       "5     465\n",
       "2     195\n",
       "1      18\n",
       "Name: appearance, dtype: int64"
      ]
     },
     "execution_count": 80,
     "metadata": {},
     "output_type": "execute_result"
    }
   ],
   "source": [
    "beer_ipa.appearance.value_counts()"
   ]
  },
  {
   "cell_type": "code",
   "execution_count": 81,
   "metadata": {
    "collapsed": false,
    "scrolled": true
   },
   "outputs": [
    {
     "data": {
      "text/plain": [
       "4.0    5288\n",
       "3.0    1735\n",
       "2.0     697\n",
       "5.0      80\n",
       "1.0      12\n",
       "0.0       6\n",
       "Name: aroma, dtype: int64"
      ]
     },
     "execution_count": 81,
     "metadata": {},
     "output_type": "execute_result"
    }
   ],
   "source": [
    "beer_ipa.aroma.value_counts()"
   ]
  },
  {
   "cell_type": "code",
   "execution_count": 82,
   "metadata": {
    "collapsed": false
   },
   "outputs": [
    {
     "data": {
      "text/plain": [
       "3    4018\n",
       "4    3034\n",
       "2     422\n",
       "5     315\n",
       "1      29\n",
       "Name: palate, dtype: int64"
      ]
     },
     "execution_count": 82,
     "metadata": {},
     "output_type": "execute_result"
    }
   ],
   "source": [
    "beer_ipa.palate.value_counts()"
   ]
  },
  {
   "cell_type": "code",
   "execution_count": 83,
   "metadata": {
    "collapsed": false
   },
   "outputs": [
    {
     "data": {
      "text/plain": [
       "4.0    5385\n",
       "3.0    1618\n",
       "2.0     731\n",
       "5.0      64\n",
       "1.0      16\n",
       "0.0       4\n",
       "Name: taste, dtype: int64"
      ]
     },
     "execution_count": 83,
     "metadata": {},
     "output_type": "execute_result"
    }
   ],
   "source": [
    "beer_ipa.taste.value_counts()"
   ]
  },
  {
   "cell_type": "markdown",
   "metadata": {
    "collapsed": true
   },
   "source": [
    "\n",
    "\n",
    "## Sources\n",
    "***\n",
    "Lipton, Zachary & Vikram, Sharad & McAuley, Julian. (2015). Capturing Meaning in Product Reviews with Character-Level Generative Text Models.\n",
    "https://www.researchgate.net/publication/283761921_Capturing_Meaning_in_Product_Reviews_with_Character-Level_Generative_Text_Models"
   ]
  }
 ],
 "metadata": {
  "anaconda-cloud": {},
  "kernelspec": {
   "display_name": "Python [default]",
   "language": "python",
   "name": "python3"
  },
  "language_info": {
   "codemirror_mode": {
    "name": "ipython",
    "version": 3
   },
   "file_extension": ".py",
   "mimetype": "text/x-python",
   "name": "python",
   "nbconvert_exporter": "python",
   "pygments_lexer": "ipython3",
   "version": "3.5.2"
  }
 },
 "nbformat": 4,
 "nbformat_minor": 2
}
