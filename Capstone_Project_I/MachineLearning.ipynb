{
 "cells": [
  {
   "cell_type": "code",
   "execution_count": 1,
   "metadata": {},
   "outputs": [],
   "source": [
    "# import modules\n",
    "import pandas as pd\n",
    "import matplotlib.pyplot as plt\n",
    "import seaborn as sns\n",
    "import scipy.stats\n",
    "from scipy.stats import norm\n",
    "import numpy as np\n",
    "import scipy as sp\n",
    "import pickle\n",
    "\n",
    "# Build figures inline\n",
    "%matplotlib inline"
   ]
  },
  {
   "cell_type": "code",
   "execution_count": 146,
   "metadata": {},
   "outputs": [],
   "source": [
    "# Import scikit-learn tools, vectorizers, transformer, and classifiers\n",
    "from sklearn.model_selection import train_test_split\n",
    "from sklearn import metrics\n",
    "from sklearn.metrics import roc_curve\n",
    "from sklearn.metrics import precision_recall_curve\n",
    "\n",
    "# import CountVectorizer and TfidfVectorizer\n",
    "from sklearn.feature_extraction.text import CountVectorizer\n",
    "from sklearn.feature_extraction.text import TfidfVectorizer\n",
    "\n",
    "# import Multinomial Naive Bayes classifier\n",
    "from sklearn.naive_bayes import MultinomialNB\n",
    "\n",
    "# import Random Forest Classifier\n",
    "from sklearn.ensemble import RandomForestClassifier\n",
    "\n",
    "# import Logistic Regression CV Classifier\n",
    "from sklearn.linear_model import LogisticRegressionCV\n",
    "\n",
    "# import SVM classifiers\n",
    "from sklearn.svm import SVC\n",
    "\n",
    "# Import GridSearchCV\n",
    "from sklearn.model_selection import GridSearchCV"
   ]
  },
  {
   "cell_type": "code",
   "execution_count": 91,
   "metadata": {},
   "outputs": [],
   "source": [
    "with open('beerML.pickle', 'rb') as b:\n",
    "    beer = pickle.load(b)"
   ]
  },
  {
   "cell_type": "code",
   "execution_count": 92,
   "metadata": {},
   "outputs": [],
   "source": [
    "beer = beer.drop(['ABV', 'profileName', 'word_count', 'log_word_count'], axis=1)"
   ]
  },
  {
   "cell_type": "code",
   "execution_count": 93,
   "metadata": {},
   "outputs": [
    {
     "data": {
      "text/html": [
       "<div>\n",
       "<style scoped>\n",
       "    .dataframe tbody tr th:only-of-type {\n",
       "        vertical-align: middle;\n",
       "    }\n",
       "\n",
       "    .dataframe tbody tr th {\n",
       "        vertical-align: top;\n",
       "    }\n",
       "\n",
       "    .dataframe thead th {\n",
       "        text-align: right;\n",
       "    }\n",
       "</style>\n",
       "<table border=\"1\" class=\"dataframe\">\n",
       "  <thead>\n",
       "    <tr style=\"text-align: right;\">\n",
       "      <th></th>\n",
       "      <th>name</th>\n",
       "      <th>style</th>\n",
       "      <th>appearance</th>\n",
       "      <th>aroma</th>\n",
       "      <th>palate</th>\n",
       "      <th>taste</th>\n",
       "      <th>overall</th>\n",
       "      <th>text</th>\n",
       "      <th>clean_text_stem</th>\n",
       "      <th>clean_text_lem</th>\n",
       "      <th>3rate_appear</th>\n",
       "      <th>3rate_aroma</th>\n",
       "      <th>3rate_palate</th>\n",
       "      <th>3rate_taste</th>\n",
       "      <th>high_low</th>\n",
       "    </tr>\n",
       "  </thead>\n",
       "  <tbody>\n",
       "    <tr>\n",
       "      <th>0</th>\n",
       "      <td>John Harvards Simcoe IPA</td>\n",
       "      <td>India Pale Ale (IPA)</td>\n",
       "      <td>4</td>\n",
       "      <td>3</td>\n",
       "      <td>3</td>\n",
       "      <td>3</td>\n",
       "      <td>3.25</td>\n",
       "      <td>On tap at the Springfield, PA location. Poured...</td>\n",
       "      <td>tap springfield pa location pour deep cloudi o...</td>\n",
       "      <td>tap springfield pa location pour deep cloudy o...</td>\n",
       "      <td>high</td>\n",
       "      <td>medium</td>\n",
       "      <td>medium</td>\n",
       "      <td>medium</td>\n",
       "      <td>low</td>\n",
       "    </tr>\n",
       "    <tr>\n",
       "      <th>1</th>\n",
       "      <td>John Harvards Simcoe IPA</td>\n",
       "      <td>India Pale Ale (IPA)</td>\n",
       "      <td>4</td>\n",
       "      <td>3</td>\n",
       "      <td>4</td>\n",
       "      <td>4</td>\n",
       "      <td>3.75</td>\n",
       "      <td>On tap at the John Harvards in Springfield PA....</td>\n",
       "      <td>tap john harvard springfield pa pour rubi red ...</td>\n",
       "      <td>tap john harvard springfield pa pour ruby red ...</td>\n",
       "      <td>high</td>\n",
       "      <td>medium</td>\n",
       "      <td>high</td>\n",
       "      <td>high</td>\n",
       "      <td>high</td>\n",
       "    </tr>\n",
       "    <tr>\n",
       "      <th>2</th>\n",
       "      <td>John Harvards Vanilla Black Velvet Stout</td>\n",
       "      <td>Sweet Stout</td>\n",
       "      <td>5</td>\n",
       "      <td>4</td>\n",
       "      <td>4</td>\n",
       "      <td>4</td>\n",
       "      <td>4.25</td>\n",
       "      <td>Springfield, PA location... Poured an opaque b...</td>\n",
       "      <td>springfield pa location pour opaqu black color...</td>\n",
       "      <td>springfield pa location pour opaque black colo...</td>\n",
       "      <td>high</td>\n",
       "      <td>high</td>\n",
       "      <td>high</td>\n",
       "      <td>high</td>\n",
       "      <td>high</td>\n",
       "    </tr>\n",
       "    <tr>\n",
       "      <th>3</th>\n",
       "      <td>John Harvards American Brown Ale</td>\n",
       "      <td>Brown Ale</td>\n",
       "      <td>4</td>\n",
       "      <td>3</td>\n",
       "      <td>3</td>\n",
       "      <td>3</td>\n",
       "      <td>3.25</td>\n",
       "      <td>On tap at the Springfield, PA location. Listed...</td>\n",
       "      <td>tap springfield pa location list beer menu jam...</td>\n",
       "      <td>tap springfield pa location list beer menu jam...</td>\n",
       "      <td>high</td>\n",
       "      <td>medium</td>\n",
       "      <td>medium</td>\n",
       "      <td>medium</td>\n",
       "      <td>low</td>\n",
       "    </tr>\n",
       "    <tr>\n",
       "      <th>4</th>\n",
       "      <td>John Harvards Grand Cru</td>\n",
       "      <td>Belgian Ale</td>\n",
       "      <td>2</td>\n",
       "      <td>3</td>\n",
       "      <td>3</td>\n",
       "      <td>4</td>\n",
       "      <td>3.00</td>\n",
       "      <td>Sampled @ the Springfield, PA location.   Cand...</td>\n",
       "      <td>sampl springfield pa location candi sugar domi...</td>\n",
       "      <td>sample springfield pa location candi sugar dom...</td>\n",
       "      <td>low</td>\n",
       "      <td>medium</td>\n",
       "      <td>medium</td>\n",
       "      <td>high</td>\n",
       "      <td>low</td>\n",
       "    </tr>\n",
       "  </tbody>\n",
       "</table>\n",
       "</div>"
      ],
      "text/plain": [
       "                                       name                 style  appearance  \\\n",
       "0                  John Harvards Simcoe IPA  India Pale Ale (IPA)           4   \n",
       "1                  John Harvards Simcoe IPA  India Pale Ale (IPA)           4   \n",
       "2  John Harvards Vanilla Black Velvet Stout           Sweet Stout           5   \n",
       "3          John Harvards American Brown Ale             Brown Ale           4   \n",
       "4                   John Harvards Grand Cru           Belgian Ale           2   \n",
       "\n",
       "   aroma  palate  taste  overall  \\\n",
       "0      3       3      3     3.25   \n",
       "1      3       4      4     3.75   \n",
       "2      4       4      4     4.25   \n",
       "3      3       3      3     3.25   \n",
       "4      3       3      4     3.00   \n",
       "\n",
       "                                                text  \\\n",
       "0  On tap at the Springfield, PA location. Poured...   \n",
       "1  On tap at the John Harvards in Springfield PA....   \n",
       "2  Springfield, PA location... Poured an opaque b...   \n",
       "3  On tap at the Springfield, PA location. Listed...   \n",
       "4  Sampled @ the Springfield, PA location.   Cand...   \n",
       "\n",
       "                                     clean_text_stem  \\\n",
       "0  tap springfield pa location pour deep cloudi o...   \n",
       "1  tap john harvard springfield pa pour rubi red ...   \n",
       "2  springfield pa location pour opaqu black color...   \n",
       "3  tap springfield pa location list beer menu jam...   \n",
       "4  sampl springfield pa location candi sugar domi...   \n",
       "\n",
       "                                      clean_text_lem 3rate_appear 3rate_aroma  \\\n",
       "0  tap springfield pa location pour deep cloudy o...         high      medium   \n",
       "1  tap john harvard springfield pa pour ruby red ...         high      medium   \n",
       "2  springfield pa location pour opaque black colo...         high        high   \n",
       "3  tap springfield pa location list beer menu jam...         high      medium   \n",
       "4  sample springfield pa location candi sugar dom...          low      medium   \n",
       "\n",
       "  3rate_palate 3rate_taste high_low  \n",
       "0       medium      medium      low  \n",
       "1         high        high     high  \n",
       "2         high        high     high  \n",
       "3       medium      medium      low  \n",
       "4       medium        high      low  "
      ]
     },
     "execution_count": 93,
     "metadata": {},
     "output_type": "execute_result"
    }
   ],
   "source": [
    "beer.head()"
   ]
  },
  {
   "cell_type": "code",
   "execution_count": 94,
   "metadata": {},
   "outputs": [],
   "source": [
    "beer_overall = beer.drop(['aroma','palate','taste','appearance', '3rate_aroma',\n",
    "                          '3rate_palate', '3rate_taste', '3rate_appear'], axis=1)"
   ]
  },
  {
   "cell_type": "code",
   "execution_count": 95,
   "metadata": {},
   "outputs": [
    {
     "data": {
      "text/html": [
       "<div>\n",
       "<style scoped>\n",
       "    .dataframe tbody tr th:only-of-type {\n",
       "        vertical-align: middle;\n",
       "    }\n",
       "\n",
       "    .dataframe tbody tr th {\n",
       "        vertical-align: top;\n",
       "    }\n",
       "\n",
       "    .dataframe thead th {\n",
       "        text-align: right;\n",
       "    }\n",
       "</style>\n",
       "<table border=\"1\" class=\"dataframe\">\n",
       "  <thead>\n",
       "    <tr style=\"text-align: right;\">\n",
       "      <th></th>\n",
       "      <th>name</th>\n",
       "      <th>style</th>\n",
       "      <th>overall</th>\n",
       "      <th>text</th>\n",
       "      <th>clean_text_stem</th>\n",
       "      <th>clean_text_lem</th>\n",
       "      <th>high_low</th>\n",
       "    </tr>\n",
       "  </thead>\n",
       "  <tbody>\n",
       "    <tr>\n",
       "      <th>0</th>\n",
       "      <td>John Harvards Simcoe IPA</td>\n",
       "      <td>India Pale Ale (IPA)</td>\n",
       "      <td>3.25</td>\n",
       "      <td>On tap at the Springfield, PA location. Poured...</td>\n",
       "      <td>tap springfield pa location pour deep cloudi o...</td>\n",
       "      <td>tap springfield pa location pour deep cloudy o...</td>\n",
       "      <td>low</td>\n",
       "    </tr>\n",
       "    <tr>\n",
       "      <th>1</th>\n",
       "      <td>John Harvards Simcoe IPA</td>\n",
       "      <td>India Pale Ale (IPA)</td>\n",
       "      <td>3.75</td>\n",
       "      <td>On tap at the John Harvards in Springfield PA....</td>\n",
       "      <td>tap john harvard springfield pa pour rubi red ...</td>\n",
       "      <td>tap john harvard springfield pa pour ruby red ...</td>\n",
       "      <td>high</td>\n",
       "    </tr>\n",
       "    <tr>\n",
       "      <th>2</th>\n",
       "      <td>John Harvards Vanilla Black Velvet Stout</td>\n",
       "      <td>Sweet Stout</td>\n",
       "      <td>4.25</td>\n",
       "      <td>Springfield, PA location... Poured an opaque b...</td>\n",
       "      <td>springfield pa location pour opaqu black color...</td>\n",
       "      <td>springfield pa location pour opaque black colo...</td>\n",
       "      <td>high</td>\n",
       "    </tr>\n",
       "    <tr>\n",
       "      <th>3</th>\n",
       "      <td>John Harvards American Brown Ale</td>\n",
       "      <td>Brown Ale</td>\n",
       "      <td>3.25</td>\n",
       "      <td>On tap at the Springfield, PA location. Listed...</td>\n",
       "      <td>tap springfield pa location list beer menu jam...</td>\n",
       "      <td>tap springfield pa location list beer menu jam...</td>\n",
       "      <td>low</td>\n",
       "    </tr>\n",
       "    <tr>\n",
       "      <th>4</th>\n",
       "      <td>John Harvards Grand Cru</td>\n",
       "      <td>Belgian Ale</td>\n",
       "      <td>3.00</td>\n",
       "      <td>Sampled @ the Springfield, PA location.   Cand...</td>\n",
       "      <td>sampl springfield pa location candi sugar domi...</td>\n",
       "      <td>sample springfield pa location candi sugar dom...</td>\n",
       "      <td>low</td>\n",
       "    </tr>\n",
       "  </tbody>\n",
       "</table>\n",
       "</div>"
      ],
      "text/plain": [
       "                                       name                 style  overall  \\\n",
       "0                  John Harvards Simcoe IPA  India Pale Ale (IPA)     3.25   \n",
       "1                  John Harvards Simcoe IPA  India Pale Ale (IPA)     3.75   \n",
       "2  John Harvards Vanilla Black Velvet Stout           Sweet Stout     4.25   \n",
       "3          John Harvards American Brown Ale             Brown Ale     3.25   \n",
       "4                   John Harvards Grand Cru           Belgian Ale     3.00   \n",
       "\n",
       "                                                text  \\\n",
       "0  On tap at the Springfield, PA location. Poured...   \n",
       "1  On tap at the John Harvards in Springfield PA....   \n",
       "2  Springfield, PA location... Poured an opaque b...   \n",
       "3  On tap at the Springfield, PA location. Listed...   \n",
       "4  Sampled @ the Springfield, PA location.   Cand...   \n",
       "\n",
       "                                     clean_text_stem  \\\n",
       "0  tap springfield pa location pour deep cloudi o...   \n",
       "1  tap john harvard springfield pa pour rubi red ...   \n",
       "2  springfield pa location pour opaqu black color...   \n",
       "3  tap springfield pa location list beer menu jam...   \n",
       "4  sampl springfield pa location candi sugar domi...   \n",
       "\n",
       "                                      clean_text_lem high_low  \n",
       "0  tap springfield pa location pour deep cloudy o...      low  \n",
       "1  tap john harvard springfield pa pour ruby red ...     high  \n",
       "2  springfield pa location pour opaque black colo...     high  \n",
       "3  tap springfield pa location list beer menu jam...      low  \n",
       "4  sample springfield pa location candi sugar dom...      low  "
      ]
     },
     "execution_count": 95,
     "metadata": {},
     "output_type": "execute_result"
    }
   ],
   "source": [
    "beer_overall.head()"
   ]
  },
  {
   "cell_type": "code",
   "execution_count": 96,
   "metadata": {},
   "outputs": [
    {
     "data": {
      "text/html": [
       "<div>\n",
       "<style scoped>\n",
       "    .dataframe tbody tr th:only-of-type {\n",
       "        vertical-align: middle;\n",
       "    }\n",
       "\n",
       "    .dataframe tbody tr th {\n",
       "        vertical-align: top;\n",
       "    }\n",
       "\n",
       "    .dataframe thead th {\n",
       "        text-align: right;\n",
       "    }\n",
       "</style>\n",
       "<table border=\"1\" class=\"dataframe\">\n",
       "  <thead>\n",
       "    <tr style=\"text-align: right;\">\n",
       "      <th></th>\n",
       "      <th>name</th>\n",
       "      <th>style</th>\n",
       "      <th>overall</th>\n",
       "      <th>text</th>\n",
       "      <th>clean_text_stem</th>\n",
       "      <th>clean_text_lem</th>\n",
       "      <th>high_low</th>\n",
       "    </tr>\n",
       "  </thead>\n",
       "  <tbody>\n",
       "    <tr>\n",
       "      <th>0</th>\n",
       "      <td>John Harvards Simcoe IPA</td>\n",
       "      <td>India Pale Ale (IPA)</td>\n",
       "      <td>3.25</td>\n",
       "      <td>On tap at the Springfield, PA location. Poured...</td>\n",
       "      <td>tap springfield pa location pour deep cloudi o...</td>\n",
       "      <td>tap springfield pa location pour deep cloudy o...</td>\n",
       "      <td>low</td>\n",
       "    </tr>\n",
       "    <tr>\n",
       "      <th>1</th>\n",
       "      <td>John Harvards Simcoe IPA</td>\n",
       "      <td>India Pale Ale (IPA)</td>\n",
       "      <td>3.75</td>\n",
       "      <td>On tap at the John Harvards in Springfield PA....</td>\n",
       "      <td>tap john harvard springfield pa pour rubi red ...</td>\n",
       "      <td>tap john harvard springfield pa pour ruby red ...</td>\n",
       "      <td>high</td>\n",
       "    </tr>\n",
       "    <tr>\n",
       "      <th>20</th>\n",
       "      <td>Barley Island Barfly IPA</td>\n",
       "      <td>India Pale Ale (IPA)</td>\n",
       "      <td>3.75</td>\n",
       "      <td>Another quality session IPA.  The lowest ABV o...</td>\n",
       "      <td>anoth qualiti session ipa lowest abv ani ipa w...</td>\n",
       "      <td>another quality session ipa low abv ipa would ...</td>\n",
       "      <td>high</td>\n",
       "    </tr>\n",
       "    <tr>\n",
       "      <th>21</th>\n",
       "      <td>Barley Island Barfly IPA</td>\n",
       "      <td>India Pale Ale (IPA)</td>\n",
       "      <td>3.25</td>\n",
       "      <td>Received in a trade with mmm///beer, so thanks...</td>\n",
       "      <td>receiv trade mmmbeer thank bro beer wa quit ni...</td>\n",
       "      <td>receive trade mmmbeer thank bro beer quite nic...</td>\n",
       "      <td>low</td>\n",
       "    </tr>\n",
       "    <tr>\n",
       "      <th>22</th>\n",
       "      <td>Barley Island Barfly IPA</td>\n",
       "      <td>India Pale Ale (IPA)</td>\n",
       "      <td>3.75</td>\n",
       "      <td>bottle thanks to mmm///beer.  deep ruby color ...</td>\n",
       "      <td>bottl thank mmmbeer deep rubi color finger cre...</td>\n",
       "      <td>bottle thank mmmbeer deep ruby color finger cr...</td>\n",
       "      <td>high</td>\n",
       "    </tr>\n",
       "  </tbody>\n",
       "</table>\n",
       "</div>"
      ],
      "text/plain": [
       "                        name                 style  overall  \\\n",
       "0   John Harvards Simcoe IPA  India Pale Ale (IPA)     3.25   \n",
       "1   John Harvards Simcoe IPA  India Pale Ale (IPA)     3.75   \n",
       "20  Barley Island Barfly IPA  India Pale Ale (IPA)     3.75   \n",
       "21  Barley Island Barfly IPA  India Pale Ale (IPA)     3.25   \n",
       "22  Barley Island Barfly IPA  India Pale Ale (IPA)     3.75   \n",
       "\n",
       "                                                 text  \\\n",
       "0   On tap at the Springfield, PA location. Poured...   \n",
       "1   On tap at the John Harvards in Springfield PA....   \n",
       "20  Another quality session IPA.  The lowest ABV o...   \n",
       "21  Received in a trade with mmm///beer, so thanks...   \n",
       "22  bottle thanks to mmm///beer.  deep ruby color ...   \n",
       "\n",
       "                                      clean_text_stem  \\\n",
       "0   tap springfield pa location pour deep cloudi o...   \n",
       "1   tap john harvard springfield pa pour rubi red ...   \n",
       "20  anoth qualiti session ipa lowest abv ani ipa w...   \n",
       "21  receiv trade mmmbeer thank bro beer wa quit ni...   \n",
       "22  bottl thank mmmbeer deep rubi color finger cre...   \n",
       "\n",
       "                                       clean_text_lem high_low  \n",
       "0   tap springfield pa location pour deep cloudy o...      low  \n",
       "1   tap john harvard springfield pa pour ruby red ...     high  \n",
       "20  another quality session ipa low abv ipa would ...     high  \n",
       "21  receive trade mmmbeer thank bro beer quite nic...      low  \n",
       "22  bottle thank mmmbeer deep ruby color finger cr...     high  "
      ]
     },
     "execution_count": 96,
     "metadata": {},
     "output_type": "execute_result"
    }
   ],
   "source": [
    "ipa = beer_overall[beer_overall['style'] == 'India Pale Ale (IPA)']\n",
    "ipa.head()"
   ]
  },
  {
   "cell_type": "markdown",
   "metadata": {},
   "source": [
    "# Machine Learning\n",
    "\n",
    "### Build baseline model w/ Naive Bayes"
   ]
  },
  {
   "cell_type": "code",
   "execution_count": 97,
   "metadata": {},
   "outputs": [],
   "source": [
    "# Store overall beer dataset into feature matrix and response vector\n",
    "X_overall = beer_overall['clean_text_lem']\n",
    "y_overall = (beer_overall.high_low == 'high').values.astype(np.int)"
   ]
  },
  {
   "cell_type": "code",
   "execution_count": 98,
   "metadata": {},
   "outputs": [],
   "source": [
    "# Instantiate CountVectorizer and TfidfVectorizer\n",
    "vect = CountVectorizer(min_df=1, ngram_range=(1, 2)) \n",
    "tfidf_vect = TfidfVectorizer(min_df=1, ngram_range=(1, 2))"
   ]
  },
  {
   "cell_type": "code",
   "execution_count": 99,
   "metadata": {},
   "outputs": [],
   "source": [
    "tfidf = TfidfVectorizer(min_df=1, ngram_range=(1, 2))"
   ]
  },
  {
   "cell_type": "code",
   "execution_count": 100,
   "metadata": {},
   "outputs": [],
   "source": [
    "# Apply CountVectorizer \n",
    "X_all_C = vect.fit_transform(beer_overall.clean_text_lem.apply(str))\n",
    "X_all_C = X_all_C.tocsc() \n",
    "\n",
    "# Apply TfidfVectorizer\n",
    "X_all_idf = tfidf_vect.fit_transform(beer_overall.clean_text_lem.apply(str))\n",
    "X_all_idf = X_all_idf.tocsc() "
   ]
  },
  {
   "cell_type": "code",
   "execution_count": 101,
   "metadata": {},
   "outputs": [],
   "source": [
    "# Split train/test data for all data\n",
    "# This is for CountVectorizer\n",
    "Xtrain_all_C, Xtest_all_C, ytrain_all_C, ytest_all_C = train_test_split(X_all_C, y_overall, random_state=17)\n",
    "\n",
    "# This is for Tfidf Vectorizer\n",
    "Xtrain_all_idf, Xtest_all_idf, ytrain_all_idf, ytest_all_idf = train_test_split(X_all_idf, y_overall, random_state=17)"
   ]
  },
  {
   "cell_type": "code",
   "execution_count": 102,
   "metadata": {},
   "outputs": [
    {
     "name": "stdout",
     "output_type": "stream",
     "text": [
      "CountVectorizer(analyzer='word', binary=False, decode_error='strict',\n",
      "        dtype=<class 'numpy.int64'>, encoding='utf-8', input='content',\n",
      "        lowercase=True, max_df=1.0, max_features=None, min_df=1,\n",
      "        ngram_range=(1, 2), preprocessor=None, stop_words=None,\n",
      "        strip_accents=None, token_pattern='(?u)\\\\b\\\\w\\\\w+\\\\b',\n",
      "        tokenizer=None, vocabulary=None)\n",
      "\n",
      "F1 Score:  0.8359566014669927\n",
      "\n",
      "Confusion Matrix:\n",
      " [[ 5117  2874]\n",
      " [ 1420 10941]]\n",
      "\n",
      "AUC:  0.8532420295945957\n"
     ]
    }
   ],
   "source": [
    "# Instantiate MultinomialNB() for CountVectorizer\n",
    "nb_overall = MultinomialNB(alpha=1, fit_prior=True)\n",
    "\n",
    "# Train model\n",
    "nb_overall.fit(Xtrain_all_C, ytrain_all_C)\n",
    "\n",
    "# Make predictions for Xtest\n",
    "y_pred_count = nb_overall.predict(Xtest_all_C)\n",
    "\n",
    "# Calculate F1 Score\n",
    "f1 = metrics.f1_score(ytest_all_C, y_pred_count)\n",
    "\n",
    "# Confusion matrix\n",
    "cm = metrics.confusion_matrix(ytest_all_C, y_pred_count)\n",
    "\n",
    "# Calculate predicted probabilities for Xtest\n",
    "y_prob_count = nb_overall.predict_proba(Xtest_all_C)[:,1]\n",
    "\n",
    "# Calculate AUC for Naive Bayes model with CountVec\n",
    "auc = metrics.roc_auc_score(ytest_all_C, y_prob_count)\n",
    "\n",
    "print(vect)\n",
    "print('\\nF1 Score: ', f1)\n",
    "print('\\nConfusion Matrix:\\n', cm)\n",
    "print('\\nAUC: ', auc)"
   ]
  },
  {
   "cell_type": "markdown",
   "metadata": {},
   "source": [
    "Using CountVectorizer, at baseline the Naive Bayes model correctly predicted 10941 \"high\" overall ratings. Likewise, 5117 were correctly predicted to be \"low\" overall ratings. \n",
    "\n",
    "However, 1420 reviews were incorrectly predicted to be \"high\" overall ratings and 1420 were incorrectly predicted to be \"low\" overall ratings.\n",
    "\n",
    "Let's see how the TfidfVectorizer does."
   ]
  },
  {
   "cell_type": "code",
   "execution_count": 103,
   "metadata": {},
   "outputs": [
    {
     "name": "stdout",
     "output_type": "stream",
     "text": [
      "TfidfVectorizer(analyzer='word', binary=False, decode_error='strict',\n",
      "        dtype=<class 'numpy.float64'>, encoding='utf-8', input='content',\n",
      "        lowercase=True, max_df=1.0, max_features=None, min_df=1,\n",
      "        ngram_range=(1, 2), norm='l2', preprocessor=None, smooth_idf=True,\n",
      "        stop_words=None, strip_accents=None, sublinear_tf=False,\n",
      "        token_pattern='(?u)\\\\b\\\\w\\\\w+\\\\b', tokenizer=None, use_idf=True,\n",
      "        vocabulary=None)\n",
      "\n",
      "F1 Score:  0.79622211366227\n",
      "\n",
      "Confusion Matrix:\n",
      " [[ 1871  6120]\n",
      " [  137 12224]]\n",
      "\n",
      "AUC:  0.8476943830638852\n"
     ]
    }
   ],
   "source": [
    "# Instantiate multinomialNB() for TfidfVectorizer\n",
    "nb_tfidf_overall = MultinomialNB(alpha=1, fit_prior=True)\n",
    "\n",
    "# Train model\n",
    "nb_tfidf_overall.fit(Xtrain_all_idf, ytrain_all_idf)\n",
    "\n",
    "# Make predictions for Xtest1\n",
    "y_pred_tfidf = nb_tfidf_overall.predict(Xtest_all_idf)\n",
    "\n",
    "# Calculate F1 Score\n",
    "f1 = metrics.f1_score(ytest_all_idf, y_pred_tfidf)\n",
    "\n",
    "# Confusion matrix\n",
    "cm = metrics.confusion_matrix(ytest_all_idf, y_pred_tfidf)\n",
    "\n",
    "# Calculate predicted probabilities for Xtest1\n",
    "y_prob_tfidf = nb_tfidf_overall.predict_proba(Xtest_all_idf)[:,1]\n",
    "\n",
    "# Calculate AUC for Naive Bayes model with Tfidf\n",
    "auc = metrics.roc_auc_score(ytest_all_idf, y_prob_tfidf)\n",
    "\n",
    "print(tfidf_vect)\n",
    "print('\\nF1 Score: ', f1)\n",
    "print('\\nConfusion Matrix:\\n', cm)\n",
    "print('\\nAUC: ', auc)"
   ]
  },
  {
   "cell_type": "markdown",
   "metadata": {},
   "source": [
    "Using TfidfVectorizer at baseline, the Naive Bayes model correctly predicted 12224 \"high\" overall ratings and 1871 \"low\" overall ratings. \n",
    "\n",
    "However, 137 reviews were incorrectly predicted to be \"high\" overall ratings and 6120 for \"low\" overall ratings. \n",
    "\n",
    "This did better in predicting high overall ratings but did poorly for low ones. Parameters definitely need to be tuned.\n",
    "\n",
    "***\n",
    "\n",
    "### Picking Hyperparameters\n",
    "\n",
    "I want to look at the alpha, min_df and fit_prior to see if I can make the model better.\n",
    "\n",
    "__min_df:__"
   ]
  },
  {
   "cell_type": "code",
   "execution_count": 104,
   "metadata": {},
   "outputs": [
    {
     "data": {
      "image/png": "[encoded data removed]",
      "text/plain": [
       "<Figure size 1080x720 with 1 Axes>"
      ]
     },
     "metadata": {
      "needs_background": "light"
     },
     "output_type": "display_data"
    }
   ],
   "source": [
    "words = list((X_all_C>0).sum(axis=0).tolist()[0])\n",
    "\n",
    "fig, ax = plt.subplots(figsize=(15,10))\n",
    "bins = np.arange(sum(words))\n",
    "plt.hist(words, bins=bins, histtype='step', density=True, cumulative=True)\n",
    "plt.xlim(0,20)\n",
    "plt.xticks([x for x in range(0,20,1)])\n",
    "plt.xlabel('document frequency count')\n",
    "plt.ylabel('% Words Appearing less than x(i)')\n",
    "plt.title('Cumulative Dist. of Document Frequencies(df) - CountVec')\n",
    "plt.show()"
   ]
  },
  {
   "cell_type": "code",
   "execution_count": 105,
   "metadata": {},
   "outputs": [
    {
     "name": "stdout",
     "output_type": "stream",
     "text": [
      "\n",
      " Best Values: \n",
      " Min_df: 0.0001, F1: 0.8543327265339999, AUC: 0.8212088903469205\n"
     ]
    }
   ],
   "source": [
    "best_df = None\n",
    "best_auc = -np.inf\n",
    "best_f1 = None\n",
    "pos_df = [.0001, .001, .01, .1, 1]\n",
    "\n",
    "for min_df in pos_df:\n",
    "    vect = CountVectorizer(min_df=min_df, ngram_range=(1, 2)) \n",
    "    \n",
    "    X = vect.fit_transform(beer_overall.clean_text_lem.apply(str))\n",
    "    X = X.tocsc() \n",
    "    \n",
    "    Xtrain, Xtest, ytrain, ytest = train_test_split(X, y_overall, random_state=17)\n",
    "    \n",
    "    nb = MultinomialNB(alpha=1, fit_prior=True)\n",
    "    nb.fit(Xtrain, ytrain)\n",
    "    y_pred_count = nb.predict(Xtest)\n",
    "    f1 = metrics.f1_score(ytest, y_pred_count)\n",
    "    y_prob_count = nb.predict_proba(Xtest)[:,1]\n",
    "    auc = metrics.roc_auc_score(ytest, y_prob_count)\n",
    "    if auc > best_auc:\n",
    "        best_auc = auc\n",
    "        best_df = min_df\n",
    "        best_f1 = f1\n",
    "\n",
    "print('\\n Best Values: \\n Min_df: {}, F1: {}, AUC: {}'.format(best_df, best_auc, best_f1))"
   ]
  },
  {
   "cell_type": "code",
   "execution_count": 106,
   "metadata": {},
   "outputs": [
    {
     "name": "stdout",
     "output_type": "stream",
     "text": [
      "\n",
      " Best Values: \n",
      " Min_df: 0.0001, F1: 0.8595300325275933, AUC: 0.8360847720146575\n"
     ]
    }
   ],
   "source": [
    "best_df = None\n",
    "best_auc = -np.inf\n",
    "best_f1 = None\n",
    "pos_df = [.0001, .001, .01, .1, 1]\n",
    "\n",
    "for min_df in pos_df:\n",
    "    vect = TfidfVectorizer(min_df=min_df, ngram_range=(1, 2)) \n",
    "    \n",
    "    X = vect.fit_transform(beer_overall.clean_text_lem.apply(str))\n",
    "    X = X.tocsc() \n",
    "    \n",
    "    Xtrain, Xtest, ytrain, ytest = train_test_split(X, y_overall, random_state=17)\n",
    "    \n",
    "    nb = MultinomialNB(alpha=1, fit_prior=True)\n",
    "    nb.fit(Xtrain, ytrain)\n",
    "    y_pred_count = nb.predict(Xtest)\n",
    "    f1 = metrics.f1_score(ytest, y_pred_count)\n",
    "    y_prob_count = nb.predict_proba(Xtest)[:,1]\n",
    "    auc = metrics.roc_auc_score(ytest, y_prob_count)\n",
    "    if auc > best_auc:\n",
    "        best_auc = auc\n",
    "        best_df = min_df\n",
    "        best_f1 = f1\n",
    "\n",
    "print('\\n Best Values: \\n Min_df: {}, F1: {}, AUC: {}'.format(best_df, best_auc, best_f1))"
   ]
  },
  {
   "cell_type": "markdown",
   "metadata": {},
   "source": [
    "min_df for both vectorizers works best at .0001. Let's now look at more parameters.\n",
    "\n",
    "__GridSearchCV:__"
   ]
  },
  {
   "cell_type": "code",
   "execution_count": 107,
   "metadata": {},
   "outputs": [],
   "source": [
    "# Instantiate Vectorizers with new min_df \n",
    "vect = CountVectorizer(min_df=.0001, ngram_range=(1, 2)) \n",
    "tfidf_vect = TfidfVectorizer(min_df=.0001, ngram_range=(1, 2))\n",
    "\n",
    "# Apply CountVectorizer \n",
    "X_all_C = vect.fit_transform(beer_overall.clean_text_lem.apply(str))\n",
    "X_all_C = X_all_C.tocsc() \n",
    "\n",
    "# Apply TfidfVectorizer\n",
    "X_all_idf = tfidf_vect.fit_transform(beer_overall.clean_text_lem.apply(str))\n",
    "X_all_idf = X_all_idf.tocsc() \n",
    "\n",
    "# Split train/test data for all data\n",
    "# This is for CountVectorizer\n",
    "Xtrain_all_C, Xtest_all_C, ytrain_all_C, ytest_all_C = train_test_split(X_all_C, y_overall, random_state=17)\n",
    "\n",
    "# This is for Tfidf Vectorizer\n",
    "Xtrain_all_idf, Xtest_all_idf, ytrain_all_idf, ytest_all_idf = train_test_split(X_all_idf, y_overall, random_state=17)"
   ]
  },
  {
   "cell_type": "code",
   "execution_count": 108,
   "metadata": {},
   "outputs": [],
   "source": [
    "# Create a list of parameters for tuning\n",
    "parameters = {'fit_prior': (True, False),\n",
    "              'alpha': (0.001, 0.01, 0.1, 1, 5, 10),\n",
    "             }"
   ]
  },
  {
   "cell_type": "code",
   "execution_count": 109,
   "metadata": {},
   "outputs": [
    {
     "name": "stdout",
     "output_type": "stream",
     "text": [
      "GridSearchCV(cv=5, error_score='raise-deprecating',\n",
      "       estimator=MultinomialNB(alpha=1.0, class_prior=None, fit_prior=True),\n",
      "       fit_params=None, iid='warn', n_jobs=-1,\n",
      "       param_grid={'fit_prior': (True, False), 'alpha': (0.001, 0.01, 0.1, 1, 5, 10)},\n",
      "       pre_dispatch='2*n_jobs', refit=True, return_train_score='warn',\n",
      "       scoring='roc_auc', verbose=0)\n",
      "\n",
      "Best Score:  0.8528010913890626\n"
     ]
    }
   ],
   "source": [
    "# Perform GridSearch on Naive Bayes using the given parameters and CountVectorizer\n",
    "gs_count_all = GridSearchCV(MultinomialNB(), parameters, scoring='roc_auc', n_jobs=-1, cv=5)\n",
    "gs_count_all.fit(Xtrain_all_C, ytrain_all_C)\n",
    "\n",
    "# Show the best score and parameters used\n",
    "print(gs_count_all)\n",
    "print('\\nBest Score: ', gs_count_all.best_score_)"
   ]
  },
  {
   "cell_type": "code",
   "execution_count": 110,
   "metadata": {},
   "outputs": [
    {
     "name": "stdout",
     "output_type": "stream",
     "text": [
      "GridSearchCV(cv=5, error_score='raise-deprecating',\n",
      "       estimator=MultinomialNB(alpha=1.0, class_prior=None, fit_prior=True),\n",
      "       fit_params=None, iid='warn', n_jobs=-1,\n",
      "       param_grid={'fit_prior': (True, False), 'alpha': (0.001, 0.01, 0.1, 1, 5, 10)},\n",
      "       pre_dispatch='2*n_jobs', refit=True, return_train_score='warn',\n",
      "       scoring='roc_auc', verbose=0)\n",
      "\n",
      "Best Score:  0.8567292195676448\n"
     ]
    }
   ],
   "source": [
    "# Perform GridSearch on Naive Bayes using the given parameters and TfidfVectorizer\n",
    "gs_tfidf_all = GridSearchCV(MultinomialNB(), parameters, scoring='roc_auc', n_jobs=-1, cv=5)\n",
    "gs_tfidf_all.fit(Xtrain_all_idf, ytrain_all_idf)\n",
    "\n",
    "# Show the best score and parameters used\n",
    "print(gs_tfidf_all)\n",
    "print('\\nBest Score: ', gs_tfidf_all.best_score_)"
   ]
  },
  {
   "cell_type": "code",
   "execution_count": 137,
   "metadata": {},
   "outputs": [
    {
     "name": "stdout",
     "output_type": "stream",
     "text": [
      "AUC:  0.8592639577707916\n"
     ]
    }
   ],
   "source": [
    "# Calculate predicted probabilities for Xtest1\n",
    "y_prob_nb = gs_tfidf_all.predict_proba(Xtest_all_idf)[:,1]\n",
    "\n",
    "# Calculate AUC for Naive Bayes model with CountVec\n",
    "auc = metrics.roc_auc_score(ytest_all_idf, y_prob_nb)\n",
    "\n",
    "print('AUC: ', auc)"
   ]
  },
  {
   "cell_type": "markdown",
   "metadata": {},
   "source": [
    "__Interpretation:__\n",
    "\n",
    "The Naive Bayes model using a minimum document frequency of .0001 performs well when using lemmatized tokens. GridSearchCV indicated that the best parameters were the default ones. For further algorithms I will continue to use the TfidfVectorizer because it provided slightly better results. \n",
    "\n",
    "Next I will look further into the text to further improve the model amongst other algorithms and classifiers.\n",
    "\n",
    "***\n",
    "### Examine text\n",
    "__Look at False Negatives and False Positives__"
   ]
  },
  {
   "cell_type": "code",
   "execution_count": 111,
   "metadata": {},
   "outputs": [],
   "source": [
    "X_train, X_test, y_train, y_test = train_test_split(X_overall, y_overall, random_state=17)"
   ]
  },
  {
   "cell_type": "code",
   "execution_count": 112,
   "metadata": {},
   "outputs": [],
   "source": [
    "y_pred_gstfidf = gs_tfidf_all.predict(Xtest_all_idf)\n",
    "\n",
    "fp = X_test[ytest_all_idf < y_pred_gstfidf]\n",
    "fn = X_test[ytest_all_idf > y_pred_gstfidf]"
   ]
  },
  {
   "cell_type": "markdown",
   "metadata": {},
   "source": [
    "1. False Positives"
   ]
  },
  {
   "cell_type": "code",
   "execution_count": 113,
   "metadata": {},
   "outputs": [
    {
     "name": "stdout",
     "output_type": "stream",
     "text": [
      "40935    hazy amber color cotton candy apple nose tobac...\n",
      "74219    dark brown color beige head aroma sweet malt b...\n",
      "60307    bottle pour ruby thin head roasted malt aroma ...\n",
      "56063    oz bottle pour light golden amber light tan wi...\n",
      "71139    draught brewpubre amber color twin sister iris...\n",
      "Name: clean_text_lem, dtype: object\n"
     ]
    }
   ],
   "source": [
    "print(fp[0:5])"
   ]
  },
  {
   "cell_type": "code",
   "execution_count": 116,
   "metadata": {
    "scrolled": true
   },
   "outputs": [
    {
     "name": "stdout",
     "output_type": "stream",
     "text": [
      "Hazy amber color, cotton candy and apples in the nose. Tobacco, apples, slightly sour mouth. Flowery dry finish. \n",
      " Predicted Prob:  [[0.35494527 0.64505473]] \n",
      "\n",
      "Dark brown in color with a beige head. Aroma is of sweet malt, brown sugar, and chocolate. Taste is of chocolate and toffee. \n",
      " Predicted Prob:  [[0.10028479 0.89971521]] \n",
      "\n",
      "Bottle...  Poured ruby with a thin head.  Roasted malt aroma.  Highly carbonated, with flavors caramel hops and malt to balance. Has a full body and the flavors are really amped.  Chalky aftertaste. \n",
      " Predicted Prob:  [[0.21189355 0.78810645]] \n",
      "\n",
      "22 oz bottle.  Pours a light golden amber with a light off tan wispy head. Heavy hop nose with a slightly sweet smell. Medium body. Good hop taste not overpowering, a good balance with the malt flavor. \n",
      " Predicted Prob:  [[0.24313403 0.75686597]] \n",
      "\n",
      "Draught at the brewpubRed amber color. Its the twin sister of the Irish Honey Ale, but mellower, sweeter, more perfumy (so far, better) and a light breadish character. \n",
      " Predicted Prob:  [[0.47764306 0.52235694]]\n"
     ]
    }
   ],
   "source": [
    "print(beer_overall.text[40935], '\\n', 'Predicted Prob: ',\n",
    "      gs_tfidf_all.predict_proba(tfidf_vect.transform([beer_overall.clean_text_lem[40935]])), '\\n')\n",
    "print(beer_overall.text[74219], '\\n', 'Predicted Prob: ',\n",
    "      gs_tfidf_all.predict_proba(tfidf_vect.transform([beer_overall.clean_text_lem[74219]])), '\\n')\n",
    "print(beer_overall.text[60307], '\\n', 'Predicted Prob: ',\n",
    "      gs_tfidf_all.predict_proba(tfidf_vect.transform([beer_overall.clean_text_lem[60307]])), '\\n')\n",
    "print(beer_overall.text[56063], '\\n', 'Predicted Prob: ',\n",
    "      gs_tfidf_all.predict_proba(tfidf_vect.transform([beer_overall.clean_text_lem[56063]])), '\\n')\n",
    "print(beer_overall.text[71139], '\\n', 'Predicted Prob: ',\n",
    "      gs_tfidf_all.predict_proba(tfidf_vect.transform([beer_overall.clean_text_lem[71139]])))"
   ]
  },
  {
   "cell_type": "markdown",
   "metadata": {},
   "source": [
    "2. False Negatives"
   ]
  },
  {
   "cell_type": "code",
   "execution_count": 117,
   "metadata": {},
   "outputs": [
    {
     "name": "stdout",
     "output_type": "stream",
     "text": [
      "4491     dark amber colour nice beige head spicy aroma ...\n",
      "25737    bottle grslstasting pour clear copper colour t...\n",
      "68900    bottle trade clevar pour slightly hazy orangis...\n",
      "59597    wonderful bready grainy nutty aroma light gole...\n",
      "24416    ml bottle brewery hazy reddish orange pinkyish...\n",
      "Name: clean_text_lem, dtype: object\n"
     ]
    }
   ],
   "source": [
    "print(fn[0:5])"
   ]
  },
  {
   "cell_type": "code",
   "execution_count": 118,
   "metadata": {},
   "outputs": [
    {
     "name": "stdout",
     "output_type": "stream",
     "text": [
      "Dark amber coloured. Nice beige head. Spicy aroma of primarily corriander. Flavour of caramel, ligth citrus and some alcahol burn. Not much aftertaste, but a decent beer though. \n",
      " Predicted Prob:  [[0.51526669 0.48473331]] \n",
      "\n",
      "Bottle at Grslstasting. Poured clear copper colour with thin white head. Crisp grassy aroma. Flavour is grassy and a bit sweet. Very well balanced. Bitter finish. \n",
      " Predicted Prob:  [[0.80864077 0.19135923]] \n",
      "\n",
      "Bottle from a trade from CLevar. Pours slightly hazy orangish color with off white head. Floral and grassy hop aroma with some caramel.  Lightly sweet caramel flavor with some hop bitterness. Medium body with average carbonation. Thanks Caleb, \n",
      " Predicted Prob:  [[0.51449196 0.48550804]] \n",
      "\n",
      "Wonderful bready, grainy, nutty aroma.  Light goledn appearance, but MUCH more flavor than it looks to have.  Rich and yeasty/bready, I can alomst taste the oats.  Full aftertaste with a hint of warmth going down.  Overall a wonderful lighter beer. \n",
      " Predicted Prob:  [[0.59028172 0.40971828]] \n",
      "\n",
      "500ml bottle at the brewery, hazy reddish-orange-pinkyish hue, with no head, nice yeasty, funky, acidic, tart raspberry sourness nose, with a good musty, oakiness accent, within a sharp fruity aroma follows through on a medium-bodied palate with a dazzling yeasty funkiness, with a tart fruity raspberry sourness character, reminiscent of a raspberry lambic, with a dry acidic raspberry fruity flavor, underlaying some wet oakiness, within a well hidden alcoholic content leading towards a raspberry fruity, acidic, dry finish. \n",
      " Predicted Prob:  [[0.8202261 0.1797739]]\n"
     ]
    }
   ],
   "source": [
    "print(beer_overall.text[4491], '\\n', 'Predicted Prob: ',\n",
    "      gs_tfidf_all.predict_proba(tfidf_vect.transform([beer_overall.clean_text_lem[4491]])), '\\n')\n",
    "print(beer_overall.text[25737], '\\n', 'Predicted Prob: ',\n",
    "      gs_tfidf_all.predict_proba(tfidf_vect.transform([beer_overall.clean_text_lem[25737]])), '\\n')\n",
    "print(beer_overall.text[68900], '\\n', 'Predicted Prob: ',\n",
    "      gs_tfidf_all.predict_proba(tfidf_vect.transform([beer_overall.clean_text_lem[68900]])), '\\n')\n",
    "print(beer_overall.text[59597], '\\n', 'Predicted Prob: ',\n",
    "      gs_tfidf_all.predict_proba(tfidf_vect.transform([beer_overall.clean_text_lem[59597]])), '\\n')\n",
    "print(beer_overall.text[24416], '\\n', 'Predicted Prob: ',\n",
    "      gs_tfidf_all.predict_proba(tfidf_vect.transform([beer_overall.clean_text_lem[24416]])))"
   ]
  },
  {
   "cell_type": "markdown",
   "metadata": {},
   "source": [
    "If you look at each of the reviews up above that were incorrectly considered a \"high\" overall rating beer, you will notice that they are very neutral and objective. For reviews like these it is harder to gain a precise prediction.\n",
    "\n",
    "The same can be said for the false negatives. They are most likely on the cusp of the 3.5 separation I made for the high and low ratings.\n",
    "\n",
    "Next before applying different classifiers I want to see if creating a model for a subset of the beers, in this case IPAs, will create a better model.\n",
    "\n",
    "### IPA Naive Bayes\n"
   ]
  },
  {
   "cell_type": "code",
   "execution_count": 28,
   "metadata": {},
   "outputs": [],
   "source": [
    "# Store overall beer dataset into feature matrix and response vector\n",
    "X_ipa = ipa['clean_text_lem']\n",
    "y_ipa = (ipa.high_low == 'high').values.astype(np.int)"
   ]
  },
  {
   "cell_type": "code",
   "execution_count": 29,
   "metadata": {},
   "outputs": [
    {
     "name": "stdout",
     "output_type": "stream",
     "text": [
      "\n",
      " Best Values: \n",
      " Min_df: 0.001, F1: 0.8101679929266136, AUC: 0.8374011687865245\n"
     ]
    }
   ],
   "source": [
    "best_df = None\n",
    "best_auc = -np.inf\n",
    "best_f1 = None\n",
    "pos_df = [.0001, .001, .01, .1, 1]\n",
    "\n",
    "for min_df in pos_df:\n",
    "    vect = CountVectorizer(min_df=min_df, ngram_range=(1, 2))\n",
    "    \n",
    "    X = vect.fit_transform(ipa.clean_text_lem.apply(str))\n",
    "    X = X.tocsc() \n",
    "    \n",
    "    Xtrain, Xtest, ytrain, ytest = train_test_split(X, y_ipa, random_state=17)\n",
    "    \n",
    "    nb = MultinomialNB(alpha=1, fit_prior=True)\n",
    "    nb.fit(Xtrain, ytrain)\n",
    "    y_pred_count = nb.predict(Xtest)\n",
    "    f1 = metrics.f1_score(ytest, y_pred_count)\n",
    "    y_prob_count = nb.predict_proba(Xtest)[:,1]\n",
    "    auc = metrics.roc_auc_score(ytest, y_prob_count)\n",
    "    if auc > best_auc:\n",
    "        best_auc = auc\n",
    "        best_df = min_df\n",
    "        best_f1 = f1\n",
    "\n",
    "print('\\n Best Values: \\n Min_df: {}, F1: {}, AUC: {}'.format(best_df, best_auc, best_f1))"
   ]
  },
  {
   "cell_type": "code",
   "execution_count": 30,
   "metadata": {},
   "outputs": [
    {
     "name": "stdout",
     "output_type": "stream",
     "text": [
      "\n",
      " Best Values: \n",
      " Min_df: 0.001, F1: 0.8066454465075155, AUC: 0.8456336371655395\n"
     ]
    }
   ],
   "source": [
    "best_df = None\n",
    "best_auc = -np.inf\n",
    "best_f1 = None\n",
    "pos_df = [.0001, .001, .01, .1, 1]\n",
    "\n",
    "for min_df in pos_df:\n",
    "    vect = TfidfVectorizer(min_df=min_df, ngram_range=(1, 2)) \n",
    "    \n",
    "    X = vect.fit_transform(ipa.clean_text_lem.apply(str))\n",
    "    X = X.tocsc() \n",
    "    \n",
    "    Xtrain, Xtest, ytrain, ytest = train_test_split(X, y_ipa, random_state=17)\n",
    "    \n",
    "    nb = MultinomialNB(alpha=1, fit_prior=True)\n",
    "    nb.fit(Xtrain, ytrain)\n",
    "    y_pred_count = nb.predict(Xtest)\n",
    "    f1 = metrics.f1_score(ytest, y_pred_count)\n",
    "    y_prob_count = nb.predict_proba(Xtest)[:,1]\n",
    "    auc = metrics.roc_auc_score(ytest, y_prob_count)\n",
    "    if auc > best_auc:\n",
    "        best_auc = auc\n",
    "        best_df = min_df\n",
    "        best_f1 = f1\n",
    "\n",
    "print('\\n Best Values: \\n Min_df: {}, F1: {}, AUC: {}'.format(best_df, best_auc, best_f1))"
   ]
  },
  {
   "cell_type": "code",
   "execution_count": 31,
   "metadata": {},
   "outputs": [],
   "source": [
    "# Store overall beer dataset into feature matrix and response vector\n",
    "X_ipa = ipa['clean_text_lem']\n",
    "y_ipa = (ipa.high_low == 'high').values.astype(np.int)\n",
    "\n",
    "# Instantiate CountVectorizer and TfidfVectorizer\n",
    "vect = CountVectorizer(min_df=.001, ngram_range=(1, 2)) \n",
    "tfidf_vect = TfidfVectorizer(min_df=.001, ngram_range=(1, 2))\n",
    "\n",
    "\n",
    "# Apply CountVectorizer \n",
    "X_ipa_C = vect.fit_transform(ipa.clean_text_lem.apply(str))\n",
    "X_ipa_C = X_ipa_C.tocsc() \n",
    "\n",
    "# Apply TfidfVectorizer\n",
    "X_ipa_idf = tfidf_vect.fit_transform(ipa.clean_text_lem.apply(str))\n",
    "X_ipa_idf = X_ipa_idf.tocsc() \n",
    "\n",
    "\n",
    "# Split train/test data for all data\n",
    "# This is for CountVectorizer\n",
    "Xtrain_ipa_C, Xtest_ipa_C, ytrain_ipa_C, ytest_ipa_C = train_test_split(X_ipa_C, y_ipa, random_state=17)\n",
    "\n",
    "# This is for Tfidf Vectorizer\n",
    "Xtrain_ipa_idf, Xtest_ipa_idf, ytrain_ipa_idf, ytest_ipa_idf = train_test_split(X_ipa_idf, y_ipa, random_state=17)"
   ]
  },
  {
   "cell_type": "code",
   "execution_count": 32,
   "metadata": {},
   "outputs": [
    {
     "name": "stdout",
     "output_type": "stream",
     "text": [
      "CountVectorizer(analyzer='word', binary=False, decode_error='strict',\n",
      "        dtype=<class 'numpy.int64'>, encoding='utf-8', input='content',\n",
      "        lowercase=True, max_df=1.0, max_features=None, min_df=0.001,\n",
      "        ngram_range=(1, 2), preprocessor=None, stop_words=None,\n",
      "        strip_accents=None, token_pattern='(?u)\\\\b\\\\w\\\\w+\\\\b',\n",
      "        tokenizer=None, vocabulary=None)\n",
      "\n",
      "F1 Score:  0.8374011687865245\n",
      "\n",
      "Confusion Matrix:\n",
      " [[ 344  241]\n",
      " [ 232 1218]]\n",
      "\n",
      "AUC:  0.8101679929266136\n"
     ]
    }
   ],
   "source": [
    "# Instantiate MultinomialNB() for CountVectorizer\n",
    "nb_ipa = MultinomialNB(alpha=1, fit_prior=True)\n",
    "\n",
    "# Train model\n",
    "nb_ipa.fit(Xtrain_ipa_C, ytrain_ipa_C)\n",
    "\n",
    "# Make predictions for Xtest\n",
    "y_pred_count = nb_ipa.predict(Xtest_ipa_C)\n",
    "\n",
    "# Calculate F1 Score\n",
    "f1 = metrics.f1_score(ytest_ipa_C, y_pred_count)\n",
    "\n",
    "# Confusion matrix\n",
    "cm = metrics.confusion_matrix(ytest_ipa_C, y_pred_count)\n",
    "\n",
    "# Calculate predicted probabilities for Xtest\n",
    "y_prob_count = nb_ipa.predict_proba(Xtest_ipa_C)[:,1]\n",
    "\n",
    "# Calculate AUC for Naive Bayes model with CountVec\n",
    "auc = metrics.roc_auc_score(ytest_ipa_C, y_prob_count)\n",
    "\n",
    "print(vect)\n",
    "print('\\nF1 Score: ', f1)\n",
    "print('\\nConfusion Matrix:\\n', cm)\n",
    "print('\\nAUC: ', auc)"
   ]
  },
  {
   "cell_type": "code",
   "execution_count": 33,
   "metadata": {},
   "outputs": [
    {
     "name": "stdout",
     "output_type": "stream",
     "text": [
      "TfidfVectorizer(analyzer='word', binary=False, decode_error='strict',\n",
      "        dtype=<class 'numpy.float64'>, encoding='utf-8', input='content',\n",
      "        lowercase=True, max_df=1.0, max_features=None, min_df=0.001,\n",
      "        ngram_range=(1, 2), norm='l2', preprocessor=None, smooth_idf=True,\n",
      "        stop_words=None, strip_accents=None, sublinear_tf=False,\n",
      "        token_pattern='(?u)\\\\b\\\\w\\\\w+\\\\b', tokenizer=None, use_idf=True,\n",
      "        vocabulary=None)\n",
      "\n",
      "F1 Score:  0.8456336371655395\n",
      "\n",
      "Confusion Matrix:\n",
      " [[  72  513]\n",
      " [  12 1438]]\n",
      "\n",
      "AUC:  0.8066454465075155\n"
     ]
    }
   ],
   "source": [
    "# Instantiate multinomialNB() for TfidfVectorizer\n",
    "nb_tfidf_ipa = MultinomialNB(alpha=1, fit_prior=True)\n",
    "\n",
    "# Train model\n",
    "nb_tfidf_ipa.fit(Xtrain_ipa_idf, ytrain_ipa_idf)\n",
    "\n",
    "# Make predictions for Xtest1\n",
    "y_pred_tfidf = nb_tfidf_ipa.predict(Xtest_ipa_idf)\n",
    "\n",
    "# Calculate F1 Score\n",
    "f1 = metrics.f1_score(ytest_ipa_idf, y_pred_tfidf)\n",
    "\n",
    "# Confusion matrix\n",
    "cm = metrics.confusion_matrix(ytest_ipa_idf, y_pred_tfidf)\n",
    "\n",
    "# Calculate predicted probabilities for Xtest1\n",
    "y_prob_tfidf = nb_tfidf_ipa.predict_proba(Xtest_ipa_idf)[:,1]\n",
    "\n",
    "# Calculate AUC for Naive Bayes model with Tfidf\n",
    "auc = metrics.roc_auc_score(ytest_ipa_idf, y_prob_tfidf)\n",
    "\n",
    "print(tfidf_vect)\n",
    "print('\\nF1 Score: ', f1)\n",
    "print('\\nConfusion Matrix:\\n', cm)\n",
    "print('\\nAUC: ', auc)"
   ]
  },
  {
   "cell_type": "code",
   "execution_count": 34,
   "metadata": {},
   "outputs": [
    {
     "name": "stdout",
     "output_type": "stream",
     "text": [
      "GridSearchCV(cv=5, error_score='raise-deprecating',\n",
      "       estimator=MultinomialNB(alpha=1.0, class_prior=None, fit_prior=True),\n",
      "       fit_params=None, iid='warn', n_jobs=-1,\n",
      "       param_grid={'fit_prior': (True, False), 'alpha': (0.001, 0.01, 0.1, 1, 5, 10)},\n",
      "       pre_dispatch='2*n_jobs', refit=True, return_train_score='warn',\n",
      "       scoring='roc_auc', verbose=0)\n",
      "\n",
      "Best Score:  0.7995704448127914\n"
     ]
    }
   ],
   "source": [
    "# Perform GridSearch on Naive Bayes using the given parameters and CountVectorizer\n",
    "gs_count_ipa = GridSearchCV(MultinomialNB(), parameters, scoring='roc_auc', n_jobs=-1, cv=5)\n",
    "gs_count_ipa.fit(Xtrain_ipa_C, ytrain_ipa_C)\n",
    "\n",
    "# Show the best score and parameters used\n",
    "print(gs_count_ipa)\n",
    "print('\\nBest Score: ', gs_count_ipa.best_score_)"
   ]
  },
  {
   "cell_type": "code",
   "execution_count": 35,
   "metadata": {},
   "outputs": [
    {
     "name": "stdout",
     "output_type": "stream",
     "text": [
      "GridSearchCV(cv=5, error_score='raise-deprecating',\n",
      "       estimator=MultinomialNB(alpha=1.0, class_prior=None, fit_prior=True),\n",
      "       fit_params=None, iid='warn', n_jobs=-1,\n",
      "       param_grid={'fit_prior': (True, False), 'alpha': (0.001, 0.01, 0.1, 1, 5, 10)},\n",
      "       pre_dispatch='2*n_jobs', refit=True, return_train_score='warn',\n",
      "       scoring='roc_auc', verbose=0)\n",
      "\n",
      "Best Score:  0.7904826909160307\n"
     ]
    }
   ],
   "source": [
    "# Perform GridSearch on Naive Bayes using the given parameters and TfidfVectorizer\n",
    "gs_tfidf_ipa = GridSearchCV(MultinomialNB(), parameters, scoring='roc_auc', n_jobs=-1, cv=5)\n",
    "gs_tfidf_ipa.fit(Xtrain_ipa_idf, ytrain_ipa_idf)\n",
    "\n",
    "# Show the best score and parameters used\n",
    "print(gs_tfidf_ipa)\n",
    "print('\\nBest Score: ', gs_tfidf_ipa.best_score_)"
   ]
  },
  {
   "cell_type": "markdown",
   "metadata": {},
   "source": [
    "### Compare Models. Does IPA Naive Bayes model work better on overall dataset?"
   ]
  },
  {
   "cell_type": "code",
   "execution_count": 36,
   "metadata": {},
   "outputs": [
    {
     "name": "stdout",
     "output_type": "stream",
     "text": [
      "GridSearchCV(cv=5, error_score='raise-deprecating',\n",
      "       estimator=MultinomialNB(alpha=1.0, class_prior=None, fit_prior=True),\n",
      "       fit_params=None, iid='warn', n_jobs=-1,\n",
      "       param_grid={'fit_prior': (True, False), 'alpha': (0.001, 0.01, 0.1, 1, 5, 10)},\n",
      "       pre_dispatch='2*n_jobs', refit=True, return_train_score='warn',\n",
      "       scoring='roc_auc', verbose=0)\n",
      "\n",
      "Best Score:  0.8567292195676448\n"
     ]
    }
   ],
   "source": [
    "gs_tfidf_ipa.fit(Xtrain_all_idf, ytrain_all_idf)\n",
    "# Show the best score and parameters used\n",
    "print(gs_tfidf_ipa)\n",
    "print('\\nBest Score: ', gs_tfidf_ipa.best_score_)"
   ]
  },
  {
   "cell_type": "code",
   "execution_count": 39,
   "metadata": {},
   "outputs": [
    {
     "name": "stdout",
     "output_type": "stream",
     "text": [
      "GridSearchCV(cv=5, error_score='raise-deprecating',\n",
      "       estimator=MultinomialNB(alpha=1.0, class_prior=None, fit_prior=True),\n",
      "       fit_params=None, iid='warn', n_jobs=-1,\n",
      "       param_grid={'fit_prior': (True, False), 'alpha': (0.001, 0.01, 0.1, 1, 5, 10)},\n",
      "       pre_dispatch='2*n_jobs', refit=True, return_train_score='warn',\n",
      "       scoring='roc_auc', verbose=0)\n",
      "\n",
      "Best Score:  0.7904826909160307\n"
     ]
    }
   ],
   "source": [
    "gs_tfidf_all_ipa = gs_tfidf_all\n",
    "gs_tfidf_all_ipa.fit(Xtrain_ipa_idf, ytrain_ipa_idf)\n",
    "print(gs_tfidf_all_ipa)\n",
    "print('\\nBest Score: ', gs_tfidf_all_ipa.best_score_)"
   ]
  },
  {
   "cell_type": "markdown",
   "metadata": {},
   "source": [
    "Does not create a better result using the IPA model. \n",
    "\n",
    "To conclude using Naive Bayes, when looking at the entire dataset a TFIDF Vectorizer worked best with standard parameters. The area under the curve came out to be 0.8567292195676448. This can be seen in the graph below.\n",
    "\n",
    "Moving forward I will use the split data using the TFIDF Vectorizer with different classifiers."
   ]
  },
  {
   "cell_type": "code",
   "execution_count": 37,
   "metadata": {},
   "outputs": [],
   "source": [
    "y_pred_prob = gs_tfidf_all.predict_proba(Xtest_all_idf)[:,1]"
   ]
  },
  {
   "cell_type": "code",
   "execution_count": 135,
   "metadata": {},
   "outputs": [
    {
     "data": {
      "image/png": "[encoded data removed]",
      "text/plain": [
       "<Figure size 720x720 with 1 Axes>"
      ]
     },
     "metadata": {
      "needs_background": "light"
     },
     "output_type": "display_data"
    }
   ],
   "source": [
    "fpr, tpr, thresholds = roc_curve(ytest_all_idf, y_pred_prob)\n",
    "\n",
    "# Plot ROC curve for Naive Bayes with CountVectorizer\n",
    "plt.figure(figsize=(10,10))\n",
    "plt.plot([0, 1], [0, 1], 'k--')\n",
    "plt.plot(fpr, tpr)\n",
    "plt.xlabel('False Positive Rate')\n",
    "plt.ylabel('True Positive Rate')\n",
    "plt.title('ROC Curve with TfidfVectorizer, MNB')\n",
    "plt.show()"
   ]
  },
  {
   "cell_type": "markdown",
   "metadata": {},
   "source": [
    "***\n",
    "\n",
    "## Experiment with Other Classifiers \n",
    "### 1. Logistic Regression"
   ]
  },
  {
   "cell_type": "code",
   "execution_count": 40,
   "metadata": {},
   "outputs": [
    {
     "data": {
      "text/plain": [
       "0.8282099149554034"
      ]
     },
     "execution_count": 40,
     "metadata": {},
     "output_type": "execute_result"
    }
   ],
   "source": [
    "# Instantiate and fit training data to Logistic Regression Model\n",
    "log_clf = LogisticRegressionCV(scoring='roc_auc', class_weight='balanced', cv=5, max_iter=1000).fit(Xtrain_all_idf, \n",
    "                                                                                                    ytrain_all_idf)\n",
    "# Predict ratings for Logistic Regression Model\n",
    "pred_log_clf = log_clf.predict(Xtest_all_idf)\n",
    "\n",
    "# Calculate F1 Score\n",
    "metrics.f1_score(ytest_all_idf, pred_log_clf)"
   ]
  },
  {
   "cell_type": "code",
   "execution_count": 41,
   "metadata": {},
   "outputs": [
    {
     "data": {
      "text/plain": [
       "LogisticRegressionCV(Cs=10, class_weight='balanced', cv=5, dual=False,\n",
       "           fit_intercept=True, intercept_scaling=1.0, max_iter=1000,\n",
       "           multi_class='warn', n_jobs=None, penalty='l2',\n",
       "           random_state=None, refit=True, scoring='roc_auc',\n",
       "           solver='lbfgs', tol=0.0001, verbose=0)"
      ]
     },
     "execution_count": 41,
     "metadata": {},
     "output_type": "execute_result"
    }
   ],
   "source": [
    "log_clf"
   ]
  },
  {
   "cell_type": "code",
   "execution_count": 42,
   "metadata": {},
   "outputs": [],
   "source": [
    "# Calculate Predicted Probabilities\n",
    "pred_prob_log_clf = log_clf.predict_proba(Xtest_all_idf)[:,1]"
   ]
  },
  {
   "cell_type": "code",
   "execution_count": 43,
   "metadata": {},
   "outputs": [
    {
     "data": {
      "text/plain": [
       "0.8733554720786474"
      ]
     },
     "execution_count": 43,
     "metadata": {},
     "output_type": "execute_result"
    }
   ],
   "source": [
    "# Determine ROC Score\n",
    "metrics.roc_auc_score(ytest_all_idf, pred_prob_log_clf)"
   ]
  },
  {
   "cell_type": "code",
   "execution_count": 134,
   "metadata": {},
   "outputs": [
    {
     "data": {
      "image/png": "[encoded data removed]",
      "text/plain": [
       "<Figure size 720x720 with 1 Axes>"
      ]
     },
     "metadata": {
      "needs_background": "light"
     },
     "output_type": "display_data"
    }
   ],
   "source": [
    "# Generate ROC curve values: fpr, tpr, thresholds\n",
    "fpr, tpr, thresholds = roc_curve(ytest_all_idf, pred_prob_log_clf)\n",
    "\n",
    "# Plot ROC curve\n",
    "plt.figure(figsize=(10,10))\n",
    "plt.plot([0, 1], [0, 1], 'k--')\n",
    "plt.plot(fpr, tpr)\n",
    "plt.xlabel('False Positive Rate')\n",
    "plt.ylabel('True Positive Rate')\n",
    "plt.title('ROC Curve for LogisticRegressionCV')\n",
    "plt.show()"
   ]
  },
  {
   "cell_type": "markdown",
   "metadata": {},
   "source": [
    "***\n",
    "### 2. Random Forests"
   ]
  },
  {
   "cell_type": "code",
   "execution_count": 126,
   "metadata": {},
   "outputs": [
    {
     "data": {
      "text/plain": [
       "0.8339733110291603"
      ]
     },
     "execution_count": 126,
     "metadata": {},
     "output_type": "execute_result"
    }
   ],
   "source": [
    "# Instantiate and fit Random Forests Model\n",
    "randofor_clf = RandomForestClassifier(class_weight='balanced',\n",
    "                                     n_estimators=100).fit(Xtrain_all_idf, ytrain_all_idf)\n",
    "\n",
    "# Predict Ratings using Random Forests Model\n",
    "pred_randofor_clf = randofor_clf.predict(Xtest_all_idf)\n",
    "\n",
    "# Calculate F1 Score\n",
    "metrics.f1_score(ytest_all_idf, pred_randofor_clf)"
   ]
  },
  {
   "cell_type": "code",
   "execution_count": 127,
   "metadata": {},
   "outputs": [],
   "source": [
    "parameters = {'max_features': [500, 600, 700, 800],\n",
    "              'min_samples_leaf': (5,6,7,8,9),\n",
    "              }"
   ]
  },
  {
   "cell_type": "code",
   "execution_count": 128,
   "metadata": {},
   "outputs": [
    {
     "data": {
      "text/plain": [
       "GridSearchCV(cv=5, error_score='raise-deprecating',\n",
       "       estimator=RandomForestClassifier(bootstrap=True, class_weight='balanced',\n",
       "            criterion='gini', max_depth=None, max_features='auto',\n",
       "            max_leaf_nodes=None, min_impurity_decrease=0.0,\n",
       "            min_impurity_split=None, min_samples_leaf=1,\n",
       "            min_samples_split=2, min_weight_fraction_leaf=0.0,\n",
       "            n_estimators=100, n_jobs=None, oob_score=False,\n",
       "            random_state=None, verbose=0, warm_start=False),\n",
       "       fit_params=None, iid='warn', n_jobs=-1,\n",
       "       param_grid={'max_features': [500, 600, 700, 800], 'min_samples_leaf': (5, 6, 7, 8, 9)},\n",
       "       pre_dispatch='2*n_jobs', refit=True, return_train_score='warn',\n",
       "       scoring='roc_auc', verbose=0)"
      ]
     },
     "execution_count": 128,
     "metadata": {},
     "output_type": "execute_result"
    }
   ],
   "source": [
    "# create an instance of the grid search by passing the classifier, parameters \n",
    "# and n_jobs=-1 which tells to use multiple cores from user machine.\n",
    "gs_rf = GridSearchCV(RandomForestClassifier(class_weight='balanced', n_estimators=100), \n",
    "                     parameters, scoring='roc_auc', n_jobs=-1, cv=5)\n",
    "gs_rf.fit(Xtrain_all_idf, ytrain_all_idf)"
   ]
  },
  {
   "cell_type": "code",
   "execution_count": 129,
   "metadata": {},
   "outputs": [
    {
     "data": {
      "text/plain": [
       "GridSearchCV(cv=5, error_score='raise-deprecating',\n",
       "       estimator=RandomForestClassifier(bootstrap=True, class_weight='balanced',\n",
       "            criterion='gini', max_depth=None, max_features='auto',\n",
       "            max_leaf_nodes=None, min_impurity_decrease=0.0,\n",
       "            min_impurity_split=None, min_samples_leaf=1,\n",
       "            min_samples_split=2, min_weight_fraction_leaf=0.0,\n",
       "            n_estimators=100, n_jobs=None, oob_score=False,\n",
       "            random_state=None, verbose=0, warm_start=False),\n",
       "       fit_params=None, iid='warn', n_jobs=-1,\n",
       "       param_grid={'max_features': [500, 600, 700, 800], 'min_samples_leaf': (5, 6, 7, 8, 9)},\n",
       "       pre_dispatch='2*n_jobs', refit=True, return_train_score='warn',\n",
       "       scoring='roc_auc', verbose=0)"
      ]
     },
     "execution_count": 129,
     "metadata": {},
     "output_type": "execute_result"
    }
   ],
   "source": [
    "gs_rf"
   ]
  },
  {
   "cell_type": "code",
   "execution_count": 130,
   "metadata": {},
   "outputs": [
    {
     "name": "stdout",
     "output_type": "stream",
     "text": [
      "Best Score:  0.8467779669624498\n",
      "Best Parameters:  {'max_features': 500, 'min_samples_leaf': 5}\n"
     ]
    }
   ],
   "source": [
    "# Get best parameters and best accuracy score\n",
    "print('Best Score: ', gs_rf.best_score_)\n",
    "print('Best Parameters: ', gs_rf.best_params_)"
   ]
  },
  {
   "cell_type": "code",
   "execution_count": 131,
   "metadata": {},
   "outputs": [],
   "source": [
    "# calculate predicted probabilities\n",
    "pred_prob_randofor_clf = gs_rf.predict_proba(Xtest_all_idf)[:, 1]"
   ]
  },
  {
   "cell_type": "code",
   "execution_count": 132,
   "metadata": {},
   "outputs": [
    {
     "data": {
      "text/plain": [
       "0.8513179077939098"
      ]
     },
     "execution_count": 132,
     "metadata": {},
     "output_type": "execute_result"
    }
   ],
   "source": [
    "# Determine ROC score\n",
    "metrics.roc_auc_score(ytest_all_idf, pred_prob_randofor_clf)"
   ]
  },
  {
   "cell_type": "code",
   "execution_count": 133,
   "metadata": {},
   "outputs": [
    {
     "data": {
      "image/png": "[encoded data removed]",
      "text/plain": [
       "<Figure size 720x720 with 1 Axes>"
      ]
     },
     "metadata": {
      "needs_background": "light"
     },
     "output_type": "display_data"
    }
   ],
   "source": [
    "# Generate ROC curve values: fpr, tpr, thresholds\n",
    "fpr, tpr, thresholds = roc_curve(ytest_all_idf, pred_prob_randofor_clf)\n",
    "\n",
    "# Plot ROC curve\n",
    "plt.figure(figsize=(10,10))\n",
    "plt.plot([0, 1], [0, 1], 'k--')\n",
    "plt.plot(fpr, tpr)\n",
    "plt.xlabel('False Positive Rate')\n",
    "plt.ylabel('True Positive Rate')\n",
    "plt.title('ROC Curve for RandomForestClassifier')\n",
    "plt.show()"
   ]
  },
  {
   "cell_type": "markdown",
   "metadata": {},
   "source": [
    "***\n",
    "### 3. Support Vector Machines"
   ]
  },
  {
   "cell_type": "code",
   "execution_count": 120,
   "metadata": {},
   "outputs": [
    {
     "data": {
      "text/plain": [
       "0.8387377068604606"
      ]
     },
     "execution_count": 120,
     "metadata": {},
     "output_type": "execute_result"
    }
   ],
   "source": [
    "# Instantinate and Train SVM model\n",
    "svm_clf = SVC(C=1.0, kernel='linear', degree=3, gamma='auto', probability=True)\n",
    "svm_clf.fit(Xtrain_all_idf, ytrain_all_idf)\n",
    "\n",
    "# Predict ratings using SVM model\n",
    "pred_svm = svm_clf.predict(Xtest_all_idf)\n",
    "\n",
    "# Calculate F1 Score\n",
    "metrics.f1_score(ytest_all_idf, pred_svm)"
   ]
  },
  {
   "cell_type": "code",
   "execution_count": 121,
   "metadata": {},
   "outputs": [],
   "source": [
    "# Calculate Predicted Probabiliites for SVM model\n",
    "pred_prob_svm_clf = svm_clf.predict_proba(Xtest_all_idf)[:, 1]"
   ]
  },
  {
   "cell_type": "code",
   "execution_count": 122,
   "metadata": {},
   "outputs": [
    {
     "data": {
      "text/plain": [
       "0.8684223780553382"
      ]
     },
     "execution_count": 122,
     "metadata": {},
     "output_type": "execute_result"
    }
   ],
   "source": [
    "# Generate ROC Score\n",
    "metrics.roc_auc_score(ytest_all_idf, pred_prob_svm_clf)"
   ]
  },
  {
   "cell_type": "code",
   "execution_count": 124,
   "metadata": {},
   "outputs": [
    {
     "data": {
      "image/png": "[encoded data removed]",
      "text/plain": [
       "<Figure size 720x720 with 1 Axes>"
      ]
     },
     "metadata": {
      "needs_background": "light"
     },
     "output_type": "display_data"
    }
   ],
   "source": [
    "# Generate ROC curve values: fpr, tpr, thresholds\n",
    "fpr, tpr, thresholds = roc_curve(ytest_all_idf, pred_prob_svm_clf)\n",
    "\n",
    "# Plot ROC curve\n",
    "plt.figure(figsize=(10,10))\n",
    "plt.plot([0, 1], [0, 1], 'k--')\n",
    "plt.plot(fpr, tpr)\n",
    "plt.xlabel('False Positive Rate')\n",
    "plt.ylabel('True Positive Rate')\n",
    "plt.title('ROC Curve for SVC')\n",
    "plt.show()"
   ]
  },
  {
   "cell_type": "markdown",
   "metadata": {},
   "source": [
    "***\n",
    "## Examine Predicted Probabilities of Best Model\n",
    "The best model was LogisticRegressionCV. Let's examine the predicted probabilities for this model.  "
   ]
  },
  {
   "cell_type": "code",
   "execution_count": 139,
   "metadata": {},
   "outputs": [
    {
     "name": "stdout",
     "output_type": "stream",
     "text": [
      "[[6229 1762]\n",
      " [2379 9982]]\n"
     ]
    }
   ],
   "source": [
    "# Create and print the confusion matrix for the LogReg Model\n",
    "confusion_logreg = metrics.confusion_matrix(ytest_all_idf, pred_log_clf)\n",
    "print(confusion_logreg)"
   ]
  },
  {
   "cell_type": "code",
   "execution_count": 140,
   "metadata": {},
   "outputs": [],
   "source": [
    "# Determine the false positives and false negatives based off the predictions made using LogisticRegressionCV\n",
    "fp = X_test[ytest_all_idf < pred_log_clf]\n",
    "fn = X_test[ytest_all_idf > pred_log_clf]"
   ]
  },
  {
   "cell_type": "markdown",
   "metadata": {},
   "source": [
    "1. False Positives - When the rating was low but predicted as high"
   ]
  },
  {
   "cell_type": "code",
   "execution_count": 141,
   "metadata": {},
   "outputs": [
    {
     "name": "stdout",
     "output_type": "stream",
     "text": [
      "74219    dark brown color beige head aroma sweet malt b...\n",
      "60307    bottle pour ruby thin head roasted malt aroma ...\n",
      "56063    oz bottle pour light golden amber light tan wi...\n",
      "66178    sweet malt nice dark brown colour taste simila...\n",
      "30701    pack chuck smell like unhopped wort interestin...\n",
      "Name: clean_text_lem, dtype: object\n"
     ]
    }
   ],
   "source": [
    "# Print the first five false positives\n",
    "print(fp[0:5])"
   ]
  },
  {
   "cell_type": "code",
   "execution_count": 142,
   "metadata": {},
   "outputs": [
    {
     "name": "stdout",
     "output_type": "stream",
     "text": [
      "Dark brown in color with a beige head. Aroma is of sweet malt, brown sugar, and chocolate. Taste is of chocolate and toffee. \n",
      " Predicted Prob:  [[0.10032375 0.89967625]] \n",
      "\n",
      "Bottle...  Poured ruby with a thin head.  Roasted malt aroma.  Highly carbonated, with flavors caramel hops and malt to balance. Has a full body and the flavors are really amped.  Chalky aftertaste. \n",
      " Predicted Prob:  [[0.4368261 0.5631739]] \n",
      "\n",
      "22 oz bottle.  Pours a light golden amber with a light off tan wispy head. Heavy hop nose with a slightly sweet smell. Medium body. Good hop taste not overpowering, a good balance with the malt flavor. \n",
      " Predicted Prob:  [[0.26602865 0.73397135]] \n",
      "\n",
      "Sweet malts. Had a nice dark brown colour. Taste was similar. Sweet. Very smooth drinking. Medium body. Might buy it again. \n",
      " Predicted Prob:  [[0.11820376 0.88179624]] \n",
      "\n",
      "6-pack cans from Chucks. Smells like unhopped wort which is interesting but not super appetizing. solid body and creamy texture male this a highly drinkable beer. \n",
      " Predicted Prob:  [[0.15874523 0.84125477]]\n"
     ]
    }
   ],
   "source": [
    "# Print the full text of the false positives along with its predicted probability\n",
    "print(beer_overall.text[74219], '\\n', 'Predicted Prob: ',\n",
    "      log_clf.predict_proba(tfidf_vect.transform([beer_overall.clean_text_lem[74219]])), '\\n')\n",
    "print(beer_overall.text[60307], '\\n', 'Predicted Prob: ',\n",
    "      log_clf.predict_proba(tfidf_vect.transform([beer_overall.clean_text_lem[60307]])), '\\n')\n",
    "print(beer_overall.text[56063], '\\n', 'Predicted Prob: ',\n",
    "      log_clf.predict_proba(tfidf_vect.transform([beer_overall.clean_text_lem[56063]])), '\\n')\n",
    "print(beer_overall.text[66178], '\\n', 'Predicted Prob: ',\n",
    "      log_clf.predict_proba(tfidf_vect.transform([beer_overall.clean_text_lem[66178]])), '\\n')\n",
    "print(beer_overall.text[30701], '\\n', 'Predicted Prob: ',\n",
    "      log_clf.predict_proba(tfidf_vect.transform([beer_overall.clean_text_lem[30701]])))"
   ]
  },
  {
   "cell_type": "markdown",
   "metadata": {},
   "source": [
    "2. False Negatives - When the rating was high but predicted as low"
   ]
  },
  {
   "cell_type": "code",
   "execution_count": 143,
   "metadata": {},
   "outputs": [
    {
     "name": "stdout",
     "output_type": "stream",
     "text": [
      "66278    tap federal friend order assume brown ale pour...\n",
      "39671    bottle pour murky black foamy tan head nose lo...\n",
      "77084    oz bottle pour clear straw yellow quicky dissi...\n",
      "4491     dark amber colour nice beige head spicy aroma ...\n",
      "34765    draft beveridge place pub seattle wa pour dark...\n",
      "Name: clean_text_lem, dtype: object\n"
     ]
    }
   ],
   "source": [
    "# Print the first five false negatives\n",
    "print(fn[0:5])"
   ]
  },
  {
   "cell_type": "code",
   "execution_count": 144,
   "metadata": {},
   "outputs": [
    {
     "name": "stdout",
     "output_type": "stream",
     "text": [
      "On tap at the Federal.  My friend ordered this assuming it was a brown ale.  Poured clear lightish amber with not much head.  Smelled it and there was a huge citrusy hop thing going on.  Definitely was wondering about its brown ale status.  Figured it was more like an malty IPA.  Surprised to find out its a barley wine.  Didnt seem that strong, to be honest.  Tasty. \n",
      " Predicted Prob:  [[0.66920961 0.33079039]] \n",
      "\n",
      "Bottle - Pours murky black with a foamy tan head. Nose has lots of ashy, burnt roast, coffee, chocolate, and a touch of smoke. Gets sweeter as it warms. Taste is smoky, bordering on ashtray, with hazelnut, tar, charcoal, and espresso. Too burnt for my taste. Real thin and watery body, with carbonation. A weird beer. \n",
      " Predicted Prob:  [[0.88565972 0.11434028]] \n",
      "\n",
      "12 oz. Bottle. Pours a clear straw yellow with a quicky dissipating white head and soapy lacing. Nice malt and hop aroma in the nose. Some diacetyl and sulfur noted. The taste has smooth malt up front with a nice hop profile in the finish. Well made beer. \n",
      " Predicted Prob:  [[0.53682939 0.46317061]] \n",
      "\n",
      "Dark amber coloured. Nice beige head. Spicy aroma of primarily corriander. Flavour of caramel, ligth citrus and some alcahol burn. Not much aftertaste, but a decent beer though. \n",
      " Predicted Prob:  [[0.75796146 0.24203854]] \n",
      "\n",
      "Draft @ Beveridge Place Pub, Seattle, WA. Pours a dark brown black color with a small off-white head. Has a roasted malty chocolate aroma. Roasted malty slightly burning hot tabsco and chocolate flavor. Has a long roasted malty burning tabasco finish. \n",
      " Predicted Prob:  [[0.64198474 0.35801526]]\n"
     ]
    }
   ],
   "source": [
    "# Print the full text of the false negatives along with its predicted probability\n",
    "print(beer_overall.text[66278], '\\n', 'Predicted Prob: ',\n",
    "      log_clf.predict_proba(tfidf_vect.transform([beer_overall.clean_text_lem[66278]])), '\\n')\n",
    "print(beer_overall.text[39671], '\\n', 'Predicted Prob: ',\n",
    "      log_clf.predict_proba(tfidf_vect.transform([beer_overall.clean_text_lem[39671]])), '\\n')\n",
    "print(beer_overall.text[77084], '\\n', 'Predicted Prob: ',\n",
    "      log_clf.predict_proba(tfidf_vect.transform([beer_overall.clean_text_lem[77084]])), '\\n')\n",
    "print(beer_overall.text[4491], '\\n', 'Predicted Prob: ',\n",
    "      log_clf.predict_proba(tfidf_vect.transform([beer_overall.clean_text_lem[4491]])), '\\n')\n",
    "print(beer_overall.text[34765], '\\n', 'Predicted Prob: ',\n",
    "      log_clf.predict_proba(tfidf_vect.transform([beer_overall.clean_text_lem[34765]])))"
   ]
  },
  {
   "cell_type": "markdown",
   "metadata": {},
   "source": [
    "Looking at the predicted probabilities you see that the classifier may not be at the best threshold. I will try to adjust this next"
   ]
  },
  {
   "cell_type": "markdown",
   "metadata": {},
   "source": [
    "***\n",
    "## Examine Thresholding of Best Model\n",
    "The default threshold is 0.5. I am going to examine different levels to see if I can determine a better threshold. "
   ]
  },
  {
   "cell_type": "code",
   "execution_count": 159,
   "metadata": {},
   "outputs": [
    {
     "name": "stdout",
     "output_type": "stream",
     "text": [
      "Sensitivity:  0.807539843054769\n",
      "Specificity:  0.7795019396821424\n",
      "Precision:  0.8499659400544959\n"
     ]
    }
   ],
   "source": [
    "# Calculate Sensitivity \n",
    "print('Sensitivity: ', metrics.recall_score(ytest_all_idf, pred_log_clf))\n",
    "\n",
    "# Calculate Specificity\n",
    "print('Specificity: ', (confusion_logreg[0,0] / float(confusion_logreg[0,1] + confusion_logreg[0,0])))\n",
    "\n",
    "# Calculate Precision\n",
    "print('Precision: ', metrics.precision_score(ytest_all_idf, pred_log_clf))"
   ]
  },
  {
   "cell_type": "code",
   "execution_count": 145,
   "metadata": {},
   "outputs": [
    {
     "data": {
      "image/png": "[encoded data removed]",
      "text/plain": [
       "<Figure size 432x288 with 1 Axes>"
      ]
     },
     "metadata": {
      "needs_background": "light"
     },
     "output_type": "display_data"
    }
   ],
   "source": [
    "# Plot predicted probabilities of high rating in a histogram\n",
    "plt.hist(pred_prob_log_clf, bins=10)\n",
    "plt.title('Histogram for Predicted Probabiliites')\n",
    "plt.xlabel('Predicted Prob. of High Rating')\n",
    "plt.ylabel('Frequency')\n",
    "plt.xlim(0,1)\n",
    "plt.show()"
   ]
  },
  {
   "cell_type": "markdown",
   "metadata": {},
   "source": [
    "It appears that there are a little more ratings for the 'high' category than the 'low' rating. I'm going to examine different thresholds to see if I can get a more efficient model."
   ]
  },
  {
   "cell_type": "code",
   "execution_count": 153,
   "metadata": {},
   "outputs": [
    {
     "data": {
      "image/png": "[encoded data removed]",
      "text/plain": [
       "<Figure size 720x360 with 1 Axes>"
      ]
     },
     "metadata": {
      "needs_background": "light"
     },
     "output_type": "display_data"
    }
   ],
   "source": [
    "# Calculate and plot the precision recall curve\n",
    "precision, recall, thresholds = precision_recall_curve(ytest_all_idf, pred_prob_log_clf)\n",
    "thresholds = np.append(thresholds, 1)\n",
    "\n",
    "plt.figure(figsize=(10,5))\n",
    "plt.plot(thresholds, precision, color='blue')\n",
    "plt.plot(thresholds, recall, color='red')\n",
    "plt.title('Precision Recall Curve - LogisticRegressionCV')\n",
    "plt.legend(('Precision', 'Recall'))\n",
    "plt.xlabel('Threshold')\n",
    "plt.ylabel('Proportion')\n",
    "plt.show()"
   ]
  },
  {
   "cell_type": "code",
   "execution_count": 172,
   "metadata": {},
   "outputs": [],
   "source": [
    "# Define function to adjust predicted probabilities based off new threshold values. \n",
    "def adjust_pred_prob(y_pred_prob, new_threshold):\n",
    "    \"\"\"Adjust predicted probabilities to match new threshold value\"\"\"\n",
    "    \n",
    "    return [1 if y >= new_threshold else 0 for y in y_pred_prob]\n",
    "\n",
    "def precision_recall_new_threshold(precision, recall, thresholds, new_threshold, y_pred_prob):\n",
    "    \"\"\" Plot the Precision Recall Curve with new Threshold and Print new Confusion Matrix\"\"\"\n",
    "    \n",
    "    # Adjust predicted probabilities to new threshold\n",
    "    y_pred_prob_new = adjust_pred_prob(y_pred_prob, new_threshold)\n",
    "    \n",
    "    # Print Confusion Matrix\n",
    "    print(metrics.confusion_matrix(ytest_all_idf, y_pred_prob_new))\n",
    "    \n",
    "    # Plot Precision Recall Curve\n",
    "    plt.figure(figsize=(10,5))\n",
    "    plt.title(\"Precision Recall Curve - Threshold: {}\".format(new_threshold))\n",
    "    plt.step(recall, precision, where='post', color='blue')\n",
    "    plt.xlabel('Recall')\n",
    "    plt.ylabel('Precision')\n",
    "    \n",
    "    close_default_clf = np.argmin(np.abs(thresholds - new_threshold))\n",
    "    plt.plot(recall[close_default_clf], precision[close_default_clf], '^', c='k', markersize=15)\n",
    "    plt.show()"
   ]
  },
  {
   "cell_type": "code",
   "execution_count": 173,
   "metadata": {},
   "outputs": [
    {
     "name": "stdout",
     "output_type": "stream",
     "text": [
      "[[6229 1762]\n",
      " [2379 9982]]\n"
     ]
    },
    {
     "data": {
      "image/png": "[encoded data removed]",
      "text/plain": [
       "<Figure size 720x360 with 1 Axes>"
      ]
     },
     "metadata": {
      "needs_background": "light"
     },
     "output_type": "display_data"
    }
   ],
   "source": [
    "# Threshold Value - 0.5\n",
    "precision_recall_new_threshold(precision, recall, thresholds, new_threshold=0.5, y_pred_prob=pred_prob_log_clf)"
   ]
  },
  {
   "cell_type": "code",
   "execution_count": 174,
   "metadata": {},
   "outputs": [
    {
     "name": "stdout",
     "output_type": "stream",
     "text": [
      "[[6984 1007]\n",
      " [4024 8337]]\n"
     ]
    },
    {
     "data": {
      "image/png": "[encoded data removed]",
      "text/plain": [
       "<Figure size 720x360 with 1 Axes>"
      ]
     },
     "metadata": {
      "needs_background": "light"
     },
     "output_type": "display_data"
    }
   ],
   "source": [
    "# Threshold Value - 0.66\n",
    "precision_recall_new_threshold(precision, recall, thresholds, new_threshold=0.66, y_pred_prob=pred_prob_log_clf)"
   ]
  },
  {
   "cell_type": "code",
   "execution_count": 175,
   "metadata": {},
   "outputs": [
    {
     "name": "stdout",
     "output_type": "stream",
     "text": [
      "[[ 5077  2914]\n",
      " [ 1206 11155]]\n"
     ]
    },
    {
     "data": {
      "image/png": "[encoded data removed]",
      "text/plain": [
       "<Figure size 720x360 with 1 Axes>"
      ]
     },
     "metadata": {
      "needs_background": "light"
     },
     "output_type": "display_data"
    }
   ],
   "source": [
    "# Threshold Value - 0.33\n",
    "precision_recall_new_threshold(precision, recall, thresholds, new_threshold=0.33, y_pred_prob=pred_prob_log_clf)"
   ]
  },
  {
   "cell_type": "code",
   "execution_count": 181,
   "metadata": {},
   "outputs": [
    {
     "name": "stdout",
     "output_type": "stream",
     "text": [
      "[[6462 1529]\n",
      " [2808 9553]]\n"
     ]
    },
    {
     "data": {
      "image/png": "[encoded data removed]",
      "text/plain": [
       "<Figure size 720x360 with 1 Axes>"
      ]
     },
     "metadata": {
      "needs_background": "light"
     },
     "output_type": "display_data"
    }
   ],
   "source": [
    "# Threshold Value - 0.55\n",
    "precision_recall_new_threshold(precision, recall, thresholds, new_threshold=0.55, y_pred_prob=pred_prob_log_clf)"
   ]
  },
  {
   "cell_type": "code",
   "execution_count": 177,
   "metadata": {},
   "outputs": [
    {
     "name": "stdout",
     "output_type": "stream",
     "text": [
      "[[ 5938  2053]\n",
      " [ 1961 10400]]\n"
     ]
    },
    {
     "data": {
      "image/png": "[encoded data removed]",
      "text/plain": [
       "<Figure size 720x360 with 1 Axes>"
      ]
     },
     "metadata": {
      "needs_background": "light"
     },
     "output_type": "display_data"
    }
   ],
   "source": [
    "# Threshold Value - 0.45\n",
    "precision_recall_new_threshold(precision, recall, thresholds, new_threshold=0.45, y_pred_prob=pred_prob_log_clf)"
   ]
  },
  {
   "cell_type": "code",
   "execution_count": 179,
   "metadata": {},
   "outputs": [
    {
     "name": "stdout",
     "output_type": "stream",
     "text": [
      "[[ 5877  2114]\n",
      " [ 1901 10460]]\n"
     ]
    },
    {
     "data": {
      "image/png": "[encoded data removed]",
      "text/plain": [
       "<Figure size 720x360 with 1 Axes>"
      ]
     },
     "metadata": {
      "needs_background": "light"
     },
     "output_type": "display_data"
    }
   ],
   "source": [
    "# Threshold Value - 0.44\n",
    "precision_recall_new_threshold(precision, recall, thresholds, new_threshold=0.44, y_pred_prob=pred_prob_log_clf)"
   ]
  },
  {
   "cell_type": "markdown",
   "metadata": {},
   "source": [
    "Adjusted Threshold of 0.45 reduces total of false positives and false negatives slightly from 4141 at default 0.5 to 4014 at 0.45. Other adjustments can be made to focus solely on positives and negatives."
   ]
  }
 ],
 "metadata": {
  "kernelspec": {
   "display_name": "Python 3",
   "language": "python",
   "name": "python3"
  },
  "language_info": {
   "codemirror_mode": {
    "name": "ipython",
    "version": 3
   },
   "file_extension": ".py",
   "mimetype": "text/x-python",
   "name": "python",
   "nbconvert_exporter": "python",
   "pygments_lexer": "ipython3",
   "version": "3.7.1"
  }
 },
 "nbformat": 4,
 "nbformat_minor": 2
}
