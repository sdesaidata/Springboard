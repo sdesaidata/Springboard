{
 "cells": [
  {
   "cell_type": "code",
   "execution_count": 1,
   "metadata": {},
   "outputs": [],
   "source": [
    "# import modules\n",
    "import pandas as pd\n",
    "import matplotlib.pyplot as plt\n",
    "import seaborn as sns\n",
    "import scipy.stats\n",
    "from scipy.stats import norm\n",
    "import numpy as np\n",
    "import scipy as sp\n",
    "import pickle\n",
    "\n",
    "# Build figures inline\n",
    "%matplotlib inline"
   ]
  },
  {
   "cell_type": "code",
   "execution_count": 2,
   "metadata": {},
   "outputs": [],
   "source": [
    "# Import scikit-learn tools, vectorizers, transformer, and classifiers\n",
    "from sklearn.model_selection import train_test_split\n",
    "from sklearn import metrics\n",
    "from sklearn.metrics import roc_curve\n",
    "from sklearn.metrics import precision_recall_curve\n",
    "from sklearn.metrics import balanced_accuracy_score\n",
    "from sklearn.metrics import accuracy_score\n",
    "\n",
    "\n",
    "# import CountVectorizer and TfidfVectorizer\n",
    "from sklearn.feature_extraction.text import CountVectorizer\n",
    "from sklearn.feature_extraction.text import TfidfVectorizer\n",
    "\n",
    "# import Multinomial Naive Bayes classifier\n",
    "from sklearn.naive_bayes import MultinomialNB\n",
    "\n",
    "# import Random Forest Classifier\n",
    "from sklearn.ensemble import RandomForestClassifier\n",
    "\n",
    "# import Logistic Regression CV Classifier\n",
    "from sklearn.linear_model import LogisticRegressionCV\n",
    "\n",
    "# import SVM classifiers\n",
    "from sklearn.svm import SVC\n",
    "\n",
    "# Import GridSearchCV\n",
    "from sklearn.model_selection import GridSearchCV"
   ]
  },
  {
   "cell_type": "code",
   "execution_count": 3,
   "metadata": {},
   "outputs": [],
   "source": [
    "with open('beerML.pickle', 'rb') as b:\n",
    "    beer = pickle.load(b)"
   ]
  },
  {
   "cell_type": "code",
   "execution_count": 4,
   "metadata": {},
   "outputs": [],
   "source": [
    "beer = beer.drop(['ABV', 'profileName', 'word_count', 'log_word_count'], axis=1)"
   ]
  },
  {
   "cell_type": "code",
   "execution_count": 5,
   "metadata": {},
   "outputs": [
    {
     "data": {
      "text/html": [
       "<div>\n",
       "<style scoped>\n",
       "    .dataframe tbody tr th:only-of-type {\n",
       "        vertical-align: middle;\n",
       "    }\n",
       "\n",
       "    .dataframe tbody tr th {\n",
       "        vertical-align: top;\n",
       "    }\n",
       "\n",
       "    .dataframe thead th {\n",
       "        text-align: right;\n",
       "    }\n",
       "</style>\n",
       "<table border=\"1\" class=\"dataframe\">\n",
       "  <thead>\n",
       "    <tr style=\"text-align: right;\">\n",
       "      <th></th>\n",
       "      <th>name</th>\n",
       "      <th>style</th>\n",
       "      <th>appearance</th>\n",
       "      <th>aroma</th>\n",
       "      <th>palate</th>\n",
       "      <th>taste</th>\n",
       "      <th>overall</th>\n",
       "      <th>text</th>\n",
       "      <th>clean_text_stem</th>\n",
       "      <th>clean_text_lem</th>\n",
       "      <th>3rate_appear</th>\n",
       "      <th>3rate_aroma</th>\n",
       "      <th>3rate_palate</th>\n",
       "      <th>3rate_taste</th>\n",
       "      <th>high_low</th>\n",
       "    </tr>\n",
       "  </thead>\n",
       "  <tbody>\n",
       "    <tr>\n",
       "      <th>0</th>\n",
       "      <td>John Harvards Simcoe IPA</td>\n",
       "      <td>India Pale Ale (IPA)</td>\n",
       "      <td>4</td>\n",
       "      <td>3</td>\n",
       "      <td>3</td>\n",
       "      <td>3</td>\n",
       "      <td>3.25</td>\n",
       "      <td>On tap at the Springfield, PA location. Poured...</td>\n",
       "      <td>tap springfield pa location pour deep cloudi o...</td>\n",
       "      <td>tap springfield pa location pour deep cloudy o...</td>\n",
       "      <td>high</td>\n",
       "      <td>medium</td>\n",
       "      <td>medium</td>\n",
       "      <td>medium</td>\n",
       "      <td>low</td>\n",
       "    </tr>\n",
       "    <tr>\n",
       "      <th>1</th>\n",
       "      <td>John Harvards Simcoe IPA</td>\n",
       "      <td>India Pale Ale (IPA)</td>\n",
       "      <td>4</td>\n",
       "      <td>3</td>\n",
       "      <td>4</td>\n",
       "      <td>4</td>\n",
       "      <td>3.75</td>\n",
       "      <td>On tap at the John Harvards in Springfield PA....</td>\n",
       "      <td>tap john harvard springfield pa pour rubi red ...</td>\n",
       "      <td>tap john harvard springfield pa pour ruby red ...</td>\n",
       "      <td>high</td>\n",
       "      <td>medium</td>\n",
       "      <td>high</td>\n",
       "      <td>high</td>\n",
       "      <td>high</td>\n",
       "    </tr>\n",
       "    <tr>\n",
       "      <th>2</th>\n",
       "      <td>John Harvards Vanilla Black Velvet Stout</td>\n",
       "      <td>Sweet Stout</td>\n",
       "      <td>5</td>\n",
       "      <td>4</td>\n",
       "      <td>4</td>\n",
       "      <td>4</td>\n",
       "      <td>4.25</td>\n",
       "      <td>Springfield, PA location... Poured an opaque b...</td>\n",
       "      <td>springfield pa location pour opaqu black color...</td>\n",
       "      <td>springfield pa location pour opaque black colo...</td>\n",
       "      <td>high</td>\n",
       "      <td>high</td>\n",
       "      <td>high</td>\n",
       "      <td>high</td>\n",
       "      <td>high</td>\n",
       "    </tr>\n",
       "    <tr>\n",
       "      <th>3</th>\n",
       "      <td>John Harvards American Brown Ale</td>\n",
       "      <td>Brown Ale</td>\n",
       "      <td>4</td>\n",
       "      <td>3</td>\n",
       "      <td>3</td>\n",
       "      <td>3</td>\n",
       "      <td>3.25</td>\n",
       "      <td>On tap at the Springfield, PA location. Listed...</td>\n",
       "      <td>tap springfield pa location list beer menu jam...</td>\n",
       "      <td>tap springfield pa location list beer menu jam...</td>\n",
       "      <td>high</td>\n",
       "      <td>medium</td>\n",
       "      <td>medium</td>\n",
       "      <td>medium</td>\n",
       "      <td>low</td>\n",
       "    </tr>\n",
       "    <tr>\n",
       "      <th>4</th>\n",
       "      <td>John Harvards Grand Cru</td>\n",
       "      <td>Belgian Ale</td>\n",
       "      <td>2</td>\n",
       "      <td>3</td>\n",
       "      <td>3</td>\n",
       "      <td>4</td>\n",
       "      <td>3.00</td>\n",
       "      <td>Sampled @ the Springfield, PA location.   Cand...</td>\n",
       "      <td>sampl springfield pa location candi sugar domi...</td>\n",
       "      <td>sample springfield pa location candi sugar dom...</td>\n",
       "      <td>low</td>\n",
       "      <td>medium</td>\n",
       "      <td>medium</td>\n",
       "      <td>high</td>\n",
       "      <td>low</td>\n",
       "    </tr>\n",
       "  </tbody>\n",
       "</table>\n",
       "</div>"
      ],
      "text/plain": [
       "                                       name                 style  appearance  \\\n",
       "0                  John Harvards Simcoe IPA  India Pale Ale (IPA)           4   \n",
       "1                  John Harvards Simcoe IPA  India Pale Ale (IPA)           4   \n",
       "2  John Harvards Vanilla Black Velvet Stout           Sweet Stout           5   \n",
       "3          John Harvards American Brown Ale             Brown Ale           4   \n",
       "4                   John Harvards Grand Cru           Belgian Ale           2   \n",
       "\n",
       "   aroma  palate  taste  overall  \\\n",
       "0      3       3      3     3.25   \n",
       "1      3       4      4     3.75   \n",
       "2      4       4      4     4.25   \n",
       "3      3       3      3     3.25   \n",
       "4      3       3      4     3.00   \n",
       "\n",
       "                                                text  \\\n",
       "0  On tap at the Springfield, PA location. Poured...   \n",
       "1  On tap at the John Harvards in Springfield PA....   \n",
       "2  Springfield, PA location... Poured an opaque b...   \n",
       "3  On tap at the Springfield, PA location. Listed...   \n",
       "4  Sampled @ the Springfield, PA location.   Cand...   \n",
       "\n",
       "                                     clean_text_stem  \\\n",
       "0  tap springfield pa location pour deep cloudi o...   \n",
       "1  tap john harvard springfield pa pour rubi red ...   \n",
       "2  springfield pa location pour opaqu black color...   \n",
       "3  tap springfield pa location list beer menu jam...   \n",
       "4  sampl springfield pa location candi sugar domi...   \n",
       "\n",
       "                                      clean_text_lem 3rate_appear 3rate_aroma  \\\n",
       "0  tap springfield pa location pour deep cloudy o...         high      medium   \n",
       "1  tap john harvard springfield pa pour ruby red ...         high      medium   \n",
       "2  springfield pa location pour opaque black colo...         high        high   \n",
       "3  tap springfield pa location list beer menu jam...         high      medium   \n",
       "4  sample springfield pa location candi sugar dom...          low      medium   \n",
       "\n",
       "  3rate_palate 3rate_taste high_low  \n",
       "0       medium      medium      low  \n",
       "1         high        high     high  \n",
       "2         high        high     high  \n",
       "3       medium      medium      low  \n",
       "4       medium        high      low  "
      ]
     },
     "execution_count": 5,
     "metadata": {},
     "output_type": "execute_result"
    }
   ],
   "source": [
    "beer.head()"
   ]
  },
  {
   "cell_type": "code",
   "execution_count": 6,
   "metadata": {},
   "outputs": [],
   "source": [
    "beer_overall = beer.drop(['aroma','palate','taste','appearance', '3rate_aroma',\n",
    "                          '3rate_palate', '3rate_taste', '3rate_appear'], axis=1)"
   ]
  },
  {
   "cell_type": "code",
   "execution_count": 7,
   "metadata": {},
   "outputs": [
    {
     "data": {
      "text/html": [
       "<div>\n",
       "<style scoped>\n",
       "    .dataframe tbody tr th:only-of-type {\n",
       "        vertical-align: middle;\n",
       "    }\n",
       "\n",
       "    .dataframe tbody tr th {\n",
       "        vertical-align: top;\n",
       "    }\n",
       "\n",
       "    .dataframe thead th {\n",
       "        text-align: right;\n",
       "    }\n",
       "</style>\n",
       "<table border=\"1\" class=\"dataframe\">\n",
       "  <thead>\n",
       "    <tr style=\"text-align: right;\">\n",
       "      <th></th>\n",
       "      <th>name</th>\n",
       "      <th>style</th>\n",
       "      <th>overall</th>\n",
       "      <th>text</th>\n",
       "      <th>clean_text_stem</th>\n",
       "      <th>clean_text_lem</th>\n",
       "      <th>high_low</th>\n",
       "    </tr>\n",
       "  </thead>\n",
       "  <tbody>\n",
       "    <tr>\n",
       "      <th>0</th>\n",
       "      <td>John Harvards Simcoe IPA</td>\n",
       "      <td>India Pale Ale (IPA)</td>\n",
       "      <td>3.25</td>\n",
       "      <td>On tap at the Springfield, PA location. Poured...</td>\n",
       "      <td>tap springfield pa location pour deep cloudi o...</td>\n",
       "      <td>tap springfield pa location pour deep cloudy o...</td>\n",
       "      <td>low</td>\n",
       "    </tr>\n",
       "    <tr>\n",
       "      <th>1</th>\n",
       "      <td>John Harvards Simcoe IPA</td>\n",
       "      <td>India Pale Ale (IPA)</td>\n",
       "      <td>3.75</td>\n",
       "      <td>On tap at the John Harvards in Springfield PA....</td>\n",
       "      <td>tap john harvard springfield pa pour rubi red ...</td>\n",
       "      <td>tap john harvard springfield pa pour ruby red ...</td>\n",
       "      <td>high</td>\n",
       "    </tr>\n",
       "    <tr>\n",
       "      <th>2</th>\n",
       "      <td>John Harvards Vanilla Black Velvet Stout</td>\n",
       "      <td>Sweet Stout</td>\n",
       "      <td>4.25</td>\n",
       "      <td>Springfield, PA location... Poured an opaque b...</td>\n",
       "      <td>springfield pa location pour opaqu black color...</td>\n",
       "      <td>springfield pa location pour opaque black colo...</td>\n",
       "      <td>high</td>\n",
       "    </tr>\n",
       "    <tr>\n",
       "      <th>3</th>\n",
       "      <td>John Harvards American Brown Ale</td>\n",
       "      <td>Brown Ale</td>\n",
       "      <td>3.25</td>\n",
       "      <td>On tap at the Springfield, PA location. Listed...</td>\n",
       "      <td>tap springfield pa location list beer menu jam...</td>\n",
       "      <td>tap springfield pa location list beer menu jam...</td>\n",
       "      <td>low</td>\n",
       "    </tr>\n",
       "    <tr>\n",
       "      <th>4</th>\n",
       "      <td>John Harvards Grand Cru</td>\n",
       "      <td>Belgian Ale</td>\n",
       "      <td>3.00</td>\n",
       "      <td>Sampled @ the Springfield, PA location.   Cand...</td>\n",
       "      <td>sampl springfield pa location candi sugar domi...</td>\n",
       "      <td>sample springfield pa location candi sugar dom...</td>\n",
       "      <td>low</td>\n",
       "    </tr>\n",
       "  </tbody>\n",
       "</table>\n",
       "</div>"
      ],
      "text/plain": [
       "                                       name                 style  overall  \\\n",
       "0                  John Harvards Simcoe IPA  India Pale Ale (IPA)     3.25   \n",
       "1                  John Harvards Simcoe IPA  India Pale Ale (IPA)     3.75   \n",
       "2  John Harvards Vanilla Black Velvet Stout           Sweet Stout     4.25   \n",
       "3          John Harvards American Brown Ale             Brown Ale     3.25   \n",
       "4                   John Harvards Grand Cru           Belgian Ale     3.00   \n",
       "\n",
       "                                                text  \\\n",
       "0  On tap at the Springfield, PA location. Poured...   \n",
       "1  On tap at the John Harvards in Springfield PA....   \n",
       "2  Springfield, PA location... Poured an opaque b...   \n",
       "3  On tap at the Springfield, PA location. Listed...   \n",
       "4  Sampled @ the Springfield, PA location.   Cand...   \n",
       "\n",
       "                                     clean_text_stem  \\\n",
       "0  tap springfield pa location pour deep cloudi o...   \n",
       "1  tap john harvard springfield pa pour rubi red ...   \n",
       "2  springfield pa location pour opaqu black color...   \n",
       "3  tap springfield pa location list beer menu jam...   \n",
       "4  sampl springfield pa location candi sugar domi...   \n",
       "\n",
       "                                      clean_text_lem high_low  \n",
       "0  tap springfield pa location pour deep cloudy o...      low  \n",
       "1  tap john harvard springfield pa pour ruby red ...     high  \n",
       "2  springfield pa location pour opaque black colo...     high  \n",
       "3  tap springfield pa location list beer menu jam...      low  \n",
       "4  sample springfield pa location candi sugar dom...      low  "
      ]
     },
     "execution_count": 7,
     "metadata": {},
     "output_type": "execute_result"
    }
   ],
   "source": [
    "beer_overall.head()"
   ]
  },
  {
   "cell_type": "code",
   "execution_count": 8,
   "metadata": {},
   "outputs": [
    {
     "data": {
      "text/html": [
       "<div>\n",
       "<style scoped>\n",
       "    .dataframe tbody tr th:only-of-type {\n",
       "        vertical-align: middle;\n",
       "    }\n",
       "\n",
       "    .dataframe tbody tr th {\n",
       "        vertical-align: top;\n",
       "    }\n",
       "\n",
       "    .dataframe thead th {\n",
       "        text-align: right;\n",
       "    }\n",
       "</style>\n",
       "<table border=\"1\" class=\"dataframe\">\n",
       "  <thead>\n",
       "    <tr style=\"text-align: right;\">\n",
       "      <th></th>\n",
       "      <th>name</th>\n",
       "      <th>style</th>\n",
       "      <th>overall</th>\n",
       "      <th>text</th>\n",
       "      <th>clean_text_stem</th>\n",
       "      <th>clean_text_lem</th>\n",
       "      <th>high_low</th>\n",
       "    </tr>\n",
       "  </thead>\n",
       "  <tbody>\n",
       "    <tr>\n",
       "      <th>0</th>\n",
       "      <td>John Harvards Simcoe IPA</td>\n",
       "      <td>India Pale Ale (IPA)</td>\n",
       "      <td>3.25</td>\n",
       "      <td>On tap at the Springfield, PA location. Poured...</td>\n",
       "      <td>tap springfield pa location pour deep cloudi o...</td>\n",
       "      <td>tap springfield pa location pour deep cloudy o...</td>\n",
       "      <td>low</td>\n",
       "    </tr>\n",
       "    <tr>\n",
       "      <th>1</th>\n",
       "      <td>John Harvards Simcoe IPA</td>\n",
       "      <td>India Pale Ale (IPA)</td>\n",
       "      <td>3.75</td>\n",
       "      <td>On tap at the John Harvards in Springfield PA....</td>\n",
       "      <td>tap john harvard springfield pa pour rubi red ...</td>\n",
       "      <td>tap john harvard springfield pa pour ruby red ...</td>\n",
       "      <td>high</td>\n",
       "    </tr>\n",
       "    <tr>\n",
       "      <th>20</th>\n",
       "      <td>Barley Island Barfly IPA</td>\n",
       "      <td>India Pale Ale (IPA)</td>\n",
       "      <td>3.75</td>\n",
       "      <td>Another quality session IPA.  The lowest ABV o...</td>\n",
       "      <td>anoth qualiti session ipa lowest abv ani ipa w...</td>\n",
       "      <td>another quality session ipa low abv ipa would ...</td>\n",
       "      <td>high</td>\n",
       "    </tr>\n",
       "    <tr>\n",
       "      <th>21</th>\n",
       "      <td>Barley Island Barfly IPA</td>\n",
       "      <td>India Pale Ale (IPA)</td>\n",
       "      <td>3.25</td>\n",
       "      <td>Received in a trade with mmm///beer, so thanks...</td>\n",
       "      <td>receiv trade mmmbeer thank bro beer wa quit ni...</td>\n",
       "      <td>receive trade mmmbeer thank bro beer quite nic...</td>\n",
       "      <td>low</td>\n",
       "    </tr>\n",
       "    <tr>\n",
       "      <th>22</th>\n",
       "      <td>Barley Island Barfly IPA</td>\n",
       "      <td>India Pale Ale (IPA)</td>\n",
       "      <td>3.75</td>\n",
       "      <td>bottle thanks to mmm///beer.  deep ruby color ...</td>\n",
       "      <td>bottl thank mmmbeer deep rubi color finger cre...</td>\n",
       "      <td>bottle thank mmmbeer deep ruby color finger cr...</td>\n",
       "      <td>high</td>\n",
       "    </tr>\n",
       "  </tbody>\n",
       "</table>\n",
       "</div>"
      ],
      "text/plain": [
       "                        name                 style  overall  \\\n",
       "0   John Harvards Simcoe IPA  India Pale Ale (IPA)     3.25   \n",
       "1   John Harvards Simcoe IPA  India Pale Ale (IPA)     3.75   \n",
       "20  Barley Island Barfly IPA  India Pale Ale (IPA)     3.75   \n",
       "21  Barley Island Barfly IPA  India Pale Ale (IPA)     3.25   \n",
       "22  Barley Island Barfly IPA  India Pale Ale (IPA)     3.75   \n",
       "\n",
       "                                                 text  \\\n",
       "0   On tap at the Springfield, PA location. Poured...   \n",
       "1   On tap at the John Harvards in Springfield PA....   \n",
       "20  Another quality session IPA.  The lowest ABV o...   \n",
       "21  Received in a trade with mmm///beer, so thanks...   \n",
       "22  bottle thanks to mmm///beer.  deep ruby color ...   \n",
       "\n",
       "                                      clean_text_stem  \\\n",
       "0   tap springfield pa location pour deep cloudi o...   \n",
       "1   tap john harvard springfield pa pour rubi red ...   \n",
       "20  anoth qualiti session ipa lowest abv ani ipa w...   \n",
       "21  receiv trade mmmbeer thank bro beer wa quit ni...   \n",
       "22  bottl thank mmmbeer deep rubi color finger cre...   \n",
       "\n",
       "                                       clean_text_lem high_low  \n",
       "0   tap springfield pa location pour deep cloudy o...      low  \n",
       "1   tap john harvard springfield pa pour ruby red ...     high  \n",
       "20  another quality session ipa low abv ipa would ...     high  \n",
       "21  receive trade mmmbeer thank bro beer quite nic...      low  \n",
       "22  bottle thank mmmbeer deep ruby color finger cr...     high  "
      ]
     },
     "execution_count": 8,
     "metadata": {},
     "output_type": "execute_result"
    }
   ],
   "source": [
    "ipa = beer_overall[beer_overall['style'] == 'India Pale Ale (IPA)']\n",
    "ipa.head()"
   ]
  },
  {
   "cell_type": "markdown",
   "metadata": {},
   "source": [
    "# Machine Learning\n",
    "\n",
    "### Build baseline model w/ Naive Bayes"
   ]
  },
  {
   "cell_type": "code",
   "execution_count": 9,
   "metadata": {},
   "outputs": [],
   "source": [
    "# Store overall beer dataset into feature matrix and response vector\n",
    "X_overall = beer_overall['clean_text_lem']\n",
    "y_overall = (beer_overall.high_low == 'high').values.astype(np.int)"
   ]
  },
  {
   "cell_type": "code",
   "execution_count": 10,
   "metadata": {},
   "outputs": [],
   "source": [
    "# Instantiate CountVectorizer and TfidfVectorizer\n",
    "vect = CountVectorizer(min_df=1, ngram_range=(1, 2)) \n",
    "tfidf_vect = TfidfVectorizer(min_df=1, ngram_range=(1, 2))"
   ]
  },
  {
   "cell_type": "code",
   "execution_count": 11,
   "metadata": {},
   "outputs": [],
   "source": [
    "tfidf = TfidfVectorizer(min_df=1, ngram_range=(1, 2))"
   ]
  },
  {
   "cell_type": "code",
   "execution_count": 12,
   "metadata": {},
   "outputs": [],
   "source": [
    "# Apply CountVectorizer \n",
    "X_all_C = vect.fit_transform(beer_overall.clean_text_lem.apply(str))\n",
    "X_all_C = X_all_C.tocsc() \n",
    "\n",
    "# Apply TfidfVectorizer\n",
    "X_all_idf = tfidf_vect.fit_transform(beer_overall.clean_text_lem.apply(str))\n",
    "X_all_idf = X_all_idf.tocsc() "
   ]
  },
  {
   "cell_type": "code",
   "execution_count": 13,
   "metadata": {},
   "outputs": [],
   "source": [
    "# Split train/test data for all data\n",
    "# This is for CountVectorizer\n",
    "Xtrain_all_C, Xtest_all_C, ytrain_all_C, ytest_all_C = train_test_split(X_all_C, y_overall, random_state=17)\n",
    "\n",
    "# This is for Tfidf Vectorizer\n",
    "Xtrain_all_idf, Xtest_all_idf, ytrain_all_idf, ytest_all_idf = train_test_split(X_all_idf, y_overall, random_state=17)"
   ]
  },
  {
   "cell_type": "code",
   "execution_count": 14,
   "metadata": {},
   "outputs": [
    {
     "name": "stdout",
     "output_type": "stream",
     "text": [
      "CountVectorizer(analyzer='word', binary=False, decode_error='strict',\n",
      "        dtype=<class 'numpy.int64'>, encoding='utf-8', input='content',\n",
      "        lowercase=True, max_df=1.0, max_features=None, min_df=1,\n",
      "        ngram_range=(1, 2), preprocessor=None, stop_words=None,\n",
      "        strip_accents=None, token_pattern='(?u)\\\\b\\\\w\\\\w+\\\\b',\n",
      "        tokenizer=None, vocabulary=None)\n",
      "\n",
      "F1 Score:  0.8359566014669927\n",
      "\n",
      "Confusion Matrix:\n",
      " [[ 5117  2874]\n",
      " [ 1420 10941]]\n",
      "\n",
      "AUC:  0.8532420295945957\n"
     ]
    }
   ],
   "source": [
    "# Instantiate MultinomialNB() for CountVectorizer\n",
    "nb_overall = MultinomialNB(alpha=1, fit_prior=True)\n",
    "\n",
    "# Train model\n",
    "nb_overall.fit(Xtrain_all_C, ytrain_all_C)\n",
    "\n",
    "# Make predictions for Xtest\n",
    "y_pred_count = nb_overall.predict(Xtest_all_C)\n",
    "\n",
    "# Calculate F1 Score\n",
    "f1 = metrics.f1_score(ytest_all_C, y_pred_count)\n",
    "\n",
    "# Confusion matrix\n",
    "cm = metrics.confusion_matrix(ytest_all_C, y_pred_count)\n",
    "\n",
    "# Calculate predicted probabilities for Xtest\n",
    "y_prob_count = nb_overall.predict_proba(Xtest_all_C)[:,1]\n",
    "\n",
    "# Calculate AUC for Naive Bayes model with CountVec\n",
    "auc = metrics.roc_auc_score(ytest_all_C, y_prob_count)\n",
    "\n",
    "print(vect)\n",
    "print('\\nF1 Score: ', f1)\n",
    "print('\\nConfusion Matrix:\\n', cm)\n",
    "print('\\nAUC: ', auc)"
   ]
  },
  {
   "cell_type": "markdown",
   "metadata": {},
   "source": [
    "Using CountVectorizer, at baseline the Naive Bayes model correctly predicted 10941 \"high\" overall ratings. Likewise, 5117 were correctly predicted to be \"low\" overall ratings. \n",
    "\n",
    "However, 1420 reviews were incorrectly predicted to be \"high\" overall ratings and 1420 were incorrectly predicted to be \"low\" overall ratings.\n",
    "\n",
    "Let's see how the TfidfVectorizer does."
   ]
  },
  {
   "cell_type": "code",
   "execution_count": 15,
   "metadata": {},
   "outputs": [
    {
     "name": "stdout",
     "output_type": "stream",
     "text": [
      "TfidfVectorizer(analyzer='word', binary=False, decode_error='strict',\n",
      "        dtype=<class 'numpy.float64'>, encoding='utf-8', input='content',\n",
      "        lowercase=True, max_df=1.0, max_features=None, min_df=1,\n",
      "        ngram_range=(1, 2), norm='l2', preprocessor=None, smooth_idf=True,\n",
      "        stop_words=None, strip_accents=None, sublinear_tf=False,\n",
      "        token_pattern='(?u)\\\\b\\\\w\\\\w+\\\\b', tokenizer=None, use_idf=True,\n",
      "        vocabulary=None)\n",
      "\n",
      "F1 Score:  0.79622211366227\n",
      "\n",
      "Confusion Matrix:\n",
      " [[ 1871  6120]\n",
      " [  137 12224]]\n",
      "\n",
      "AUC:  0.8476943830638852\n"
     ]
    }
   ],
   "source": [
    "# Instantiate multinomialNB() for TfidfVectorizer\n",
    "nb_tfidf_overall = MultinomialNB(alpha=1, fit_prior=True)\n",
    "\n",
    "# Train model\n",
    "nb_tfidf_overall.fit(Xtrain_all_idf, ytrain_all_idf)\n",
    "\n",
    "# Make predictions for Xtest1\n",
    "y_pred_tfidf = nb_tfidf_overall.predict(Xtest_all_idf)\n",
    "\n",
    "# Calculate F1 Score\n",
    "f1 = metrics.f1_score(ytest_all_idf, y_pred_tfidf)\n",
    "\n",
    "# Confusion matrix\n",
    "cm = metrics.confusion_matrix(ytest_all_idf, y_pred_tfidf)\n",
    "\n",
    "# Calculate predicted probabilities for Xtest1\n",
    "y_prob_tfidf = nb_tfidf_overall.predict_proba(Xtest_all_idf)[:,1]\n",
    "\n",
    "# Calculate AUC for Naive Bayes model with Tfidf\n",
    "auc = metrics.roc_auc_score(ytest_all_idf, y_prob_tfidf)\n",
    "\n",
    "print(tfidf_vect)\n",
    "print('\\nF1 Score: ', f1)\n",
    "print('\\nConfusion Matrix:\\n', cm)\n",
    "print('\\nAUC: ', auc)"
   ]
  },
  {
   "cell_type": "markdown",
   "metadata": {},
   "source": [
    "Using TfidfVectorizer at baseline, the Naive Bayes model correctly predicted 12224 \"high\" overall ratings and 1871 \"low\" overall ratings. \n",
    "\n",
    "However, 137 reviews were incorrectly predicted to be \"high\" overall ratings and 6120 for \"low\" overall ratings. \n",
    "\n",
    "This did better in predicting high overall ratings but did poorly for low ones. Parameters definitely need to be tuned.\n",
    "\n",
    "***\n",
    "\n",
    "### Picking Hyperparameters\n",
    "\n",
    "I want to look at the alpha, min_df and fit_prior to see if I can make the model better.\n",
    "\n",
    "__min_df:__"
   ]
  },
  {
   "cell_type": "code",
   "execution_count": 16,
   "metadata": {},
   "outputs": [
    {
     "data": {
      "image/png": "[encoded data removed]",
      "text/plain": [
       "<Figure size 1080x720 with 1 Axes>"
      ]
     },
     "metadata": {
      "needs_background": "light"
     },
     "output_type": "display_data"
    }
   ],
   "source": [
    "words = list((X_all_C>0).sum(axis=0).tolist()[0])\n",
    "\n",
    "fig, ax = plt.subplots(figsize=(15,10))\n",
    "bins = np.arange(sum(words))\n",
    "plt.hist(words, bins=bins, histtype='step', density=True, cumulative=True)\n",
    "plt.xlim(0,20)\n",
    "plt.xticks([x for x in range(0,20,1)])\n",
    "plt.xlabel('document frequency count')\n",
    "plt.ylabel('% Words Appearing less than x(i)')\n",
    "plt.title('Cumulative Dist. of Document Frequencies(df) - CountVec')\n",
    "plt.show()"
   ]
  },
  {
   "cell_type": "code",
   "execution_count": 17,
   "metadata": {},
   "outputs": [
    {
     "name": "stdout",
     "output_type": "stream",
     "text": [
      "\n",
      " Best Values: \n",
      " Min_df: 0.0001, F1: 0.8543327265339999, AUC: 0.8212088903469205\n"
     ]
    }
   ],
   "source": [
    "best_df = None\n",
    "best_auc = -np.inf\n",
    "best_f1 = None\n",
    "pos_df = [.0001, .001, .01, .1, 1]\n",
    "\n",
    "for min_df in pos_df:\n",
    "    vect = CountVectorizer(min_df=min_df, ngram_range=(1, 2)) \n",
    "    \n",
    "    X = vect.fit_transform(beer_overall.clean_text_lem.apply(str))\n",
    "    X = X.tocsc() \n",
    "    \n",
    "    Xtrain, Xtest, ytrain, ytest = train_test_split(X, y_overall, random_state=17)\n",
    "    \n",
    "    nb = MultinomialNB(alpha=1, fit_prior=True)\n",
    "    nb.fit(Xtrain, ytrain)\n",
    "    y_pred_count = nb.predict(Xtest)\n",
    "    f1 = metrics.f1_score(ytest, y_pred_count)\n",
    "    y_prob_count = nb.predict_proba(Xtest)[:,1]\n",
    "    auc = metrics.roc_auc_score(ytest, y_prob_count)\n",
    "    if auc > best_auc:\n",
    "        best_auc = auc\n",
    "        best_df = min_df\n",
    "        best_f1 = f1\n",
    "\n",
    "print('\\n Best Values: \\n Min_df: {}, F1: {}, AUC: {}'.format(best_df, best_auc, best_f1))"
   ]
  },
  {
   "cell_type": "code",
   "execution_count": 18,
   "metadata": {},
   "outputs": [
    {
     "name": "stdout",
     "output_type": "stream",
     "text": [
      "\n",
      " Best Values: \n",
      " Min_df: 0.0001, F1: 0.8595300325275933, AUC: 0.8360847720146575\n"
     ]
    }
   ],
   "source": [
    "best_df = None\n",
    "best_auc = -np.inf\n",
    "best_f1 = None\n",
    "pos_df = [.0001, .001, .01, .1, 1]\n",
    "\n",
    "for min_df in pos_df:\n",
    "    vect = TfidfVectorizer(min_df=min_df, ngram_range=(1, 2)) \n",
    "    \n",
    "    X = vect.fit_transform(beer_overall.clean_text_lem.apply(str))\n",
    "    X = X.tocsc() \n",
    "    \n",
    "    Xtrain, Xtest, ytrain, ytest = train_test_split(X, y_overall, random_state=17)\n",
    "    \n",
    "    nb = MultinomialNB(alpha=1, fit_prior=True)\n",
    "    nb.fit(Xtrain, ytrain)\n",
    "    y_pred_count = nb.predict(Xtest)\n",
    "    f1 = metrics.f1_score(ytest, y_pred_count)\n",
    "    y_prob_count = nb.predict_proba(Xtest)[:,1]\n",
    "    auc = metrics.roc_auc_score(ytest, y_prob_count)\n",
    "    if auc > best_auc:\n",
    "        best_auc = auc\n",
    "        best_df = min_df\n",
    "        best_f1 = f1\n",
    "\n",
    "print('\\n Best Values: \\n Min_df: {}, F1: {}, AUC: {}'.format(best_df, best_auc, best_f1))"
   ]
  },
  {
   "cell_type": "markdown",
   "metadata": {},
   "source": [
    "min_df for both vectorizers works best at .0001. Let's now look at more parameters.\n",
    "\n",
    "__GridSearchCV:__"
   ]
  },
  {
   "cell_type": "code",
   "execution_count": 19,
   "metadata": {},
   "outputs": [],
   "source": [
    "# Instantiate Vectorizers with new min_df \n",
    "vect = CountVectorizer(min_df=.0001, ngram_range=(1, 2)) \n",
    "tfidf_vect = TfidfVectorizer(min_df=.0001, ngram_range=(1, 2))\n",
    "\n",
    "# Apply CountVectorizer \n",
    "X_all_C = vect.fit_transform(beer_overall.clean_text_lem.apply(str))\n",
    "X_all_C = X_all_C.tocsc() \n",
    "\n",
    "# Apply TfidfVectorizer\n",
    "X_all_idf = tfidf_vect.fit_transform(beer_overall.clean_text_lem.apply(str))\n",
    "X_all_idf = X_all_idf.tocsc() \n",
    "\n",
    "# Split train/test data for all data\n",
    "# This is for CountVectorizer\n",
    "Xtrain_all_C, Xtest_all_C, ytrain_all_C, ytest_all_C = train_test_split(X_all_C, y_overall, random_state=17)\n",
    "\n",
    "# This is for Tfidf Vectorizer\n",
    "Xtrain_all_idf, Xtest_all_idf, ytrain_all_idf, ytest_all_idf = train_test_split(X_all_idf, y_overall, random_state=17)"
   ]
  },
  {
   "cell_type": "code",
   "execution_count": 20,
   "metadata": {},
   "outputs": [],
   "source": [
    "# Create a list of parameters for tuning\n",
    "parameters = {'fit_prior': (True, False),\n",
    "              'alpha': (0.001, 0.01, 0.1, 1, 5, 10),\n",
    "             }"
   ]
  },
  {
   "cell_type": "code",
   "execution_count": 21,
   "metadata": {},
   "outputs": [
    {
     "name": "stdout",
     "output_type": "stream",
     "text": [
      "GridSearchCV(cv=5, error_score='raise-deprecating',\n",
      "       estimator=MultinomialNB(alpha=1.0, class_prior=None, fit_prior=True),\n",
      "       fit_params=None, iid='warn', n_jobs=-1,\n",
      "       param_grid={'fit_prior': (True, False), 'alpha': (0.001, 0.01, 0.1, 1, 5, 10)},\n",
      "       pre_dispatch='2*n_jobs', refit=True, return_train_score='warn',\n",
      "       scoring='roc_auc', verbose=0)\n",
      "\n",
      "Best Score:  0.8528010913890626\n"
     ]
    }
   ],
   "source": [
    "# Perform GridSearch on Naive Bayes using the given parameters and CountVectorizer\n",
    "gs_count_all = GridSearchCV(MultinomialNB(), parameters, scoring='roc_auc', n_jobs=-1, cv=5)\n",
    "gs_count_all.fit(Xtrain_all_C, ytrain_all_C)\n",
    "\n",
    "# Show the best score and parameters used\n",
    "print(gs_count_all)\n",
    "print('\\nBest Score: ', gs_count_all.best_score_)"
   ]
  },
  {
   "cell_type": "code",
   "execution_count": 22,
   "metadata": {},
   "outputs": [
    {
     "name": "stdout",
     "output_type": "stream",
     "text": [
      "GridSearchCV(cv=5, error_score='raise-deprecating',\n",
      "       estimator=MultinomialNB(alpha=1.0, class_prior=None, fit_prior=True),\n",
      "       fit_params=None, iid='warn', n_jobs=-1,\n",
      "       param_grid={'fit_prior': (True, False), 'alpha': (0.001, 0.01, 0.1, 1, 5, 10)},\n",
      "       pre_dispatch='2*n_jobs', refit=True, return_train_score='warn',\n",
      "       scoring='roc_auc', verbose=0)\n",
      "\n",
      "Best Score:  0.8567292195676448\n"
     ]
    }
   ],
   "source": [
    "# Perform GridSearch on Naive Bayes using the given parameters and TfidfVectorizer\n",
    "gs_tfidf_all = GridSearchCV(MultinomialNB(), parameters, scoring='roc_auc', n_jobs=-1, cv=5)\n",
    "gs_tfidf_all.fit(Xtrain_all_idf, ytrain_all_idf)\n",
    "\n",
    "# Show the best score and parameters used\n",
    "print(gs_tfidf_all)\n",
    "print('\\nBest Score: ', gs_tfidf_all.best_score_)"
   ]
  },
  {
   "cell_type": "code",
   "execution_count": 23,
   "metadata": {},
   "outputs": [
    {
     "name": "stdout",
     "output_type": "stream",
     "text": [
      "AUC:  0.8592639577707916\n"
     ]
    }
   ],
   "source": [
    "# Calculate predicted probabilities for Xtest1\n",
    "y_prob_nb = gs_tfidf_all.predict_proba(Xtest_all_idf)[:,1]\n",
    "\n",
    "# Calculate AUC for Naive Bayes model with CountVec\n",
    "auc = metrics.roc_auc_score(ytest_all_idf, y_prob_nb)\n",
    "\n",
    "print('AUC: ', auc)"
   ]
  },
  {
   "cell_type": "markdown",
   "metadata": {},
   "source": [
    "__Interpretation:__\n",
    "\n",
    "The Naive Bayes model using a minimum document frequency of .0001 performs well when using lemmatized tokens. GridSearchCV indicated that the best parameters were the default ones. For further algorithms I will continue to use the TfidfVectorizer because it provided slightly better results. \n",
    "\n",
    "Next I will look further into the text to further improve the model amongst other algorithms and classifiers.\n",
    "\n",
    "***\n",
    "### Examine text\n",
    "__Look at False Negatives and False Positives__"
   ]
  },
  {
   "cell_type": "code",
   "execution_count": 24,
   "metadata": {},
   "outputs": [],
   "source": [
    "X_train, X_test, y_train, y_test = train_test_split(X_overall, y_overall, random_state=17)"
   ]
  },
  {
   "cell_type": "code",
   "execution_count": 25,
   "metadata": {},
   "outputs": [],
   "source": [
    "y_pred_gstfidf = gs_tfidf_all.predict(Xtest_all_idf)\n",
    "\n",
    "fp = X_test[ytest_all_idf < y_pred_gstfidf]\n",
    "fn = X_test[ytest_all_idf > y_pred_gstfidf]"
   ]
  },
  {
   "cell_type": "markdown",
   "metadata": {},
   "source": [
    "1. False Positives"
   ]
  },
  {
   "cell_type": "code",
   "execution_count": 26,
   "metadata": {},
   "outputs": [
    {
     "name": "stdout",
     "output_type": "stream",
     "text": [
      "40935    hazy amber color cotton candy apple nose tobac...\n",
      "74219    dark brown color beige head aroma sweet malt b...\n",
      "60307    bottle pour ruby thin head roasted malt aroma ...\n",
      "56063    oz bottle pour light golden amber light tan wi...\n",
      "71139    draught brewpubre amber color twin sister iris...\n",
      "Name: clean_text_lem, dtype: object\n"
     ]
    }
   ],
   "source": [
    "print(fp[0:5])"
   ]
  },
  {
   "cell_type": "code",
   "execution_count": 27,
   "metadata": {
    "scrolled": true
   },
   "outputs": [
    {
     "name": "stdout",
     "output_type": "stream",
     "text": [
      "Hazy amber color, cotton candy and apples in the nose. Tobacco, apples, slightly sour mouth. Flowery dry finish. \n",
      " Predicted Prob:  [[0.35494527 0.64505473]] \n",
      "\n",
      "Dark brown in color with a beige head. Aroma is of sweet malt, brown sugar, and chocolate. Taste is of chocolate and toffee. \n",
      " Predicted Prob:  [[0.10028479 0.89971521]] \n",
      "\n",
      "Bottle...  Poured ruby with a thin head.  Roasted malt aroma.  Highly carbonated, with flavors caramel hops and malt to balance. Has a full body and the flavors are really amped.  Chalky aftertaste. \n",
      " Predicted Prob:  [[0.21189355 0.78810645]] \n",
      "\n",
      "22 oz bottle.  Pours a light golden amber with a light off tan wispy head. Heavy hop nose with a slightly sweet smell. Medium body. Good hop taste not overpowering, a good balance with the malt flavor. \n",
      " Predicted Prob:  [[0.24313403 0.75686597]] \n",
      "\n",
      "Draught at the brewpubRed amber color. Its the twin sister of the Irish Honey Ale, but mellower, sweeter, more perfumy (so far, better) and a light breadish character. \n",
      " Predicted Prob:  [[0.47764306 0.52235694]]\n"
     ]
    }
   ],
   "source": [
    "print(beer_overall.text[40935], '\\n', 'Predicted Prob: ',\n",
    "      gs_tfidf_all.predict_proba(tfidf_vect.transform([beer_overall.clean_text_lem[40935]])), '\\n')\n",
    "print(beer_overall.text[74219], '\\n', 'Predicted Prob: ',\n",
    "      gs_tfidf_all.predict_proba(tfidf_vect.transform([beer_overall.clean_text_lem[74219]])), '\\n')\n",
    "print(beer_overall.text[60307], '\\n', 'Predicted Prob: ',\n",
    "      gs_tfidf_all.predict_proba(tfidf_vect.transform([beer_overall.clean_text_lem[60307]])), '\\n')\n",
    "print(beer_overall.text[56063], '\\n', 'Predicted Prob: ',\n",
    "      gs_tfidf_all.predict_proba(tfidf_vect.transform([beer_overall.clean_text_lem[56063]])), '\\n')\n",
    "print(beer_overall.text[71139], '\\n', 'Predicted Prob: ',\n",
    "      gs_tfidf_all.predict_proba(tfidf_vect.transform([beer_overall.clean_text_lem[71139]])))"
   ]
  },
  {
   "cell_type": "markdown",
   "metadata": {},
   "source": [
    "2. False Negatives"
   ]
  },
  {
   "cell_type": "code",
   "execution_count": 28,
   "metadata": {},
   "outputs": [
    {
     "name": "stdout",
     "output_type": "stream",
     "text": [
      "4491     dark amber colour nice beige head spicy aroma ...\n",
      "25737    bottle grslstasting pour clear copper colour t...\n",
      "68900    bottle trade clevar pour slightly hazy orangis...\n",
      "59597    wonderful bready grainy nutty aroma light gole...\n",
      "24416    ml bottle brewery hazy reddish orange pinkyish...\n",
      "Name: clean_text_lem, dtype: object\n"
     ]
    }
   ],
   "source": [
    "print(fn[0:5])"
   ]
  },
  {
   "cell_type": "code",
   "execution_count": 29,
   "metadata": {},
   "outputs": [
    {
     "name": "stdout",
     "output_type": "stream",
     "text": [
      "Dark amber coloured. Nice beige head. Spicy aroma of primarily corriander. Flavour of caramel, ligth citrus and some alcahol burn. Not much aftertaste, but a decent beer though. \n",
      " Predicted Prob:  [[0.51526669 0.48473331]] \n",
      "\n",
      "Bottle at Grslstasting. Poured clear copper colour with thin white head. Crisp grassy aroma. Flavour is grassy and a bit sweet. Very well balanced. Bitter finish. \n",
      " Predicted Prob:  [[0.80864077 0.19135923]] \n",
      "\n",
      "Bottle from a trade from CLevar. Pours slightly hazy orangish color with off white head. Floral and grassy hop aroma with some caramel.  Lightly sweet caramel flavor with some hop bitterness. Medium body with average carbonation. Thanks Caleb, \n",
      " Predicted Prob:  [[0.51449196 0.48550804]] \n",
      "\n",
      "Wonderful bready, grainy, nutty aroma.  Light goledn appearance, but MUCH more flavor than it looks to have.  Rich and yeasty/bready, I can alomst taste the oats.  Full aftertaste with a hint of warmth going down.  Overall a wonderful lighter beer. \n",
      " Predicted Prob:  [[0.59028172 0.40971828]] \n",
      "\n",
      "500ml bottle at the brewery, hazy reddish-orange-pinkyish hue, with no head, nice yeasty, funky, acidic, tart raspberry sourness nose, with a good musty, oakiness accent, within a sharp fruity aroma follows through on a medium-bodied palate with a dazzling yeasty funkiness, with a tart fruity raspberry sourness character, reminiscent of a raspberry lambic, with a dry acidic raspberry fruity flavor, underlaying some wet oakiness, within a well hidden alcoholic content leading towards a raspberry fruity, acidic, dry finish. \n",
      " Predicted Prob:  [[0.8202261 0.1797739]]\n"
     ]
    }
   ],
   "source": [
    "print(beer_overall.text[4491], '\\n', 'Predicted Prob: ',\n",
    "      gs_tfidf_all.predict_proba(tfidf_vect.transform([beer_overall.clean_text_lem[4491]])), '\\n')\n",
    "print(beer_overall.text[25737], '\\n', 'Predicted Prob: ',\n",
    "      gs_tfidf_all.predict_proba(tfidf_vect.transform([beer_overall.clean_text_lem[25737]])), '\\n')\n",
    "print(beer_overall.text[68900], '\\n', 'Predicted Prob: ',\n",
    "      gs_tfidf_all.predict_proba(tfidf_vect.transform([beer_overall.clean_text_lem[68900]])), '\\n')\n",
    "print(beer_overall.text[59597], '\\n', 'Predicted Prob: ',\n",
    "      gs_tfidf_all.predict_proba(tfidf_vect.transform([beer_overall.clean_text_lem[59597]])), '\\n')\n",
    "print(beer_overall.text[24416], '\\n', 'Predicted Prob: ',\n",
    "      gs_tfidf_all.predict_proba(tfidf_vect.transform([beer_overall.clean_text_lem[24416]])))"
   ]
  },
  {
   "cell_type": "markdown",
   "metadata": {},
   "source": [
    "If you look at each of the reviews up above that were incorrectly considered a \"high\" overall rating beer, you will notice that they are very neutral and objective. For reviews like these it is harder to gain a precise prediction.\n",
    "\n",
    "The same can be said for the false negatives. They are most likely on the cusp of the 3.5 separation I made for the high and low ratings.\n",
    "\n",
    "Next before applying different classifiers I want to see if creating a model for a subset of the beers, in this case IPAs, will create a better model.\n",
    "\n",
    "### IPA Naive Bayes\n"
   ]
  },
  {
   "cell_type": "code",
   "execution_count": 30,
   "metadata": {},
   "outputs": [],
   "source": [
    "# Store overall beer dataset into feature matrix and response vector\n",
    "X_ipa = ipa['clean_text_lem']\n",
    "y_ipa = (ipa.high_low == 'high').values.astype(np.int)"
   ]
  },
  {
   "cell_type": "code",
   "execution_count": 31,
   "metadata": {},
   "outputs": [
    {
     "name": "stdout",
     "output_type": "stream",
     "text": [
      "\n",
      " Best Values: \n",
      " Min_df: 0.001, F1: 0.8101679929266136, AUC: 0.8374011687865245\n"
     ]
    }
   ],
   "source": [
    "best_df = None\n",
    "best_auc = -np.inf\n",
    "best_f1 = None\n",
    "pos_df = [.0001, .001, .01, .1, 1]\n",
    "\n",
    "for min_df in pos_df:\n",
    "    vect = CountVectorizer(min_df=min_df, ngram_range=(1, 2))\n",
    "    \n",
    "    X = vect.fit_transform(ipa.clean_text_lem.apply(str))\n",
    "    X = X.tocsc() \n",
    "    \n",
    "    Xtrain, Xtest, ytrain, ytest = train_test_split(X, y_ipa, random_state=17)\n",
    "    \n",
    "    nb = MultinomialNB(alpha=1, fit_prior=True)\n",
    "    nb.fit(Xtrain, ytrain)\n",
    "    y_pred_count = nb.predict(Xtest)\n",
    "    f1 = metrics.f1_score(ytest, y_pred_count)\n",
    "    y_prob_count = nb.predict_proba(Xtest)[:,1]\n",
    "    auc = metrics.roc_auc_score(ytest, y_prob_count)\n",
    "    if auc > best_auc:\n",
    "        best_auc = auc\n",
    "        best_df = min_df\n",
    "        best_f1 = f1\n",
    "\n",
    "print('\\n Best Values: \\n Min_df: {}, F1: {}, AUC: {}'.format(best_df, best_auc, best_f1))"
   ]
  },
  {
   "cell_type": "code",
   "execution_count": 32,
   "metadata": {},
   "outputs": [
    {
     "name": "stdout",
     "output_type": "stream",
     "text": [
      "\n",
      " Best Values: \n",
      " Min_df: 0.001, F1: 0.8066454465075155, AUC: 0.8456336371655395\n"
     ]
    }
   ],
   "source": [
    "best_df = None\n",
    "best_auc = -np.inf\n",
    "best_f1 = None\n",
    "pos_df = [.0001, .001, .01, .1, 1]\n",
    "\n",
    "for min_df in pos_df:\n",
    "    vect = TfidfVectorizer(min_df=min_df, ngram_range=(1, 2)) \n",
    "    \n",
    "    X = vect.fit_transform(ipa.clean_text_lem.apply(str))\n",
    "    X = X.tocsc() \n",
    "    \n",
    "    Xtrain, Xtest, ytrain, ytest = train_test_split(X, y_ipa, random_state=17)\n",
    "    \n",
    "    nb = MultinomialNB(alpha=1, fit_prior=True)\n",
    "    nb.fit(Xtrain, ytrain)\n",
    "    y_pred_count = nb.predict(Xtest)\n",
    "    f1 = metrics.f1_score(ytest, y_pred_count)\n",
    "    y_prob_count = nb.predict_proba(Xtest)[:,1]\n",
    "    auc = metrics.roc_auc_score(ytest, y_prob_count)\n",
    "    if auc > best_auc:\n",
    "        best_auc = auc\n",
    "        best_df = min_df\n",
    "        best_f1 = f1\n",
    "\n",
    "print('\\n Best Values: \\n Min_df: {}, F1: {}, AUC: {}'.format(best_df, best_auc, best_f1))"
   ]
  },
  {
   "cell_type": "code",
   "execution_count": 33,
   "metadata": {},
   "outputs": [],
   "source": [
    "# Store overall beer dataset into feature matrix and response vector\n",
    "X_ipa = ipa['clean_text_lem']\n",
    "y_ipa = (ipa.high_low == 'high').values.astype(np.int)\n",
    "\n",
    "# Instantiate CountVectorizer and TfidfVectorizer\n",
    "vect = CountVectorizer(min_df=.001, ngram_range=(1, 2)) \n",
    "tfidf_vect = TfidfVectorizer(min_df=.001, ngram_range=(1, 2))\n",
    "\n",
    "\n",
    "# Apply CountVectorizer \n",
    "X_ipa_C = vect.fit_transform(ipa.clean_text_lem.apply(str))\n",
    "X_ipa_C = X_ipa_C.tocsc() \n",
    "\n",
    "# Apply TfidfVectorizer\n",
    "X_ipa_idf = tfidf_vect.fit_transform(ipa.clean_text_lem.apply(str))\n",
    "X_ipa_idf = X_ipa_idf.tocsc() \n",
    "\n",
    "\n",
    "# Split train/test data for all data\n",
    "# This is for CountVectorizer\n",
    "Xtrain_ipa_C, Xtest_ipa_C, ytrain_ipa_C, ytest_ipa_C = train_test_split(X_ipa_C, y_ipa, random_state=17)\n",
    "\n",
    "# This is for Tfidf Vectorizer\n",
    "Xtrain_ipa_idf, Xtest_ipa_idf, ytrain_ipa_idf, ytest_ipa_idf = train_test_split(X_ipa_idf, y_ipa, random_state=17)"
   ]
  },
  {
   "cell_type": "code",
   "execution_count": 34,
   "metadata": {},
   "outputs": [
    {
     "name": "stdout",
     "output_type": "stream",
     "text": [
      "CountVectorizer(analyzer='word', binary=False, decode_error='strict',\n",
      "        dtype=<class 'numpy.int64'>, encoding='utf-8', input='content',\n",
      "        lowercase=True, max_df=1.0, max_features=None, min_df=0.001,\n",
      "        ngram_range=(1, 2), preprocessor=None, stop_words=None,\n",
      "        strip_accents=None, token_pattern='(?u)\\\\b\\\\w\\\\w+\\\\b',\n",
      "        tokenizer=None, vocabulary=None)\n",
      "\n",
      "F1 Score:  0.8374011687865245\n",
      "\n",
      "Confusion Matrix:\n",
      " [[ 344  241]\n",
      " [ 232 1218]]\n",
      "\n",
      "AUC:  0.8101679929266136\n"
     ]
    }
   ],
   "source": [
    "# Instantiate MultinomialNB() for CountVectorizer\n",
    "nb_ipa = MultinomialNB(alpha=1, fit_prior=True)\n",
    "\n",
    "# Train model\n",
    "nb_ipa.fit(Xtrain_ipa_C, ytrain_ipa_C)\n",
    "\n",
    "# Make predictions for Xtest\n",
    "y_pred_count = nb_ipa.predict(Xtest_ipa_C)\n",
    "\n",
    "# Calculate F1 Score\n",
    "f1 = metrics.f1_score(ytest_ipa_C, y_pred_count)\n",
    "\n",
    "# Confusion matrix\n",
    "cm = metrics.confusion_matrix(ytest_ipa_C, y_pred_count)\n",
    "\n",
    "# Calculate predicted probabilities for Xtest\n",
    "y_prob_count = nb_ipa.predict_proba(Xtest_ipa_C)[:,1]\n",
    "\n",
    "# Calculate AUC for Naive Bayes model with CountVec\n",
    "auc = metrics.roc_auc_score(ytest_ipa_C, y_prob_count)\n",
    "\n",
    "print(vect)\n",
    "print('\\nF1 Score: ', f1)\n",
    "print('\\nConfusion Matrix:\\n', cm)\n",
    "print('\\nAUC: ', auc)"
   ]
  },
  {
   "cell_type": "code",
   "execution_count": 35,
   "metadata": {},
   "outputs": [
    {
     "name": "stdout",
     "output_type": "stream",
     "text": [
      "TfidfVectorizer(analyzer='word', binary=False, decode_error='strict',\n",
      "        dtype=<class 'numpy.float64'>, encoding='utf-8', input='content',\n",
      "        lowercase=True, max_df=1.0, max_features=None, min_df=0.001,\n",
      "        ngram_range=(1, 2), norm='l2', preprocessor=None, smooth_idf=True,\n",
      "        stop_words=None, strip_accents=None, sublinear_tf=False,\n",
      "        token_pattern='(?u)\\\\b\\\\w\\\\w+\\\\b', tokenizer=None, use_idf=True,\n",
      "        vocabulary=None)\n",
      "\n",
      "F1 Score:  0.8456336371655395\n",
      "\n",
      "Confusion Matrix:\n",
      " [[  72  513]\n",
      " [  12 1438]]\n",
      "\n",
      "AUC:  0.8066454465075155\n"
     ]
    }
   ],
   "source": [
    "# Instantiate multinomialNB() for TfidfVectorizer\n",
    "nb_tfidf_ipa = MultinomialNB(alpha=1, fit_prior=True)\n",
    "\n",
    "# Train model\n",
    "nb_tfidf_ipa.fit(Xtrain_ipa_idf, ytrain_ipa_idf)\n",
    "\n",
    "# Make predictions for Xtest1\n",
    "y_pred_tfidf = nb_tfidf_ipa.predict(Xtest_ipa_idf)\n",
    "\n",
    "# Calculate F1 Score\n",
    "f1 = metrics.f1_score(ytest_ipa_idf, y_pred_tfidf)\n",
    "\n",
    "# Confusion matrix\n",
    "cm = metrics.confusion_matrix(ytest_ipa_idf, y_pred_tfidf)\n",
    "\n",
    "# Calculate predicted probabilities for Xtest1\n",
    "y_prob_tfidf = nb_tfidf_ipa.predict_proba(Xtest_ipa_idf)[:,1]\n",
    "\n",
    "# Calculate AUC for Naive Bayes model with Tfidf\n",
    "auc = metrics.roc_auc_score(ytest_ipa_idf, y_prob_tfidf)\n",
    "\n",
    "print(tfidf_vect)\n",
    "print('\\nF1 Score: ', f1)\n",
    "print('\\nConfusion Matrix:\\n', cm)\n",
    "print('\\nAUC: ', auc)"
   ]
  },
  {
   "cell_type": "code",
   "execution_count": 36,
   "metadata": {},
   "outputs": [
    {
     "name": "stdout",
     "output_type": "stream",
     "text": [
      "GridSearchCV(cv=5, error_score='raise-deprecating',\n",
      "       estimator=MultinomialNB(alpha=1.0, class_prior=None, fit_prior=True),\n",
      "       fit_params=None, iid='warn', n_jobs=-1,\n",
      "       param_grid={'fit_prior': (True, False), 'alpha': (0.001, 0.01, 0.1, 1, 5, 10)},\n",
      "       pre_dispatch='2*n_jobs', refit=True, return_train_score='warn',\n",
      "       scoring='roc_auc', verbose=0)\n",
      "\n",
      "Best Score:  0.7995704448127914\n"
     ]
    }
   ],
   "source": [
    "# Perform GridSearch on Naive Bayes using the given parameters and CountVectorizer\n",
    "gs_count_ipa = GridSearchCV(MultinomialNB(), parameters, scoring='roc_auc', n_jobs=-1, cv=5)\n",
    "gs_count_ipa.fit(Xtrain_ipa_C, ytrain_ipa_C)\n",
    "\n",
    "# Show the best score and parameters used\n",
    "print(gs_count_ipa)\n",
    "print('\\nBest Score: ', gs_count_ipa.best_score_)"
   ]
  },
  {
   "cell_type": "code",
   "execution_count": 37,
   "metadata": {},
   "outputs": [
    {
     "name": "stdout",
     "output_type": "stream",
     "text": [
      "GridSearchCV(cv=5, error_score='raise-deprecating',\n",
      "       estimator=MultinomialNB(alpha=1.0, class_prior=None, fit_prior=True),\n",
      "       fit_params=None, iid='warn', n_jobs=-1,\n",
      "       param_grid={'fit_prior': (True, False), 'alpha': (0.001, 0.01, 0.1, 1, 5, 10)},\n",
      "       pre_dispatch='2*n_jobs', refit=True, return_train_score='warn',\n",
      "       scoring='roc_auc', verbose=0)\n",
      "\n",
      "Best Score:  0.7904826909160307\n"
     ]
    }
   ],
   "source": [
    "# Perform GridSearch on Naive Bayes using the given parameters and TfidfVectorizer\n",
    "gs_tfidf_ipa = GridSearchCV(MultinomialNB(), parameters, scoring='roc_auc', n_jobs=-1, cv=5)\n",
    "gs_tfidf_ipa.fit(Xtrain_ipa_idf, ytrain_ipa_idf)\n",
    "\n",
    "# Show the best score and parameters used\n",
    "print(gs_tfidf_ipa)\n",
    "print('\\nBest Score: ', gs_tfidf_ipa.best_score_)"
   ]
  },
  {
   "cell_type": "markdown",
   "metadata": {},
   "source": [
    "### Compare Models. Does IPA Naive Bayes model work better on overall dataset?"
   ]
  },
  {
   "cell_type": "code",
   "execution_count": 38,
   "metadata": {},
   "outputs": [
    {
     "name": "stdout",
     "output_type": "stream",
     "text": [
      "GridSearchCV(cv=5, error_score='raise-deprecating',\n",
      "       estimator=MultinomialNB(alpha=1.0, class_prior=None, fit_prior=True),\n",
      "       fit_params=None, iid='warn', n_jobs=-1,\n",
      "       param_grid={'fit_prior': (True, False), 'alpha': (0.001, 0.01, 0.1, 1, 5, 10)},\n",
      "       pre_dispatch='2*n_jobs', refit=True, return_train_score='warn',\n",
      "       scoring='roc_auc', verbose=0)\n",
      "\n",
      "Best Score:  0.8567292195676448\n"
     ]
    }
   ],
   "source": [
    "gs_tfidf_ipa.fit(Xtrain_all_idf, ytrain_all_idf)\n",
    "# Show the best score and parameters used\n",
    "print(gs_tfidf_ipa)\n",
    "print('\\nBest Score: ', gs_tfidf_ipa.best_score_)"
   ]
  },
  {
   "cell_type": "code",
   "execution_count": 39,
   "metadata": {},
   "outputs": [
    {
     "name": "stdout",
     "output_type": "stream",
     "text": [
      "GridSearchCV(cv=5, error_score='raise-deprecating',\n",
      "       estimator=MultinomialNB(alpha=1.0, class_prior=None, fit_prior=True),\n",
      "       fit_params=None, iid='warn', n_jobs=-1,\n",
      "       param_grid={'fit_prior': (True, False), 'alpha': (0.001, 0.01, 0.1, 1, 5, 10)},\n",
      "       pre_dispatch='2*n_jobs', refit=True, return_train_score='warn',\n",
      "       scoring='roc_auc', verbose=0)\n",
      "\n",
      "Best Score:  0.7904826909160307\n"
     ]
    }
   ],
   "source": [
    "gs_tfidf_all_ipa = gs_tfidf_all\n",
    "gs_tfidf_all_ipa.fit(Xtrain_ipa_idf, ytrain_ipa_idf)\n",
    "print(gs_tfidf_all_ipa)\n",
    "print('\\nBest Score: ', gs_tfidf_all_ipa.best_score_)"
   ]
  },
  {
   "cell_type": "markdown",
   "metadata": {},
   "source": [
    "Does not create a better result using the IPA model. \n",
    "\n",
    "To conclude using Naive Bayes, when looking at the entire dataset a TFIDF Vectorizer worked best with standard parameters. The area under the curve came out to be 0.8567292195676448. This can be seen in the graph below.\n",
    "\n",
    "Moving forward I will use the split data using the TFIDF Vectorizer with different classifiers."
   ]
  },
  {
   "cell_type": "markdown",
   "metadata": {},
   "source": [
    "***\n",
    "\n",
    "## Experiment with Other Classifiers \n",
    "### 1. Logistic Regression"
   ]
  },
  {
   "cell_type": "code",
   "execution_count": 40,
   "metadata": {},
   "outputs": [
    {
     "data": {
      "text/plain": [
       "0.8282099149554034"
      ]
     },
     "execution_count": 40,
     "metadata": {},
     "output_type": "execute_result"
    }
   ],
   "source": [
    "# Instantiate and fit training data to Logistic Regression Model\n",
    "log_clf = LogisticRegressionCV(scoring='roc_auc', class_weight='balanced', cv=5, max_iter=1000).fit(Xtrain_all_idf, \n",
    "                                                                                                    ytrain_all_idf)\n",
    "# Predict ratings for Logistic Regression Model\n",
    "pred_log_clf = log_clf.predict(Xtest_all_idf)\n",
    "\n",
    "# Calculate F1 Score\n",
    "metrics.f1_score(ytest_all_idf, pred_log_clf)"
   ]
  },
  {
   "cell_type": "code",
   "execution_count": 41,
   "metadata": {},
   "outputs": [
    {
     "data": {
      "text/plain": [
       "LogisticRegressionCV(Cs=10, class_weight='balanced', cv=5, dual=False,\n",
       "           fit_intercept=True, intercept_scaling=1.0, max_iter=1000,\n",
       "           multi_class='warn', n_jobs=None, penalty='l2',\n",
       "           random_state=None, refit=True, scoring='roc_auc',\n",
       "           solver='lbfgs', tol=0.0001, verbose=0)"
      ]
     },
     "execution_count": 41,
     "metadata": {},
     "output_type": "execute_result"
    }
   ],
   "source": [
    "log_clf"
   ]
  },
  {
   "cell_type": "code",
   "execution_count": 224,
   "metadata": {},
   "outputs": [],
   "source": [
    "# Calculate Predicted Probabilities\n",
    "pred_prob_log_clf = log_clf.predict_proba(Xtest_all_idf)[:,1]"
   ]
  },
  {
   "cell_type": "code",
   "execution_count": 43,
   "metadata": {},
   "outputs": [
    {
     "data": {
      "text/plain": [
       "0.8733554720786474"
      ]
     },
     "execution_count": 43,
     "metadata": {},
     "output_type": "execute_result"
    }
   ],
   "source": [
    "# Determine ROC Score\n",
    "metrics.roc_auc_score(ytest_all_idf, pred_prob_log_clf)"
   ]
  },
  {
   "cell_type": "code",
   "execution_count": 44,
   "metadata": {},
   "outputs": [
    {
     "data": {
      "image/png": "[encoded data removed]",
      "text/plain": [
       "<Figure size 720x720 with 1 Axes>"
      ]
     },
     "metadata": {
      "needs_background": "light"
     },
     "output_type": "display_data"
    }
   ],
   "source": [
    "# Generate ROC curve values: fpr, tpr, thresholds\n",
    "fpr, tpr, thresholds = roc_curve(ytest_all_idf, pred_prob_log_clf)\n",
    "\n",
    "# Plot ROC curve\n",
    "plt.figure(figsize=(10,10))\n",
    "plt.plot([0, 1], [0, 1], 'k--')\n",
    "plt.plot(fpr, tpr)\n",
    "plt.xlabel('False Positive Rate')\n",
    "plt.ylabel('True Positive Rate')\n",
    "plt.title('ROC Curve for LogisticRegressionCV')\n",
    "plt.show()"
   ]
  },
  {
   "cell_type": "markdown",
   "metadata": {},
   "source": [
    "***\n",
    "### 2. Random Forests"
   ]
  },
  {
   "cell_type": "code",
   "execution_count": 126,
   "metadata": {},
   "outputs": [
    {
     "data": {
      "text/plain": [
       "0.8339733110291603"
      ]
     },
     "execution_count": 126,
     "metadata": {},
     "output_type": "execute_result"
    }
   ],
   "source": [
    "# Instantiate and fit Random Forests Model\n",
    "randofor_clf = RandomForestClassifier(class_weight='balanced',\n",
    "                                     n_estimators=100).fit(Xtrain_all_idf, ytrain_all_idf)\n",
    "\n",
    "# Predict Ratings using Random Forests Model\n",
    "pred_randofor_clf = randofor_clf.predict(Xtest_all_idf)\n",
    "\n",
    "# Calculate F1 Score\n",
    "metrics.f1_score(ytest_all_idf, pred_randofor_clf)"
   ]
  },
  {
   "cell_type": "code",
   "execution_count": 127,
   "metadata": {},
   "outputs": [],
   "source": [
    "parameters = {'max_features': [500, 600, 700, 800],\n",
    "              'min_samples_leaf': (5,6,7,8,9),\n",
    "              }"
   ]
  },
  {
   "cell_type": "code",
   "execution_count": 128,
   "metadata": {},
   "outputs": [
    {
     "data": {
      "text/plain": [
       "GridSearchCV(cv=5, error_score='raise-deprecating',\n",
       "       estimator=RandomForestClassifier(bootstrap=True, class_weight='balanced',\n",
       "            criterion='gini', max_depth=None, max_features='auto',\n",
       "            max_leaf_nodes=None, min_impurity_decrease=0.0,\n",
       "            min_impurity_split=None, min_samples_leaf=1,\n",
       "            min_samples_split=2, min_weight_fraction_leaf=0.0,\n",
       "            n_estimators=100, n_jobs=None, oob_score=False,\n",
       "            random_state=None, verbose=0, warm_start=False),\n",
       "       fit_params=None, iid='warn', n_jobs=-1,\n",
       "       param_grid={'max_features': [500, 600, 700, 800], 'min_samples_leaf': (5, 6, 7, 8, 9)},\n",
       "       pre_dispatch='2*n_jobs', refit=True, return_train_score='warn',\n",
       "       scoring='roc_auc', verbose=0)"
      ]
     },
     "execution_count": 128,
     "metadata": {},
     "output_type": "execute_result"
    }
   ],
   "source": [
    "# create an instance of the grid search by passing the classifier, parameters \n",
    "# and n_jobs=-1 which tells to use multiple cores from user machine.\n",
    "gs_rf = GridSearchCV(RandomForestClassifier(class_weight='balanced', n_estimators=100), \n",
    "                     parameters, scoring='roc_auc', n_jobs=-1, cv=5)\n",
    "gs_rf.fit(Xtrain_all_idf, ytrain_all_idf)"
   ]
  },
  {
   "cell_type": "code",
   "execution_count": 129,
   "metadata": {},
   "outputs": [
    {
     "data": {
      "text/plain": [
       "GridSearchCV(cv=5, error_score='raise-deprecating',\n",
       "       estimator=RandomForestClassifier(bootstrap=True, class_weight='balanced',\n",
       "            criterion='gini', max_depth=None, max_features='auto',\n",
       "            max_leaf_nodes=None, min_impurity_decrease=0.0,\n",
       "            min_impurity_split=None, min_samples_leaf=1,\n",
       "            min_samples_split=2, min_weight_fraction_leaf=0.0,\n",
       "            n_estimators=100, n_jobs=None, oob_score=False,\n",
       "            random_state=None, verbose=0, warm_start=False),\n",
       "       fit_params=None, iid='warn', n_jobs=-1,\n",
       "       param_grid={'max_features': [500, 600, 700, 800], 'min_samples_leaf': (5, 6, 7, 8, 9)},\n",
       "       pre_dispatch='2*n_jobs', refit=True, return_train_score='warn',\n",
       "       scoring='roc_auc', verbose=0)"
      ]
     },
     "execution_count": 129,
     "metadata": {},
     "output_type": "execute_result"
    }
   ],
   "source": [
    "gs_rf"
   ]
  },
  {
   "cell_type": "code",
   "execution_count": 130,
   "metadata": {},
   "outputs": [
    {
     "name": "stdout",
     "output_type": "stream",
     "text": [
      "Best Score:  0.8467779669624498\n",
      "Best Parameters:  {'max_features': 500, 'min_samples_leaf': 5}\n"
     ]
    }
   ],
   "source": [
    "# Get best parameters and best accuracy score\n",
    "print('Best Score: ', gs_rf.best_score_)\n",
    "print('Best Parameters: ', gs_rf.best_params_)"
   ]
  },
  {
   "cell_type": "code",
   "execution_count": 131,
   "metadata": {},
   "outputs": [],
   "source": [
    "# calculate predicted probabilities\n",
    "pred_prob_randofor_clf = gs_rf.predict_proba(Xtest_all_idf)[:, 1]"
   ]
  },
  {
   "cell_type": "code",
   "execution_count": 132,
   "metadata": {},
   "outputs": [
    {
     "data": {
      "text/plain": [
       "0.8513179077939098"
      ]
     },
     "execution_count": 132,
     "metadata": {},
     "output_type": "execute_result"
    }
   ],
   "source": [
    "# Determine ROC score\n",
    "metrics.roc_auc_score(ytest_all_idf, pred_prob_randofor_clf)"
   ]
  },
  {
   "cell_type": "code",
   "execution_count": 133,
   "metadata": {},
   "outputs": [
    {
     "data": {
      "image/png": "[encoded data removed]",
      "text/plain": [
       "<Figure size 720x720 with 1 Axes>"
      ]
     },
     "metadata": {
      "needs_background": "light"
     },
     "output_type": "display_data"
    }
   ],
   "source": [
    "# Generate ROC curve values: fpr, tpr, thresholds\n",
    "fpr, tpr, thresholds = roc_curve(ytest_all_idf, pred_prob_randofor_clf)\n",
    "\n",
    "# Plot ROC curve\n",
    "plt.figure(figsize=(10,10))\n",
    "plt.plot([0, 1], [0, 1], 'k--')\n",
    "plt.plot(fpr, tpr)\n",
    "plt.xlabel('False Positive Rate')\n",
    "plt.ylabel('True Positive Rate')\n",
    "plt.title('ROC Curve for RandomForestClassifier')\n",
    "plt.show()"
   ]
  },
  {
   "cell_type": "markdown",
   "metadata": {},
   "source": [
    "***\n",
    "### 3. Support Vector Machines"
   ]
  },
  {
   "cell_type": "code",
   "execution_count": 120,
   "metadata": {},
   "outputs": [
    {
     "data": {
      "text/plain": [
       "0.8387377068604606"
      ]
     },
     "execution_count": 120,
     "metadata": {},
     "output_type": "execute_result"
    }
   ],
   "source": [
    "# Instantinate and Train SVM model\n",
    "svm_clf = SVC(C=1.0, kernel='linear', degree=3, gamma='auto', probability=True)\n",
    "svm_clf.fit(Xtrain_all_idf, ytrain_all_idf)\n",
    "\n",
    "# Predict ratings using SVM model\n",
    "pred_svm = svm_clf.predict(Xtest_all_idf)\n",
    "\n",
    "# Calculate F1 Score\n",
    "metrics.f1_score(ytest_all_idf, pred_svm)"
   ]
  },
  {
   "cell_type": "code",
   "execution_count": 121,
   "metadata": {},
   "outputs": [],
   "source": [
    "# Calculate Predicted Probabiliites for SVM model\n",
    "pred_prob_svm_clf = svm_clf.predict_proba(Xtest_all_idf)[:, 1]"
   ]
  },
  {
   "cell_type": "code",
   "execution_count": 122,
   "metadata": {},
   "outputs": [
    {
     "data": {
      "text/plain": [
       "0.8684223780553382"
      ]
     },
     "execution_count": 122,
     "metadata": {},
     "output_type": "execute_result"
    }
   ],
   "source": [
    "# Generate ROC Score\n",
    "metrics.roc_auc_score(ytest_all_idf, pred_prob_svm_clf)"
   ]
  },
  {
   "cell_type": "code",
   "execution_count": 124,
   "metadata": {
    "scrolled": false
   },
   "outputs": [
    {
     "data": {
      "image/png": "[encoded data removed]",
      "text/plain": [
       "<Figure size 720x720 with 1 Axes>"
      ]
     },
     "metadata": {
      "needs_background": "light"
     },
     "output_type": "display_data"
    }
   ],
   "source": [
    "# Generate ROC curve values: fpr, tpr, thresholds\n",
    "fpr, tpr, thresholds = roc_curve(ytest_all_idf, pred_prob_svm_clf)\n",
    "\n",
    "# Plot ROC curve\n",
    "plt.figure(figsize=(10,10))\n",
    "plt.plot([0, 1], [0, 1], 'k--')\n",
    "plt.plot(fpr, tpr)\n",
    "plt.xlabel('False Positive Rate')\n",
    "plt.ylabel('True Positive Rate')\n",
    "plt.title('ROC Curve for SVC')\n",
    "plt.show()"
   ]
  },
  {
   "cell_type": "markdown",
   "metadata": {},
   "source": [
    "***\n",
    "## Examine Predicted Probabilities of Best Model\n",
    "The best model was LogisticRegressionCV. Let's examine the predicted probabilities for this model.  "
   ]
  },
  {
   "cell_type": "code",
   "execution_count": 45,
   "metadata": {},
   "outputs": [
    {
     "name": "stdout",
     "output_type": "stream",
     "text": [
      "[[6229 1762]\n",
      " [2379 9982]]\n"
     ]
    }
   ],
   "source": [
    "# Create and print the confusion matrix for the LogReg Model\n",
    "confusion_logreg = metrics.confusion_matrix(ytest_all_idf, pred_log_clf)\n",
    "print(confusion_logreg)"
   ]
  },
  {
   "cell_type": "code",
   "execution_count": 48,
   "metadata": {},
   "outputs": [],
   "source": [
    "# Determine the false positives and false negatives based off the predictions made using LogisticRegressionCV\n",
    "fp = X_test[ytest_all_idf < pred_log_clf]\n",
    "fn = X_test[ytest_all_idf > pred_log_clf]\n",
    "\n",
    "# Determine predicted probabilites for false positives and false negatives\n",
    "a = pred_prob_log_clf[ytest_all_idf < pred_log_clf]\n",
    "b = pred_prob_log_clf[ytest_all_idf > pred_log_clf]\n",
    "\n",
    "# Convert false negative and false positives from series to data frame\n",
    "fp = fp.to_frame()\n",
    "fn = fn.to_frame()\n",
    "\n",
    "# Add Predictive Probabilities as a Column\n",
    "fp['pred_prob'] = a\n",
    "fn['pred_prob'] = b\n",
    "\n",
    "# Sort by Predictive Probabilities\n",
    "fp = fp.sort_values(by=['pred_prob'], ascending=False)\n",
    "fn = fn.sort_values(by=['pred_prob'] )"
   ]
  },
  {
   "cell_type": "markdown",
   "metadata": {},
   "source": [
    "1. False Positives - When the rating was low but predicted as high"
   ]
  },
  {
   "cell_type": "code",
   "execution_count": 49,
   "metadata": {},
   "outputs": [
    {
     "name": "stdout",
     "output_type": "stream",
     "text": [
      "                                          clean_text_lem  pred_prob\n",
      "67135  oz bottle bevmo pour yellowish color pure whit...   0.995780\n",
      "61414  fruity sweet smell nice foamy head good malt d...   0.993783\n",
      "2222   amber color good balance sweet malty aroma nic...   0.989848\n",
      "62141  bomber nice hazy look smell hoppy taste nicely...   0.978987\n",
      "57381  oz bottle pour golden amber solid head aroma c...   0.978267\n"
     ]
    }
   ],
   "source": [
    "# Print the first five false positives\n",
    "print(fp[0:5])"
   ]
  },
  {
   "cell_type": "code",
   "execution_count": 50,
   "metadata": {},
   "outputs": [
    {
     "name": "stdout",
     "output_type": "stream",
     "text": [
      "22oz bottle from Bevmo.  Pours a yellowish color with a pure white, fluffy head. Piney citrus aroma. Nice toasty malt flavors behind some citrus hop flavors. Very floral in the finish. Really nice and drinkable, this one has some good character, and hides the alcohol well. A very solid, tasty brew. \n",
      " Predicted Probability:  0.9957798169941683 \n",
      "\n",
      "fruity sweet smell with a nice foamy head. good malt with a dry hoppy finish good balance alcohol is well hidden \n",
      " Predicted Probability:  0.9937825710884449 \n",
      "\n",
      "Amber in color, good balance, sweet malty aroma, nice lacy head, very well balanced, excellent hoppiness to the beer then the malty sweetness flavors took over, all around great beer \n",
      " Predicted Probability:  0.9898480242936349 \n",
      "\n",
      "From bomber. Nice hazy look to it, smells hoppy, tastes nicely fruity and with a nice hop backbone. Very well balanced and hides the alcohol. \t\tgood stuff. \n",
      " Predicted Probability:  0.9789871606622387 \n",
      "\n",
      "22 oz bottle. Poured a golden amber, with a solid head. Aroma of citrus and hops with a little something woody. Good body with a decent hop profile and good overall balance. Not as bitter of hoppy as i was lead on to believe by the descitption. still overall a very good beer. \n",
      " Predicted Probability:  0.978267025965917 \n",
      "\n"
     ]
    }
   ],
   "source": [
    "# Print the full text of the false positives along with its predicted probability\n",
    "print(beer_overall.text[67135], '\\n', 'Predicted Probability: ', fp.pred_prob.iloc[0], '\\n')\n",
    "print(beer_overall.text[61414], '\\n', 'Predicted Probability: ', fp.pred_prob.iloc[1], '\\n')\n",
    "print(beer_overall.text[2222], '\\n', 'Predicted Probability: ', fp.pred_prob.iloc[2], '\\n')\n",
    "print(beer_overall.text[62141], '\\n', 'Predicted Probability: ', fp.pred_prob.iloc[3], '\\n')\n",
    "print(beer_overall.text[57381], '\\n', 'Predicted Probability: ', fp.pred_prob.iloc[4], '\\n')"
   ]
  },
  {
   "cell_type": "markdown",
   "metadata": {},
   "source": [
    "Look at the extreme false positives it appears that there could be a variety of things causing this to occur. The first, these reviewers are harsh and an overall beer falls to them as a 3 star rating. I may need to change my binary 'high', 'low' rating to adjust for this.\n",
    "\n",
    "Second, for the most part, the content of the review is describing the beer and its qualities with a few positive words added in as part of that description. These words may be insinuating a more positive review than it actually is.\n",
    "\n",
    "2. False Negatives - When the rating was high but predicted as low"
   ]
  },
  {
   "cell_type": "code",
   "execution_count": 51,
   "metadata": {},
   "outputs": [
    {
     "name": "stdout",
     "output_type": "stream",
     "text": [
      "                                          clean_text_lem  pred_prob\n",
      "36260  tap brewpub pour clear pale yellow minimal wis...   0.004538\n",
      "4757                                     nothing special   0.005078\n",
      "55204  ml bottle look part aroma mild flavour one dim...   0.005502\n",
      "51057  draught pour red amber thin white head weak su...   0.005607\n",
      "60155  not great beer not terrible would not buy expe...   0.008396\n"
     ]
    }
   ],
   "source": [
    "# Print the first five false negatives\n",
    "print(fn[0:5])"
   ]
  },
  {
   "cell_type": "code",
   "execution_count": 52,
   "metadata": {},
   "outputs": [
    {
     "name": "stdout",
     "output_type": "stream",
     "text": [
      "On tap, at brewpub.  Pours a clear pale yellow with a minimal wispy white head, light visible carbonation.  Light but clean pale malt nose, no corn noticeable with minimal to no hops.  The flavors a bit grassy and has a touch of corn, but its still pretty clean.  The mouth feel is light bodied and fizzy wth fizzy spritzy carbonation.  Not bad for what it is. \n",
      " Predicted Probability:  0.004537897704474279 \n",
      "\n",
      "Nothing special. \n",
      " Predicted Probability:  0.005077654695533623 \n",
      "\n",
      "650 mL bottle.  Looks the part, but the aroma is mild, and the flavour is one-dimensional.  Not enough roast and too much soya sauce.  Not bad, really.  Just a little disappointing. \n",
      " Predicted Probability:  0.005501506079379048 \n",
      "\n",
      "Draught. Pours red amber with a thin off white head. Weak sugary malt and hop aroma. Flavor is more sweet, sugary malt with a touch of hops. Overall somewhat bland. Nothing offensive but nothing wooing me over. \n",
      " Predicted Probability:  0.0056066828511128226 \n",
      "\n",
      "Not a great beer at all, not terrible, I wouldnt buy it again. I was expecting substantially more.  thin, had a weird off flavor, tasted like a kicked up brown ale. \n",
      " Predicted Probability:  0.008395747200617584 \n",
      "\n"
     ]
    }
   ],
   "source": [
    "# Print the full text of the false negatives along with its predicted probability\n",
    "print(beer_overall.text[36260], '\\n', 'Predicted Probability: ', fn.pred_prob.iloc[0], '\\n')\n",
    "print(beer_overall.text[4757], '\\n', 'Predicted Probability: ', fn.pred_prob.iloc[1], '\\n')\n",
    "print(beer_overall.text[55204], '\\n', 'Predicted Probability: ', fn.pred_prob.iloc[2], '\\n')\n",
    "print(beer_overall.text[51057], '\\n', 'Predicted Probability: ', fn.pred_prob.iloc[3], '\\n')\n",
    "print(beer_overall.text[60155], '\\n', 'Predicted Probability: ', fn.pred_prob.iloc[4], '\\n')"
   ]
  },
  {
   "cell_type": "markdown",
   "metadata": {},
   "source": [
    "Vice versa, these reviewers may be easy going and often than not provide higher reviews. It appears their reviews give a similar tone of nothing special but nothing poor. However, just like the positive reviews, these reviews appear to have certain negative words such as 'nothing' and 'bad' that may make it appear that the sentiment is lower than it actually is. \n",
    "\n",
    "Looking at the predicted probabilities you see that the classifier may not be at the best threshold. I will try to adjust this next"
   ]
  },
  {
   "cell_type": "markdown",
   "metadata": {},
   "source": [
    "***\n",
    "## Thresholding for Different Business Cases \n",
    "#### 1. Accuracy - Sometimes you want to most accurate predictions. In this model I will try to get the least number of false positives and false negatives.\n",
    "\n",
    "The default threshold is 0.5. I am going to examine different levels to see if I can determine a better threshold.\n",
    "\n",
    "For the first business case, I am looking at accuracy and confusion matrices to determine the best threshold to have the best accuracy and least number of false positives and false negatives. "
   ]
  },
  {
   "cell_type": "code",
   "execution_count": 275,
   "metadata": {},
   "outputs": [],
   "source": [
    "def adjust_pred_prob(y_pred_prob, new_threshold):\n",
    "    \"\"\"Adjust predicted probabilities to match new threshold value\"\"\"\n",
    "    \n",
    "    return [1 if y >= new_threshold else 0 for y in y_pred_prob]"
   ]
  },
  {
   "cell_type": "code",
   "execution_count": 276,
   "metadata": {},
   "outputs": [
    {
     "data": {
      "text/plain": [
       "0.7935208913684557"
      ]
     },
     "execution_count": 276,
     "metadata": {},
     "output_type": "execute_result"
    }
   ],
   "source": [
    "# Calculate balanced accuracy\n",
    "balanced_accuracy_score(ytest_all_idf, pred_log_clf)"
   ]
  },
  {
   "cell_type": "code",
   "execution_count": 287,
   "metadata": {},
   "outputs": [],
   "source": [
    "thresholds=np.arange(0,1,.01)"
   ]
  },
  {
   "cell_type": "code",
   "execution_count": 289,
   "metadata": {},
   "outputs": [],
   "source": [
    "accuracy_points = []\n",
    "\n",
    "for t in thresholds:\n",
    "        adjusted_y_pred = adjust_pred_prob(pred_prob_log_clf, new_threshold=t)\n",
    "        new_balance = accuracy_score(ytest_all_idf, adjusted_y_pred)\n",
    "        accuracy_points.append(new_balance)"
   ]
  },
  {
   "cell_type": "code",
   "execution_count": 290,
   "metadata": {},
   "outputs": [],
   "source": [
    "balanced_accuracy_points = []\n",
    "\n",
    "for t in thresholds:\n",
    "        adjusted_y_pred = adjust_pred_prob(pred_prob_log_clf, new_threshold=t)\n",
    "        new_balance = balanced_accuracy_score(ytest_all_idf, adjusted_y_pred)\n",
    "        balanced_accuracy_points.append(new_balance)"
   ]
  },
  {
   "cell_type": "code",
   "execution_count": 291,
   "metadata": {},
   "outputs": [
    {
     "data": {
      "image/png": "[encoded data removed]",
      "text/plain": [
       "<Figure size 720x360 with 1 Axes>"
      ]
     },
     "metadata": {
      "needs_background": "light"
     },
     "output_type": "display_data"
    }
   ],
   "source": [
    "plt.figure(figsize=(10,5))\n",
    "plt.plot(thresholds, accuracy_points, color='blue')\n",
    "plt.plot(thresholds, balanced_accuracy_points, color='red')\n",
    "plt.title('Accuracy Curve')\n",
    "plt.legend(('Accuracy', 'Balanced Accuracy'))\n",
    "plt.xlabel('Threshold')\n",
    "plt.axvline(x=.43, color='black')\n",
    "plt.text(.41,.7,'Optimal Threshold Accuracy',rotation=90)\n",
    "plt.axvline(x=.5, color='black')\n",
    "plt.text(.48,.73,'Optimal Threshold Balanced Acc.',rotation=90)\n",
    "plt.ylabel('Proportion')\n",
    "plt.show()"
   ]
  },
  {
   "cell_type": "code",
   "execution_count": 303,
   "metadata": {},
   "outputs": [
    {
     "name": "stdout",
     "output_type": "stream",
     "text": [
      "Highest Accuracy:  0.8031151729559748\n",
      "[[ 5808  2183]\n",
      " [ 1824 10537]]\n",
      "\n",
      "Highest Balanced Accuracy:  0.7935208913684557\n",
      "[[6229 1762]\n",
      " [2379 9982]]\n"
     ]
    }
   ],
   "source": [
    "print('Highest Accuracy: ', accuracy_points[43])\n",
    "adjusted_y_pred = adjust_pred_prob(pred_prob_log_clf, new_threshold=.43)\n",
    "print(metrics.confusion_matrix(ytest_all_idf, adjusted_y_pred))\n",
    "\n",
    "print('\\nHighest Balanced Accuracy: ', balanced_accuracy_points[50])\n",
    "adjusted_y_pred = adjust_pred_prob(pred_prob_log_clf, new_threshold=.5)\n",
    "print(metrics.confusion_matrix(ytest_all_idf, adjusted_y_pred))"
   ]
  },
  {
   "cell_type": "markdown",
   "metadata": {},
   "source": [
    "When you're trying to apply the model on new comments, reviews, etc. on other websites and/or social media, you want the predictor to be as accurate as possible. To determine this I gauged the model using accuracy and confusion matrices. I wanted the least number of mispredictions (false negatives, false positives). The threshold level of 0.43 provides the best results with an accuracy of 0.803. In total there are 4007 mispredictions, 1824 false negatives and 2183 false positives.\n",
    "\n",
    "However, a point of emphasis to be made is that balanced accuracy is a more appropriate metric for this because the data is unbalanced. For this reason if you'd like a predictor that overall performs better based on the unbalanced data, you should stick to the 0.5 threshold. \n",
    "\n",
    "#### 2. Looking at a specific set of outcomes. In this case, let's say you are wondering if you need to increase your customer support staff and you'd like to look at the low reviews. You'd want to predict the most correct \"low\" overall ratings without increasing the number of mispredictions for \"high\" ratings. \n",
    "\n",
    "I want to optimize the threshold to optimize \"low\" ratings. I will focus on the f1 score metric to do so. "
   ]
  },
  {
   "cell_type": "code",
   "execution_count": 368,
   "metadata": {},
   "outputs": [],
   "source": [
    "# define a function that accepts a threshold and prints sensitivity and specificity\n",
    "def evaluate_threshold(threshold, label):\n",
    "    adjusted_y_pred = adjust_pred_prob(pred_prob_log_clf, new_threshold=threshold) \n",
    "    print('F1 Score: ', metrics.f1_score(ytest_all_idf, adjusted_y_pred, pos_label= label))\n",
    "    print(metrics.classification_report(ytest_all_idf, adjusted_y_pred))"
   ]
  },
  {
   "cell_type": "code",
   "execution_count": 390,
   "metadata": {},
   "outputs": [
    {
     "name": "stdout",
     "output_type": "stream",
     "text": [
      "F1 Score:  0.7506623491315867\n",
      "              precision    recall  f1-score   support\n",
      "\n",
      "           0       0.71      0.80      0.75      7991\n",
      "           1       0.86      0.79      0.82     12361\n",
      "\n",
      "   micro avg       0.79      0.79      0.79     20352\n",
      "   macro avg       0.78      0.79      0.79     20352\n",
      "weighted avg       0.80      0.79      0.79     20352\n",
      "\n"
     ]
    }
   ],
   "source": [
    "evaluate_threshold(.53, 0)"
   ]
  },
  {
   "cell_type": "code",
   "execution_count": 388,
   "metadata": {},
   "outputs": [
    {
     "name": "stdout",
     "output_type": "stream",
     "text": [
      "F1 Score:  0.7508472595535819\n",
      "              precision    recall  f1-score   support\n",
      "\n",
      "           0       0.70      0.80      0.75      7991\n",
      "           1       0.86      0.78      0.82     12361\n",
      "\n",
      "   micro avg       0.79      0.79      0.79     20352\n",
      "   macro avg       0.78      0.79      0.79     20352\n",
      "weighted avg       0.80      0.79      0.79     20352\n",
      "\n"
     ]
    }
   ],
   "source": [
    "evaluate_threshold(.54, 0)"
   ]
  },
  {
   "cell_type": "code",
   "execution_count": 389,
   "metadata": {},
   "outputs": [
    {
     "name": "stdout",
     "output_type": "stream",
     "text": [
      "F1 Score:  0.748739933955159\n",
      "              precision    recall  f1-score   support\n",
      "\n",
      "           0       0.70      0.81      0.75      7991\n",
      "           1       0.86      0.77      0.81     12361\n",
      "\n",
      "   micro avg       0.79      0.79      0.79     20352\n",
      "   macro avg       0.78      0.79      0.78     20352\n",
      "weighted avg       0.80      0.79      0.79     20352\n",
      "\n"
     ]
    }
   ],
   "source": [
    "evaluate_threshold(.55, 0)"
   ]
  },
  {
   "cell_type": "markdown",
   "metadata": {},
   "source": [
    "What would it be if the situation was the other way around? You want to focus on \"high\" overall rated reviews. Let's determine the optimal threshold for this."
   ]
  },
  {
   "cell_type": "code",
   "execution_count": 383,
   "metadata": {},
   "outputs": [
    {
     "name": "stdout",
     "output_type": "stream",
     "text": [
      "F1 Score:  0.8441165342413923\n",
      "              precision    recall  f1-score   support\n",
      "\n",
      "           0       0.81      0.64      0.71      7991\n",
      "           1       0.79      0.90      0.84     12361\n",
      "\n",
      "   micro avg       0.80      0.80      0.80     20352\n",
      "   macro avg       0.80      0.77      0.78     20352\n",
      "weighted avg       0.80      0.80      0.79     20352\n",
      "\n"
     ]
    }
   ],
   "source": [
    "evaluate_threshold(.33, 1)"
   ]
  },
  {
   "cell_type": "code",
   "execution_count": 384,
   "metadata": {},
   "outputs": [
    {
     "name": "stdout",
     "output_type": "stream",
     "text": [
      "F1 Score:  0.8446457801971906\n",
      "              precision    recall  f1-score   support\n",
      "\n",
      "           0       0.80      0.65      0.72      7991\n",
      "           1       0.80      0.90      0.84     12361\n",
      "\n",
      "   micro avg       0.80      0.80      0.80     20352\n",
      "   macro avg       0.80      0.77      0.78     20352\n",
      "weighted avg       0.80      0.80      0.79     20352\n",
      "\n"
     ]
    }
   ],
   "source": [
    "evaluate_threshold(.34, 1)"
   ]
  },
  {
   "cell_type": "code",
   "execution_count": 385,
   "metadata": {},
   "outputs": [
    {
     "name": "stdout",
     "output_type": "stream",
     "text": [
      "F1 Score:  0.8442149550583286\n",
      "              precision    recall  f1-score   support\n",
      "\n",
      "           0       0.80      0.66      0.72      7991\n",
      "           1       0.80      0.89      0.84     12361\n",
      "\n",
      "   micro avg       0.80      0.80      0.80     20352\n",
      "   macro avg       0.80      0.77      0.78     20352\n",
      "weighted avg       0.80      0.80      0.80     20352\n",
      "\n"
     ]
    }
   ],
   "source": [
    "evaluate_threshold(.35, 1)"
   ]
  },
  {
   "cell_type": "markdown",
   "metadata": {},
   "source": [
    "Now let's plot all our of our business models into one plot with the f1 score, precision and recall curves."
   ]
  },
  {
   "cell_type": "code",
   "execution_count": 304,
   "metadata": {},
   "outputs": [],
   "source": [
    "# Calculate Precision and Recall Curve\n",
    "precision, recall, thresholds = precision_recall_curve(ytest_all_idf, pred_prob_log_clf)\n",
    "thresholds = np.append(thresholds, 1)"
   ]
  },
  {
   "cell_type": "code",
   "execution_count": 305,
   "metadata": {
    "scrolled": false
   },
   "outputs": [
    {
     "name": "stderr",
     "output_type": "stream",
     "text": [
      "C:\\Users\\soham\\Anaconda3\\lib\\site-packages\\sklearn\\metrics\\classification.py:1143: UndefinedMetricWarning: F-score is ill-defined and being set to 0.0 due to no predicted samples.\n",
      "  'precision', 'predicted', average, warn_for)\n"
     ]
    }
   ],
   "source": [
    "# Calculate F1 Score Curve\n",
    "f1_points = []\n",
    "\n",
    "for t in thresholds:\n",
    "        adjusted_y_pred = adjust_pred_prob(pred_prob_log_clf, new_threshold=t)\n",
    "        new_f1 = metrics.f1_score(ytest_all_idf, adjusted_y_pred)\n",
    "        f1_points.append(new_f1)"
   ]
  },
  {
   "cell_type": "code",
   "execution_count": 401,
   "metadata": {},
   "outputs": [
    {
     "data": {
      "image/png": "[encoded data removed]",
      "text/plain": [
       "<Figure size 720x360 with 1 Axes>"
      ]
     },
     "metadata": {
      "needs_background": "light"
     },
     "output_type": "display_data"
    }
   ],
   "source": [
    "# Plot Balanced Accuracy, Accuracy, Precision, Recall and F1 Score on a graph together.\n",
    "\n",
    "plt.figure(figsize=(10,5))\n",
    "plt.plot(thresholds, precision, color='blue')\n",
    "plt.plot(thresholds, recall, color='red')\n",
    "plt.plot(thresholds, f1_points, color='green')\n",
    "plt.title('Precision Recall Curve - LogisticRegressionCV')\n",
    "plt.legend(('Precision', 'Recall', 'F1-Score'))\n",
    "plt.xlabel('Threshold')\n",
    "plt.ylabel('Proportion')\n",
    "plt.axvline(x=.54, color='black')\n",
    "plt.text(.515,.50,'Low Ratings Threshold',rotation=90)\n",
    "plt.axvline(x=.34, color='black')\n",
    "plt.text(.315,.50,'High Ratings Threshold',rotation=90)\n",
    "plt.axvline(x=.50, color='black')\n",
    "plt.text(.475,.50,'Default Threshold',rotation=90)\n",
    "plt.show()"
   ]
  },
  {
   "cell_type": "code",
   "execution_count": 399,
   "metadata": {
    "scrolled": true
   },
   "outputs": [
    {
     "data": {
      "image/png": "[encoded data removed]",
      "text/plain": [
       "<Figure size 720x360 with 1 Axes>"
      ]
     },
     "metadata": {
      "needs_background": "light"
     },
     "output_type": "display_data"
    }
   ],
   "source": [
    "# Plot Balanced Accuracy, Accuracy, Precision, Recall and F1 Score on a graph together.\n",
    "\n",
    "plt.figure(figsize=(10,5))\n",
    "plt.plot(thresholds, precision, color='blue')\n",
    "plt.plot(thresholds, recall, color='red')\n",
    "plt.plot(thresholds, f1_points, color='green')\n",
    "plt.title('Precision Recall Curve - LogisticRegressionCV')\n",
    "plt.legend(('Precision', 'Recall', 'F1-Score'))\n",
    "plt.xlabel('Threshold')\n",
    "plt.ylabel('Proportion')\n",
    "plt.axvline(x=.43, color='black')\n",
    "plt.text(.405,.50,'Case 1: Accuracy',rotation=90)\n",
    "plt.axvline(x=.54, color='black')\n",
    "plt.text(.515,.50,'Case 2: Low Ratings',rotation=90)\n",
    "plt.axvline(x=.34, color='black')\n",
    "plt.text(.315,.50,'Case 3: High Ratings',rotation=90)\n",
    "plt.axvline(x=.50, color='black')\n",
    "plt.text(.475,.50,'Default Threshold',rotation=90)\n",
    "plt.show()"
   ]
  }
 ],
 "metadata": {
  "kernelspec": {
   "display_name": "Python 3",
   "language": "python",
   "name": "python3"
  },
  "language_info": {
   "codemirror_mode": {
    "name": "ipython",
    "version": 3
   },
   "file_extension": ".py",
   "mimetype": "text/x-python",
   "name": "python",
   "nbconvert_exporter": "python",
   "pygments_lexer": "ipython3",
   "version": "3.7.1"
  }
 },
 "nbformat": 4,
 "nbformat_minor": 2
}
