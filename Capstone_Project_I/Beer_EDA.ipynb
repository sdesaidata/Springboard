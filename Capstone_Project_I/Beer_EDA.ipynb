{
 "cells": [
  {
   "cell_type": "markdown",
   "metadata": {},
   "source": [
    "# Datawrangling - Capstone 1\n",
    "***\n",
    "\n",
    "## Beer Review Data Description\n",
    "***\n",
    "\n",
    "The dataset we have contains over 1.5 million reviews of various beers from two websites: BeerAdvocate.com. This data not only includes user reviews, product category and alcohol by volume(ABV), but sensory aspects as well such as taste, look, smell and overall ratings. For this project we will train and test models to predict beer ratings and beer style based of the user reviews that were left.\n",
    "\n",
    "These reviews were made available by Julian Mcauley, a UCSD Computer Science professor, from a collection period of January 1998 to November 2011. This dataset was accessed with permssion. Here are some key specs of the dataset itself.\n",
    "+ Number of users: 33,387\n",
    "+ Number of items: 66,051\n",
    "+ Number of reviews: 1,586,259\n",
    "    \n",
    "To tackle the issue of size, we will take a subset sample of 99,999 reviews to train and test our models before applying it to the rest of the dataset.\n"
   ]
  },
  {
   "cell_type": "markdown",
   "metadata": {},
   "source": [
    "### Import and Review Data\n",
    "***"
   ]
  },
  {
   "cell_type": "code",
   "execution_count": 1,
   "metadata": {},
   "outputs": [
    {
     "ename": "ModuleNotFoundError",
     "evalue": "No module named 'textblob'",
     "output_type": "error",
     "traceback": [
      "\u001b[1;31m---------------------------------------------------------------------------\u001b[0m",
      "\u001b[1;31mModuleNotFoundError\u001b[0m                       Traceback (most recent call last)",
      "\u001b[1;32m<ipython-input-1-9579608ac61e>\u001b[0m in \u001b[0;36m<module>\u001b[1;34m\u001b[0m\n\u001b[0;32m      4\u001b[0m \u001b[1;32mimport\u001b[0m \u001b[0mmatplotlib\u001b[0m\u001b[1;33m.\u001b[0m\u001b[0mpyplot\u001b[0m \u001b[1;32mas\u001b[0m \u001b[0mplt\u001b[0m\u001b[1;33m\u001b[0m\u001b[1;33m\u001b[0m\u001b[0m\n\u001b[0;32m      5\u001b[0m \u001b[1;32mfrom\u001b[0m \u001b[0mnltk\u001b[0m\u001b[1;33m.\u001b[0m\u001b[0mcorpus\u001b[0m \u001b[1;32mimport\u001b[0m \u001b[0mstopwords\u001b[0m\u001b[1;33m\u001b[0m\u001b[1;33m\u001b[0m\u001b[0m\n\u001b[1;32m----> 6\u001b[1;33m \u001b[1;32mfrom\u001b[0m \u001b[0mtextblob\u001b[0m \u001b[1;32mimport\u001b[0m \u001b[0mTextBlob\u001b[0m\u001b[1;33m\u001b[0m\u001b[1;33m\u001b[0m\u001b[0m\n\u001b[0m",
      "\u001b[1;31mModuleNotFoundError\u001b[0m: No module named 'textblob'"
     ]
    }
   ],
   "source": [
    "# Import necessary libraries\n",
    "import pandas as pd\n",
    "import numpy as np\n",
    "import matplotlib.pyplot as plt\n",
    "from nltk.corpus import stopwords\n",
    "from textblob import TextBlob"
   ]
  },
  {
   "cell_type": "code",
   "execution_count": null,
   "metadata": {},
   "outputs": [],
   "source": [
    "beersmall = pd.read_excel('data/ratebeer_sample.xlsx')"
   ]
  },
  {
   "cell_type": "markdown",
   "metadata": {},
   "source": [
    "## Examining and Cleaning the DataFrame \n",
    "***\n",
    "Examining the first few columns of the dataframe you can notice a few things\n",
    "+ Special characters and notation weren't read properly. We need to fix this somehow.\n",
    "+ There is a time column that if we would want to use needs to be altered. In this case we don't need it, so we will drop it.\n",
    "+ Beers have a range of reviews from 1 to x amount. We want beers to have at least 5 reviews so we need to remove the ones that have less\n",
    "+ Some beers don't have an alcohol percentage (ABV)\n",
    "+ Index needs to be redone.\n",
    "+ The rating system is not on the same scale. \"Aroma\" and \"Taste\" ratings are on a scale of 10 while, the rest are on a scale of 5. \n",
    "***\n",
    "### Remove Unecessary Data"
   ]
  },
  {
   "cell_type": "code",
   "execution_count": null,
   "metadata": {},
   "outputs": [],
   "source": [
    "# Drop Time Column\n",
    "beersmall = beersmall.drop(['time'], axis=1)"
   ]
  },
  {
   "cell_type": "code",
   "execution_count": null,
   "metadata": {},
   "outputs": [],
   "source": [
    "# Drop any beer styles that have less than 5 reviews\n",
    "id_count = beersmall.groupby('style')['style'].transform(len)\n",
    "mask = id_count > 5\n",
    "beersmall = beersmall[mask]\n",
    "\n",
    "# Drop any beer names that have less than 5 reviews\n",
    "id_count = beersmall.groupby('name')['name'].transform(len)\n",
    "mask = id_count > 5\n",
    "beersmall = beersmall[mask]"
   ]
  },
  {
   "cell_type": "markdown",
   "metadata": {},
   "source": [
    "### Fix Spelling Errors"
   ]
  },
  {
   "cell_type": "code",
   "execution_count": null,
   "metadata": {
    "scrolled": true
   },
   "outputs": [],
   "source": [
    "# Function to replace character errors in the style column\n",
    "def replacestyle(col):\n",
    "    # Replace each value that matches the left side of the pair\n",
    "    return col.replace({\n",
    "        'K•À_lsch': 'Kölsch',\n",
    "        '&#40;' : '(',\n",
    "        '&#41;' : ')',\n",
    "        'M•À_rzen' : 'Märzen',\n",
    "        'Sak•À_' : 'Sake',\n",
    "        'Bi•À_re de Garde' : 'Bière de Garde'\n",
    "    }, regex=True)\n",
    "\n",
    "# Apply the function replacestyle to the beer['style'] column\n",
    "beersmall['style'] = replacestyle(beersmall['style'])\n",
    "\n",
    "# Function to replace character errors in the name column \n",
    "def replacename(col):\n",
    "    # Replace each value that matches the left side of the pair\n",
    "    return col.replace({\n",
    "        '&quot;' : '\"', \n",
    "        '&#40;' : '(',\n",
    "        '&#41;' : ')',\n",
    "        'Brï¿½u' : 'Bräu',\n",
    "        'Kï¿½r' : 'Kür',\n",
    "        'Mï¿½r' : 'Mär',\n",
    "        'hï¿½f' : 'häf',\n",
    "        'lï¿½n' : 'lán',\n",
    "        'gï¿½u' : 'gäu',\n",
    "        'rï¿½n' : 'rän',\n",
    "        'tï¿½c' : 'tüc'\n",
    "    }, regex= True)\n",
    "\n",
    "# Apply the function replacename to the beer.name column\n",
    "beersmall.name = replacename(beersmall.name)"
   ]
  },
  {
   "cell_type": "markdown",
   "metadata": {},
   "source": [
    "### Adjust Rating Scales\n",
    "***\n",
    "In order to have all the ratings on the same scale the following was done:\n",
    "+ 'aroma' and 'taste' columns were cut in half to bring them down to a rating scale of 5\n",
    "+ 'overall' rating column was recalculated based off the other 4 ratings given and brought down to scale of 5"
   ]
  },
  {
   "cell_type": "code",
   "execution_count": null,
   "metadata": {},
   "outputs": [],
   "source": [
    "beersmall['aroma'] = round(beersmall['aroma'] / 2)\n",
    "beersmall['taste'] = round(beersmall['taste'] / 2)\n",
    "beersmall['overall'] = (beersmall['appearance'] + beersmall['aroma'] + beersmall['palate'] + beersmall['taste']) / 4"
   ]
  },
  {
   "cell_type": "markdown",
   "metadata": {},
   "source": [
    "### Break Down and Clean Text Reviews\n",
    "*** \n",
    "Text reviews often times have spelling errors, extraneous words and punctuation that we may not need when analyzing the information. For this reason we breakdown each text review into the following:\n",
    "+ word count\n",
    "+ character count\n",
    "+ average word length\n",
    "+ stop words\n",
    "    + words that are generally considered useless when it comes to performing a sentiment analysis\n",
    "+ number of upper case words\n",
    "    + this may indicate moments of anger or rage"
   ]
  },
  {
   "cell_type": "code",
   "execution_count": null,
   "metadata": {},
   "outputs": [],
   "source": [
    "def avg_word_len(sentence):\n",
    "    words = str(sentence).split()\n",
    "    return (sum(len(word) for word in words)/len(words))\n",
    "\n",
    "# Determine the word count for each text review: word_count\n",
    "beersmall['word_count'] = beersmall['text'].apply(lambda x: len(str(x).split(\" \")))\n",
    "\n",
    "# Determine the character count for each text review: char_count\n",
    "beersmall['char_count'] = beersmall['text'].str.len() ## this also includes spaces\n",
    "\n",
    "# Determine the average word length per text review: avg_word_len\n",
    "beersmall['avg_word_len'] = beersmall['text'].apply(lambda x: avg_word_len(x))\n",
    "\n",
    "# Determine the number of stop words per text review: stop_words\n",
    "stop = stopwords.words('english')\n",
    "beersmall['stop_words'] = beersmall['text'].apply(lambda x: len([x for x in str(x).split() if x in stop]))\n",
    "\n",
    "# Determine the number of uppercase words per text review: upper\n",
    "beersmall['upper'] = beersmall['text'].apply(lambda x: len([x for x in str(x).split() if x.isupper()]))"
   ]
  },
  {
   "cell_type": "markdown",
   "metadata": {},
   "source": [
    "Furthermore we clean the text into a new column \"clean_text\" where we perform the following actions:\n",
    "+ change all characters to lowercase\n",
    "+ Remove any special characters and punctuation\n",
    "+ Remove any stop words"
   ]
  },
  {
   "cell_type": "code",
   "execution_count": null,
   "metadata": {},
   "outputs": [],
   "source": [
    "# Create a new column clean_text where each text review is cleaned to be prepared for sentiment analyses\n",
    "# Change all characters in each review to lowercase.\n",
    "beersmall['clean_text'] = beersmall['text'].apply(lambda x: \" \".join(x.lower() for x in str(x).split()))\n",
    "\n",
    "# Remove any special characters from each review.\n",
    "beersmall['clean_text'] = beersmall['clean_text'].str.replace('[^\\w\\s]','')\n",
    "\n",
    "# Remove any stop words.\n",
    "beersmall['clean_text'] = beersmall['clean_text'].apply(lambda x: \" \".join(x for x in str(x).split() if x not in stop))\n",
    "\n",
    "# Determine the 10 most frequent words and 10 least frequent words and remove them from each review\n",
    "freq = pd.Series(' '.join(beersmall['clean_text']).split()).value_counts()[:10]\n",
    "freq2 = pd.Series(' '.join(beersmall['clean_text']).split()).value_counts()[-10:]\n",
    "beersmall['clean_text'] = beersmall['clean_text'].apply(lambda x: \" \".join(x for x in x.split() if x not in freq))\n",
    "beersmall['clean_text'] = beersmall['clean_text'].apply(lambda x: \" \".join(x for x in x.split() if x not in freq2))"
   ]
  },
  {
   "cell_type": "markdown",
   "metadata": {},
   "source": [
    "### Extract One Beer Style for Training Set\n",
    "***\n",
    "By looking at our value counts we determine that within this chunk of the data, it appears that there are the most reviews for India Pale Ales(IPAs) and therefore we will use these reviews as our training set to test our models. In order to do so we must extract the rows from the beer dataframe that only include IPAs. "
   ]
  },
  {
   "cell_type": "code",
   "execution_count": null,
   "metadata": {},
   "outputs": [],
   "source": [
    "beer_ipa = beersmall[beersmall['style'] == 'India Pale Ale (IPA)'] "
   ]
  },
  {
   "cell_type": "markdown",
   "metadata": {
    "collapsed": true
   },
   "source": [
    "We have 7818 reviews for 101 different types of IPAs. We can increase this size by incorporating the rest of the reviews at a later time.\n",
    "\n",
    "## Conclusion\n",
    "***\n",
    "To wrap up data wrangling we did the following to the dataset:\n",
    "+ Took a subset of the entire data collected\n",
    "+ Dropped specific beers and beer styles that had less than 5 reviews\n",
    "+ Fixed spelling errors\n",
    "+ Broke down text reviews into separate columns by words, characters, etc. for further analysis.\n",
    "+ Cleaned each text review in preparation for sentiment analysis\n",
    "+ Extracted one beer style, IPAs, as our training dataset.\n",
    "\n",
    "\n",
    "## Sources\n",
    "***\n",
    "Lipton, Zachary & Vikram, Sharad & McAuley, Julian. (2015). Capturing Meaning in Product Reviews with Character-Level Generative Text Models.\n",
    "https://www.researchgate.net/publication/283761921_Capturing_Meaning_in_Product_Reviews_with_Character-Level_Generative_Text_Models"
   ]
  },
  {
   "cell_type": "code",
   "execution_count": null,
   "metadata": {},
   "outputs": [],
   "source": []
  },
  {
   "cell_type": "code",
   "execution_count": null,
   "metadata": {},
   "outputs": [],
   "source": []
  },
  {
   "cell_type": "code",
   "execution_count": null,
   "metadata": {},
   "outputs": [],
   "source": []
  },
  {
   "cell_type": "code",
   "execution_count": null,
   "metadata": {},
   "outputs": [],
   "source": []
  }
 ],
 "metadata": {
  "anaconda-cloud": {},
  "kernelspec": {
   "display_name": "Python 3",
   "language": "python",
   "name": "python3"
  },
  "language_info": {
   "codemirror_mode": {
    "name": "ipython",
    "version": 3
   },
   "file_extension": ".py",
   "mimetype": "text/x-python",
   "name": "python",
   "nbconvert_exporter": "python",
   "pygments_lexer": "ipython3",
   "version": "3.7.1"
  }
 },
 "nbformat": 4,
 "nbformat_minor": 2
}
