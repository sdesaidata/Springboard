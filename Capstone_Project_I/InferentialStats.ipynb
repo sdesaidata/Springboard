{
 "cells": [
  {
   "cell_type": "markdown",
   "metadata": {},
   "source": [
    "# Predicting Beer Ratings from User Reviews: Inferential Statistics\n",
    "******\n",
    "\n",
    "The cleaned dataset for this capstone consists of 27 beer styles and 81408 reviews in total. Along with looking at the dataset as a whole I also examined five styles of beers based on beer distinction and size of the dataset. When summarizing my statistics I will discuss the word frequencies since they will be the main feature of this model and the word_count. I will talk about the dataset as a whole and then break it down into the five different styles as well.\n",
    "\n",
    "There were not too many features within this dataset. By determining the length of each review I created a quantitative feature for word_count. There are also 4 categorical features given by each user to rate the 'appearance', 'taste', 'feel' and 'aroma' of the beer along with an average of these four known as 'overall'.\n",
    "\n",
    "For the most part the majority of reviews given across all scales fall as either a 3-star or 4-star reviews. There are very few to no 1,2 and 5 star reviews. Again when further examining some styles of beers, this pattern reflects across all styles of beers. "
   ]
  },
  {
   "cell_type": "markdown",
   "metadata": {},
   "source": [
    "### All Beers\n",
    "There are 2943 different brands of beer in this dataset with the average number of reviews per brand at 28. Some have only 1 review while the most popular one has 3043 reviews. \n",
    "\n",
    "__Word Frequencies:__ \n",
    "Examining the top 25 words I found that describing words such as 'sweet', 'light' and 'white' were used frequently. I also saw words such as 'aroma', 'flavor' and 'taste' which correspond to the different rating scales. The most common word was 'head' in reference to the foam at the top of the beer when it is first poured. This may need to be removed later on when running models.\n",
    "\n",
    "__Figure 1:__\n",
    "<img src=\"plots/wordfreq.png\" alt=\"word_frequency_1\"/>\n",
    "\n",
    "\n",
    "__Word Count:__\n",
    "To explore the data further I also looked into the word count per review. This data was skewed to the right. The majority of reviews were less than 200 words but there were a few exceptions of very lengthy reviews. To see if the data was normal, I took the log and transformed the data. This indeed showed a much normal plot in comparison to the word_count.\n",
    "\n",
    "Since the majority of reviews were 3 and 4 star reviews, I decided to create a low and high category for reviews using the overall rating scale. 3.5 was the middle marker. To see if there was an significant difference between these two categories I used a two sample t-test to determine this.\n",
    "\n",
    "Results showed that there is indeed a significant difference for word counts between low and high reviews. Reviews with an overall rating of 3.5 or greater have higher word counts than their counterparts. \n",
    "\n",
    "__Figure 2:__\n",
    "<img src=\"plots/high_low_words.png\" alt=\"high_low_words\"/>"
   ]
  },
  {
   "cell_type": "markdown",
   "metadata": {},
   "source": [
    "### Amber Ale\n",
    "There were a total of 136 different Amber Ales, totaling to 4450 reviews. Average reviews per brand were 33. The most popular brand was Lagunitas Censored (Kronik) with 994 reviews.\n",
    "\n",
    "__Word Frequency:__\n",
    "The word 'head' appears to be most common in Amber Ales as well. There are a lot of similar words but some new ones that appear are 'copper' and 'chocolate'\n",
    "\n",
    "__Figure 3:__\n",
    "<img src=\"plots/wordfreqamber.png\" alt=\"word_frequency_1\"/>\n",
    "\n",
    "__Word Count:__\n",
    "Results from hypothesis testing showed that there is a significant difference for word counts between low and high reviews. Looking at figure 2 you can see that high rated beers tend to have a higher word count."
   ]
  },
  {
   "cell_type": "markdown",
   "metadata": {},
   "source": [
    "***\n",
    "### Belgian Ale\n",
    "Belgian Ales had a total of 2603 reviews amongst 90 different brands. Each brand had an average number of reviews at 29. The most popular brand, Palm Speciale, had 572. A key point to note is that Lagunitas 10 came in second. \n",
    "\n",
    "__Word Frequency:__\n",
    "Words such as 'head', 'aroma' , 'malt' appear to be in all styles of beers. Belgian has distinguishable words such as 'belgian', and 'fruity'. \n",
    "\n",
    "__Figure 4:__\n",
    "<img src=\"plots/wordfreqbelgian.png\" alt=\"word_frequency_1\"/>\n",
    "\n",
    "__Word Count:__\n",
    "Results from hypothesis testing showed that there is a significant difference for word counts between low and high reviews. Looking at figure 2 you can see that high rated beers tend to have a higher word count."
   ]
  },
  {
   "cell_type": "markdown",
   "metadata": {},
   "source": [
    "***\n",
    "### Brown Ale\n",
    "There were a total of 139 Brown Ale brands. On average each brand had 30 reviews with a grand total of 4042 reviews. The most popular brown ale, Abita Turbodog, had 1211 reviews.\n",
    "\n",
    "__Word Frequency:__\n",
    "There are some very similar words starting to appear. 'Brown' appeared the most times followed by 'head'. Both of these words may possibly need to be removed when look at this specific style. \n",
    "\n",
    "__Figure 5:__\n",
    "<img src=\"plots/wordfreqbrown.png\" alt=\"word_frequency_1\"/>\n",
    "\n",
    "__Word Count:__\n",
    "Results from hypothesis testing showed that there is a significant difference for word counts between low and high reviews. Looking at figure 2 you can see that high rated beers tend to have a higher word count."
   ]
  },
  {
   "cell_type": "markdown",
   "metadata": {},
   "source": [
    "***\n",
    "### IPA\n",
    "There were in total 231 different IPA brands in this dataset with a total of 7831 reviews. On average each brand had roughly 35 reviews. The most popular brand, Lagunitas IPA had 1414 reviews.\n",
    "\n",
    "__Word Frequency:__\n",
    "'Head' is still in the top charts second to 'hop'. There are more words in the ipa style with more descriptor words such as 'citrus', 'pine' and 'orange'.\n",
    "\n",
    "__Figure 6:__\n",
    "<img src=\"plots/wordfreqipa.png\" alt=\"word_frequency_1\"/>\n",
    "\n",
    "__Word Count:__\n",
    "Results from hypothesis testing showed that there is a significant difference for word counts between low and high reviews. Looking at figure 2 you can see that high rated beers tend to have a higher word count."
   ]
  },
  {
   "cell_type": "markdown",
   "metadata": {},
   "source": [
    "***\n",
    "### Stout\n",
    "Stouts had a total of 138 different brands with 3998 reviews. On average each brand had 29 reviews but the most popular brand, Lagunitas Cappuccino Stout had 1052 reviews. \n",
    "\n",
    "__Word Frequency:__\n",
    "Stouts have the most different words as they are a very distinct beer. They are darker and have a rich flavor. This is reflected with words such as 'coffee', 'creamy', and 'roasted'. \n",
    "\n",
    "__Figure 7:__\n",
    "<img src=\"plots/wordfreqstout.png\" alt=\"word_frequency_1\"/>\n",
    "\n",
    "__Word Count:__\n",
    "Results from hypothesis testing showed that there is a significant difference for word counts between low and high reviews. Looking at figure 2 you can see that high rated beers tend to have a higher word count. It is important to note that if I used a significance level of .01, the difference would no longer be significant for stouts. "
   ]
  },
  {
   "cell_type": "markdown",
   "metadata": {},
   "source": [
    "## Summary \n",
    "+ Word Frequencies showed that there are popular words with in the dataset that can be seen throughout multiple styles of beers. These words include but aren't limited to 'head', 'malt' and 'taste'. \n",
    "+ There are positive words such as 'nice' and 'good'. One word seen frequently, 'not', may need to be addressed when creating models. Bigrams may be necessary in case it changes the polarity of the sentence.\n",
    "+ Higher rated reviews (>3.5) have higher word counts than lower rated reviews for the entire dataset and the five beer styles examined. Speaking statistically, stouts were not as strong with a p-value of 0.16.\n",
    "\n",
    "Moving onto creating models, the words, n-grams and separation of star ratings will be important factors to creating a successful model. Also narrowing down a model to a specific style of beer may make it easier to create a strong predictor model for the rating of a beer."
   ]
  }
 ],
 "metadata": {
  "kernelspec": {
   "display_name": "Python 3",
   "language": "python",
   "name": "python3"
  },
  "language_info": {
   "codemirror_mode": {
    "name": "ipython",
    "version": 3
   },
   "file_extension": ".py",
   "mimetype": "text/x-python",
   "name": "python",
   "nbconvert_exporter": "python",
   "pygments_lexer": "ipython3",
   "version": "3.7.1"
  }
 },
 "nbformat": 4,
 "nbformat_minor": 2
}
