{
 "cells": [
  {
   "cell_type": "markdown",
   "metadata": {},
   "source": [
    "# What is the True Normal Human Body Temperature? \n",
    "\n",
    "#### Background\n",
    "\n",
    "The mean normal body temperature was held to be 37$^{\\circ}$C or 98.6$^{\\circ}$F for more than 120 years since it was first conceptualized and reported by Carl Wunderlich in a famous 1868 book. But, is this value statistically correct?"
   ]
  },
  {
   "cell_type": "markdown",
   "metadata": {},
   "source": [
    "# Summary\n",
    "********"
   ]
  },
  {
   "cell_type": "code",
   "execution_count": 1,
   "metadata": {},
   "outputs": [
    {
     "data": {
      "text/html": [
       "<div>\n",
       "<style scoped>\n",
       "    .dataframe tbody tr th:only-of-type {\n",
       "        vertical-align: middle;\n",
       "    }\n",
       "\n",
       "    .dataframe tbody tr th {\n",
       "        vertical-align: top;\n",
       "    }\n",
       "\n",
       "    .dataframe thead th {\n",
       "        text-align: right;\n",
       "    }\n",
       "</style>\n",
       "<table border=\"1\" class=\"dataframe\">\n",
       "  <thead>\n",
       "    <tr style=\"text-align: right;\">\n",
       "      <th></th>\n",
       "      <th>temperature</th>\n",
       "      <th>gender</th>\n",
       "      <th>heart_rate</th>\n",
       "    </tr>\n",
       "  </thead>\n",
       "  <tbody>\n",
       "    <tr>\n",
       "      <th>0</th>\n",
       "      <td>99.3</td>\n",
       "      <td>F</td>\n",
       "      <td>68.0</td>\n",
       "    </tr>\n",
       "    <tr>\n",
       "      <th>1</th>\n",
       "      <td>98.4</td>\n",
       "      <td>F</td>\n",
       "      <td>81.0</td>\n",
       "    </tr>\n",
       "    <tr>\n",
       "      <th>2</th>\n",
       "      <td>97.8</td>\n",
       "      <td>M</td>\n",
       "      <td>73.0</td>\n",
       "    </tr>\n",
       "    <tr>\n",
       "      <th>3</th>\n",
       "      <td>99.2</td>\n",
       "      <td>F</td>\n",
       "      <td>66.0</td>\n",
       "    </tr>\n",
       "    <tr>\n",
       "      <th>4</th>\n",
       "      <td>98.0</td>\n",
       "      <td>F</td>\n",
       "      <td>73.0</td>\n",
       "    </tr>\n",
       "  </tbody>\n",
       "</table>\n",
       "</div>"
      ],
      "text/plain": [
       "   temperature gender  heart_rate\n",
       "0         99.3      F        68.0\n",
       "1         98.4      F        81.0\n",
       "2         97.8      M        73.0\n",
       "3         99.2      F        66.0\n",
       "4         98.0      F        73.0"
      ]
     },
     "execution_count": 1,
     "metadata": {},
     "output_type": "execute_result"
    }
   ],
   "source": [
    "# IMPORTS\n",
    "import pandas as pd\n",
    "import matplotlib.pyplot as plt\n",
    "import numpy as np\n",
    "import seaborn as sns\n",
    "import scipy.stats as stats\n",
    "import pylab\n",
    "\n",
    "# READ DATA\n",
    "df = pd.read_csv('data/human_body_temperature.csv')\n",
    "df.head()"
   ]
  },
  {
   "cell_type": "code",
   "execution_count": 2,
   "metadata": {},
   "outputs": [],
   "source": [
    "# FUNCTIONS\n",
    "def ecdf(data):\n",
    "    \"\"\"Compute ECDF for a 1-D array of measurements\"\"\"\n",
    "    # Number of data points: n\n",
    "    n = len(data)\n",
    "    \n",
    "    # x-data for ECDF: x\n",
    "    x = np.sort(data)\n",
    "    \n",
    "    #y-data for ECDF: y\n",
    "    y = np.arange(1, + n+1) / n\n",
    "    \n",
    "    return x, y\n",
    "\n",
    "\n",
    "def bootstrap_replicate_1d(data, func):\n",
    "    \"\"\"Generate bootstrap replicate\"\"\"\n",
    "    return func(np.random.choice(data, size=len(data)))\n",
    "\n",
    "\n",
    "def draw_bs_reps(data, func, size=1):\n",
    "    \"\"\"Draw bootstrap replicates.\"\"\"\n",
    "    \n",
    "    # Initialize array of replicates: bs_replicates\n",
    "    bs_replicates = np.empty(size)\n",
    "\n",
    "    # Generate replicates\n",
    "    for i in range(size):\n",
    "        bs_replicates[i] = bootstrap_replicate_1d(data, func)\n",
    "\n",
    "    return bs_replicates\n",
    "\n",
    "\n",
    "def diff_of_means(data1, data2):\n",
    "    \"\"\"Difference in means of two arrays.\"\"\"\n",
    "    \n",
    "    # The difference of means of data1, data2: diff\n",
    "    diff = (np.mean(data1) - np.mean(data2))\n",
    "    return diff\n",
    "\n",
    "\n",
    "def permutation_sample(data1, data2):\n",
    "    \"\"\"Generate a permutation sample from two data sets.\"\"\"\n",
    "    \n",
    "    # Concatenate the data sets: data\n",
    "    data = np.concatenate((data1, data2))\n",
    "    \n",
    "    # Permute the concatenated array: permuted_data\n",
    "    permuted_data = np.random.permutation(data)\n",
    "    \n",
    "    # Split the permuted array into two: perm_sample1, perm_sample2\n",
    "    perm_sample1 = permuted_data[:len(data1)]\n",
    "    perm_sample2 = permuted_data[len(data1):]\n",
    "    \n",
    "    return perm_sample1, perm_sample2\n",
    "\n",
    "\n",
    "def draw_perm_reps(data1, data2, func, size=1):\n",
    "    \"\"\"Generate multiple permutation replicates\"\"\"\n",
    "    \n",
    "    # Initialize array of replicates: perm_replicates\n",
    "    perm_replicates = np.empty(size)\n",
    "    \n",
    "    for i in range(size):\n",
    "        # Generate Permutation Sample\n",
    "        perm_sample1, perm_sample2 = permutation_sample(data1, data2)\n",
    "        \n",
    "        # Compute the test statistic\n",
    "        perm_replicates[i] = func(perm_sample1, perm_sample2)\n",
    "        \n",
    "    return perm_replicates"
   ]
  },
  {
   "cell_type": "markdown",
   "metadata": {},
   "source": [
    "***\n",
    "### Question 1: Is the distribution of body temperatures normal?\n"
   ]
  },
  {
   "cell_type": "code",
   "execution_count": 3,
   "metadata": {},
   "outputs": [
    {
     "data": {
      "image/png": "[encoded data removed]",
      "text/plain": [
       "<Figure size 432x288 with 1 Axes>"
      ]
     },
     "metadata": {},
     "output_type": "display_data"
    }
   ],
   "source": [
    "# Plot a histogram to see whether the distribution is normal\n",
    "temp = df['temperature']\n",
    "temp_mean = np.mean(temp)\n",
    "temp_std = np.std(temp)\n",
    "\n",
    "# Number of bins is square root of number of data points: n_bins\n",
    "n_bins = int(np.sqrt(len(temp)))\n",
    "\n",
    "# Plot histogram with appropriate labels\n",
    "sns.set()\n",
    "_ = plt.hist(df['temperature'], bins=n_bins, density = True)\n",
    "_ = plt.xlabel('Temperature (F)')\n",
    "_ = plt.ylabel('Frequency')\n",
    "_ = plt.title('Fig 1.1: Human Body Temperature')\n",
    "_ = plt.margins(0.02)\n",
    "\n",
    "# Overlay Standard Normal Distribution\n",
    "x = np.linspace(temp_mean - 3*temp_std, temp_mean + 3*temp_std, 100)\n",
    "plt.plot(x, stats.norm.pdf(x, temp_mean, temp_std))\n",
    "\n",
    "# Plot a legend\n",
    "_ = plt.legend(('Std. Normal Dist.', 'Sample'))\n",
    "\n",
    "plt.show()"
   ]
  },
  {
   "cell_type": "code",
   "execution_count": 4,
   "metadata": {},
   "outputs": [
    {
     "data": {
      "image/png": "[encoded data removed]",
      "text/plain": [
       "<Figure size 432x288 with 1 Axes>"
      ]
     },
     "metadata": {},
     "output_type": "display_data"
    }
   ],
   "source": [
    "# Plot the Empirical Cumulative Distribution (ECDF)\n",
    "\n",
    "# Call on ECDF function\n",
    "x, y = ecdf(temp)\n",
    "\n",
    "# Seed random number generator\n",
    "np.random.seed(17)\n",
    "\n",
    "# Repeated Trials for normal line\n",
    "temp_reps = np.random.normal(temp_mean, temp_std, size=10000)\n",
    "x_rep , y_rep = ecdf(temp_reps)\n",
    "\n",
    "\n",
    "# Plot ECDF\n",
    "_ = plt.plot(x, y, marker='.', linestyle='none')\n",
    "_ = plt.plot(x_rep, y_rep)\n",
    "_ = plt.xlabel('Temperature (F)')\n",
    "_ = plt.ylabel('CDF')\n",
    "_ = plt.title('Fig. 1.2: ECDF - Human Body Temperatures')\n",
    "margins = 0.02\n",
    "\n",
    "\n",
    "plt.show();"
   ]
  },
  {
   "cell_type": "markdown",
   "metadata": {},
   "source": [
    "**Analysis:**\n",
    "\n",
    "Looking at the histogram above in Figure 1.1 it appears that the sample is normal for the most part. The distribution is unimodal. Figure 1.2 shows the frequency distribution of data. This too appears to be close to normal with the exception of a few outliers."
   ]
  },
  {
   "cell_type": "markdown",
   "metadata": {},
   "source": [
    "****\n",
    "\n",
    "### Question 2: Is the sample size large? Are the observations independent?"
   ]
  },
  {
   "cell_type": "code",
   "execution_count": 5,
   "metadata": {
    "scrolled": true
   },
   "outputs": [
    {
     "data": {
      "text/plain": [
       "temperature    130\n",
       "gender         130\n",
       "heart_rate     130\n",
       "dtype: int64"
      ]
     },
     "execution_count": 5,
     "metadata": {},
     "output_type": "execute_result"
    }
   ],
   "source": [
    "# Count values in sample\n",
    "df.count()"
   ]
  },
  {
   "cell_type": "code",
   "execution_count": 6,
   "metadata": {},
   "outputs": [
    {
     "data": {
      "text/plain": [
       "temperature    False\n",
       "gender         False\n",
       "heart_rate     False\n",
       "dtype: bool"
      ]
     },
     "execution_count": 6,
     "metadata": {},
     "output_type": "execute_result"
    }
   ],
   "source": [
    "# Check if any values in df are null\n",
    "df.isnull().any()"
   ]
  },
  {
   "cell_type": "markdown",
   "metadata": {},
   "source": [
    "**Analysis**:\n",
    "\n",
    "From the results above there are 130 observations in this dataset. For the purpose of the Central Limit Theorem, our sample **is large** because it is more than 30 observations. However in comparison to the entire human population it is quite minuscule.\n",
    "\n",
    "Since each value is the body temperature of a different individual, we can say that they **are independent** observations."
   ]
  },
  {
   "cell_type": "markdown",
   "metadata": {},
   "source": [
    "****\n",
    "\n",
    "### Question 3: Is the true population mean really 98.6 degrees F?"
   ]
  },
  {
   "cell_type": "markdown",
   "metadata": {},
   "source": [
    "We are testing our sample of body temperatures to the true population mean 98.6 degrees F and therefore will be using a **one sample test at a significance level of 5%**\n",
    "\n",
    "The hypotheses are:"
   ]
  },
  {
   "cell_type": "markdown",
   "metadata": {},
   "source": [
    "$H_0:\\ \\bar x =$ 98.6° \n",
    "$H_a:\\ \\bar x \\neq$ 98.6°"
   ]
  },
  {
   "cell_type": "markdown",
   "metadata": {},
   "source": [
    "\n",
    "**3.1 Bootstrap Hypothesis test - 100,000 Samples**"
   ]
  },
  {
   "cell_type": "code",
   "execution_count": 7,
   "metadata": {},
   "outputs": [
    {
     "name": "stdout",
     "output_type": "stream",
     "text": [
      "p-value:  0.0\n"
     ]
    }
   ],
   "source": [
    "# Seed random number generator\n",
    "np.random.seed(17)\n",
    "\n",
    "# Run Bootstrap Hypothesis Test\n",
    "bs_replicates = draw_bs_reps(temp, np.mean, size=100000)\n",
    "\n",
    "p = np.sum(bs_replicates >= 98.6) / len(bs_replicates)\n",
    "\n",
    "print('p-value: ', p)"
   ]
  },
  {
   "cell_type": "markdown",
   "metadata": {},
   "source": [
    "Since the p-value is low, we can assume that our sample mean is different from the true population mean. To further confirm this we can use a one sample z-statistic test and one sample t-statistic test.\n",
    "\n",
    "**3.2 Frequent Statistical Testing**"
   ]
  },
  {
   "cell_type": "code",
   "execution_count": 8,
   "metadata": {},
   "outputs": [
    {
     "name": "stdout",
     "output_type": "stream",
     "text": [
      "z-score:  -5.475925202078116\n",
      "p-value:  0.0\n"
     ]
    }
   ],
   "source": [
    "# Run One Sample z Test\n",
    "# Calculate Standard Error\n",
    "SE = temp_std / np.sqrt(len(temp))\n",
    "\n",
    "z = (temp_mean - 98.6) / SE\n",
    "p_zvalue = stats.norm.cdf(z) * 2\n",
    "print('z-score: ', z)\n",
    "print('p-value: ', p)"
   ]
  },
  {
   "cell_type": "markdown",
   "metadata": {},
   "source": [
    "The p-value of our z statistic allows us to again assume that our sample mean is different from the population mean. Let's see what happens when we use the t-statistic."
   ]
  },
  {
   "cell_type": "code",
   "execution_count": 9,
   "metadata": {},
   "outputs": [
    {
     "name": "stdout",
     "output_type": "stream",
     "text": [
      "t-score:  -5.4548232923645195\n",
      "p-value:  0.0\n"
     ]
    }
   ],
   "source": [
    "# Run One Sample t Test\n",
    "t_test = stats.ttest_1samp(temp, 98.6)\n",
    "\n",
    "t = t_test[0]\n",
    "p_tvalue = t_test[1]\n",
    "\n",
    "print('t-score: ', t)\n",
    "print('p-value: ', p)"
   ]
  },
  {
   "cell_type": "markdown",
   "metadata": {},
   "source": [
    "**Analysis:**\n",
    "\n",
    "Looking at the different tests run we can **reject our null hypothesis and assume that the mean is not 98.6°F**. The p-value was extremely low for all three tests: bootstrap hypothesis test, one sample z test, and one sample t test. \n",
    "\n",
    "Although we ran both the z statistic and the t statistic, it is better to use the t statistic because we do not know the population standard deviation."
   ]
  },
  {
   "cell_type": "markdown",
   "metadata": {},
   "source": [
    "****\n",
    "\n",
    "#### Question 4: Draw a small sample of size 10 from the data and repeat both frequentist tests."
   ]
  },
  {
   "cell_type": "code",
   "execution_count": 10,
   "metadata": {
    "scrolled": true
   },
   "outputs": [
    {
     "name": "stdout",
     "output_type": "stream",
     "text": [
      "[98.  98.2 98.6 97.6 98.7 96.4 98.8 98.7 98.2 98.4]\n"
     ]
    }
   ],
   "source": [
    "# Seed random number generator\n",
    "np.random.seed(17)\n",
    "\n",
    "# Choose a random sample of 10 datapoints from our previous sample\n",
    "temp_small = np.random.choice(temp, size=10)\n",
    "\n",
    "print(temp_small)"
   ]
  },
  {
   "cell_type": "code",
   "execution_count": 11,
   "metadata": {},
   "outputs": [
    {
     "name": "stdout",
     "output_type": "stream",
     "text": [
      "t-score:  -1.9287035862164446\n",
      "p-value:  0.0858507359032994\n"
     ]
    }
   ],
   "source": [
    "# Run One Sample t Test\n",
    "t_test = stats.ttest_1samp(temp_small, 98.6)\n",
    "\n",
    "t_small = t_test[0]\n",
    "p_tsmall = t_test[1]\n",
    "\n",
    "print('t-score: ', t_small)\n",
    "print('p-value: ', p_tsmall)"
   ]
  },
  {
   "cell_type": "code",
   "execution_count": 12,
   "metadata": {},
   "outputs": [
    {
     "name": "stdout",
     "output_type": "stream",
     "text": [
      "z-score:  -7.330201437681887\n",
      "p-value:  2.298070490675704e-13\n"
     ]
    }
   ],
   "source": [
    "# Run One Sample Z test\n",
    "z_small = (np.mean(temp_small) - 98.6) / (np.std(temp_small) / np.sqrt(len(temp)))\n",
    "p_zsmall = stats.norm.cdf(z_small) * 2\n",
    "\n",
    "print('z-score: ', z_small)\n",
    "print('p-value: ', p_zsmall)"
   ]
  },
  {
   "cell_type": "markdown",
   "metadata": {},
   "source": [
    "**Analysis:**\n",
    "\n",
    "Running both frequentist tests on a smaller sample size has us run into a pickle. The z-test tells us that we can reject the null hypothesis, while the t-test says we can't. However, since our dataset only has 10 samples, the z-test is not appropriate to use.\n",
    "\n",
    "Therefore, based off the smaller sample size we randomly selected, we would **fail to reject the null hypothesis that the mean body temperature is 98.6°F.**"
   ]
  },
  {
   "cell_type": "markdown",
   "metadata": {},
   "source": [
    "****\n",
    "\n",
    "#### Question 5: At what temperature should we consider someone's temperature to be \"abnormal\"?\n",
    "\n",
    "**5.1 Frequentist Method**"
   ]
  },
  {
   "cell_type": "code",
   "execution_count": 13,
   "metadata": {
    "scrolled": true
   },
   "outputs": [
    {
     "name": "stdout",
     "output_type": "stream",
     "text": [
      "95% Confidence Interval:  [96.8177295225769, 99.68073201588466]\n",
      "Margin of Error:  1.431501246653874\n"
     ]
    }
   ],
   "source": [
    "# Calculate Margin of Error and Confidence Interval: ME, CI\n",
    "z_crit = 1.96\n",
    "ME = z_crit * temp_std/ np.sqrt(1)\n",
    "CI = [temp_mean - ME, temp_mean + ME]\n",
    "\n",
    "print('95% Confidence Interval: ', CI)\n",
    "print('Margin of Error: ', ME)"
   ]
  },
  {
   "cell_type": "markdown",
   "metadata": {},
   "source": [
    "**5.2 Bootstrap**"
   ]
  },
  {
   "cell_type": "code",
   "execution_count": 14,
   "metadata": {},
   "outputs": [
    {
     "name": "stdout",
     "output_type": "stream",
     "text": [
      "95% Confidence Interval:  [96.82275279 99.67852207]\n",
      "Margin of Error:  1.4311283179311125\n"
     ]
    }
   ],
   "source": [
    "# Seed random number generator\n",
    "np.random.seed(17)\n",
    "\n",
    "# Get set of 100000 set samples\n",
    "temps = np.random.normal(temp_mean, temp_std, size = 100000)\n",
    "\n",
    "# Calculate Margin of Error and Confidence Interval: ME, CI\n",
    "z_crit = 1.96\n",
    "ME = z_crit * np.std(temps)\n",
    "CI = np.percentile(temps, [2.5, 97.5])\n",
    "\n",
    "print('95% Confidence Interval: ', CI)\n",
    "print('Margin of Error: ', ME)"
   ]
  },
  {
   "cell_type": "markdown",
   "metadata": {},
   "source": [
    "**Analysis:**\n",
    "\n",
    "With 95% confidence we can say that the true population mean lies approximately between 96.81°F and 99.68°F. In other words we are 95% confident that somebody would have \"abnormal\" temperature if it was not between 96.81°F and 99.68°F."
   ]
  },
  {
   "cell_type": "markdown",
   "metadata": {},
   "source": [
    "****\n",
    "\n",
    "#### Question 6: Is there a significant difference between males and females in normal temperature?\n",
    "\n",
    "\n",
    "To begin lets perform some EDA."
   ]
  },
  {
   "cell_type": "code",
   "execution_count": 15,
   "metadata": {},
   "outputs": [],
   "source": [
    "# Separate temperature data by male and female: temp_m, temp_f\n",
    "temp_m = df.temperature[df.gender == 'M']\n",
    "temp_f = df.temperature[df.gender =='F']"
   ]
  },
  {
   "cell_type": "code",
   "execution_count": 16,
   "metadata": {
    "scrolled": false
   },
   "outputs": [
    {
     "name": "stdout",
     "output_type": "stream",
     "text": [
      "Male Sample Size:  65\n",
      "Male Temperature Mean:  98.1046153846154\n",
      "\n",
      "Female Sample Size:  65\n",
      "Female Temperature Mean:  98.39384615384613 \n",
      "\n"
     ]
    },
    {
     "data": {
      "text/plain": [
       "<matplotlib.axes._subplots.AxesSubplot at 0x27ccd9b2fd0>"
      ]
     },
     "execution_count": 16,
     "metadata": {},
     "output_type": "execute_result"
    },
    {
     "data": {
      "image/png": "[encoded data removed]",
      "text/plain": [
       "<Figure size 432x288 with 1 Axes>"
      ]
     },
     "metadata": {},
     "output_type": "display_data"
    }
   ],
   "source": [
    "# Determine sample size: n_male, n_female\n",
    "n_male = len(temp_m)\n",
    "n_female = len(temp_f)\n",
    "\n",
    "# Determine sample mean: m_male, m_female\n",
    "m_male = np.mean(temp_m)\n",
    "m_female = np.mean(temp_f)\n",
    "\n",
    "# Determine standard deviation: std_male, std_female\n",
    "std_male = np.std(temp_m)\n",
    "std_female= np.std(temp_f)\n",
    "\n",
    "print('Male Sample Size: ', n_male)\n",
    "print('Male Temperature Mean: ', m_male)\n",
    "print('\\nFemale Sample Size: ', n_female)\n",
    "print('Female Temperature Mean: ', m_female, '\\n')\n",
    "\n",
    "# Graphically represent data with a box plot\n",
    "sns.boxplot(x = 'gender', y = 'temperature', data = df)"
   ]
  },
  {
   "cell_type": "code",
   "execution_count": 17,
   "metadata": {},
   "outputs": [
    {
     "data": {
      "image/png": "[encoded data removed]",
      "text/plain": [
       "<Figure size 432x288 with 1 Axes>"
      ]
     },
     "metadata": {},
     "output_type": "display_data"
    }
   ],
   "source": [
    "# Check if samples are normally distributed\n",
    "\n",
    "x_m_temp, y_m_temp = ecdf(temp_m)\n",
    "x_f_temp, y_f_temp = ecdf(temp_f)\n",
    "\n",
    "# Seed random number generator\n",
    "np.random.seed(17)\n",
    "\n",
    "# Repeated Trials for normal line\n",
    "temp_reps_m = np.random.normal(m_male, std_male, size=10000)\n",
    "temp_reps_f = np.random.normal(m_female, std_female, size=10000)\n",
    "\n",
    "x_rep_m, y_rep_m = ecdf(temp_reps_m)\n",
    "x_rep_f, y_rep_f = ecdf(temp_reps_f) \n",
    "\n",
    "\n",
    "_ = plt.plot(x_m_temp, y_m_temp, marker ='.', linestyle = 'none', color = 'blue')\n",
    "_ = plt.plot(x_f_temp, y_f_temp, marker = '.', linestyle = 'none', color = 'pink', alpha = 0.5)\n",
    "_ = plt.plot(x_rep_m, y_rep_m, color = 'blue')\n",
    "_ = plt.plot(x_rep_f, y_rep_f, color = 'pink')\n",
    "_ = plt.xlabel('Temperature')\n",
    "_ = plt.ylabel('ECDF')\n",
    "_ = plt.margins(0.05)\n",
    "_ = plt.title('Male and Female Body Temperatures')\n",
    "_ = plt.legend(('Male', 'Female'), loc = 'lower right')\n",
    "\n",
    "plt.show()"
   ]
  },
  {
   "cell_type": "markdown",
   "metadata": {},
   "source": [
    "Based on the data above it appears that mean body temperature is higher for females than males. To determine if this is significant, we must do statistical analysis using a two sample permutation test.\n",
    "\n",
    "Our hypotheses are:\n",
    "<p>    $H_0: \\mu_{females} - \\mu_{males}$ = 0\n",
    "<p>    $H_a: \\mu_{females} - \\mu_{males} \\neq$ 0   \n",
    "<p>at a significance level of $\\alpha = 0.05$</p>\n",
    "\n",
    "\n",
    "**6.1 Bootstrap Hypothesis Test**"
   ]
  },
  {
   "cell_type": "code",
   "execution_count": 18,
   "metadata": {},
   "outputs": [
    {
     "name": "stdout",
     "output_type": "stream",
     "text": [
      "Difference of sample means:  0.289230769230727\n",
      "p-value:  0.01202\n"
     ]
    }
   ],
   "source": [
    "# Set Random Seed Generator\n",
    "np.random.seed(17)\n",
    "\n",
    "# Calculate Difference in Mean Arrays: empirical_diff\n",
    "empirical_diff = diff_of_means(temp_f, temp_m)\n",
    "\n",
    "# Generate 100,000 permutation replicates: perm_replicates\n",
    "perm_replicates = draw_perm_reps(temp_f, temp_m, diff_of_means, size=100000)\n",
    "\n",
    "# Calculate p-value\n",
    "p = np.sum(perm_replicates >= empirical_diff) / len(perm_replicates)\n",
    "\n",
    "print('Difference of sample means: ', empirical_diff)\n",
    "print('p-value: ', p)"
   ]
  },
  {
   "cell_type": "markdown",
   "metadata": {},
   "source": [
    "**6.2 Frequentist Statistical Testing**"
   ]
  },
  {
   "cell_type": "code",
   "execution_count": 19,
   "metadata": {},
   "outputs": [
    {
     "name": "stdout",
     "output_type": "stream",
     "text": [
      "t-score:  2.2854345381656103\n",
      "p-value:  0.02393188312239561\n"
     ]
    }
   ],
   "source": [
    "# Two Sample t Test\n",
    "t_test = stats.ttest_ind(temp_f, temp_m)\n",
    "\n",
    "t = t_test[0]\n",
    "p_value = t_test[1]\n",
    "\n",
    "print('t-score: ', t)\n",
    "print('p-value: ', p_value)"
   ]
  },
  {
   "cell_type": "markdown",
   "metadata": {},
   "source": [
    "**Analysis:**\n",
    "\n",
    "Based off the p-values obtained above, we can reject the null hypothesis. Although the significance wasn't that strong, women tend to have a slightly higher body temperature than men."
   ]
  }
 ],
 "metadata": {
  "kernelspec": {
   "display_name": "Python 3",
   "language": "python",
   "name": "python3"
  },
  "language_info": {
   "codemirror_mode": {
    "name": "ipython",
    "version": 3
   },
   "file_extension": ".py",
   "mimetype": "text/x-python",
   "name": "python",
   "nbconvert_exporter": "python",
   "pygments_lexer": "ipython3",
   "version": "3.7.1"
  }
 },
 "nbformat": 4,
 "nbformat_minor": 1
}
