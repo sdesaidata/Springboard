{
 "cells": [
  {
   "cell_type": "markdown",
   "metadata": {},
   "source": [
    "# API Mini Project\n",
    "****\n",
    "### Introduction\n",
    "In this exercise we will be pulling some data from the Quandl API. Qaundl is currently the most widely used aggregator of financial market data.\n",
    "\n",
    "We will focus on equities data from the Frankfurt Stock Exhange (FSE), which is available for free. We'll try and analyze the stock prices of a company called Carl Zeiss Meditec, which manufactures tools for eye examinations, as well as medical lasers for laser eye surgery. The company is listed under the stock ticker AFX_X.\n",
    "\n",
    "Note: we will only be using the Python standard library along with requests, json and numpy\n",
    "\n",
    "In order to access your own API KEY the following steps must be taken:"
   ]
  },
  {
   "cell_type": "markdown",
   "metadata": {},
   "source": [
    "1. Register a free account on the http://www.quandl.com website.\n",
    "2. Access your unique API key and stare it into the variable API_KEY"
   ]
  },
  {
   "cell_type": "code",
   "execution_count": 1,
   "metadata": {},
   "outputs": [],
   "source": [
    "# Import relevant modules\n",
    "import requests\n",
    "import json\n",
    "import numpy as np\n",
    "import operator\n",
    "from collections import defaultdict, OrderedDict"
   ]
  },
  {
   "cell_type": "code",
   "execution_count": 2,
   "metadata": {},
   "outputs": [],
   "source": [
    "# Store the API key as a string. Enter your personal API to make the script work.\n",
    "API_KEY = ' ' "
   ]
  },
  {
   "cell_type": "code",
   "execution_count": 3,
   "metadata": {},
   "outputs": [],
   "source": [
    "# Call the Quandl API and pull out a small sample of the data (only one day) to get a glimpse\n",
    "# into the JSON structure that will be returned\n",
    "url = 'https://www.quandl.com/api/v3/datasets/FSE/AFX_X?start_date=2019-05-17&end_date=2019-05-17&api_key=' + API_KEY\n",
    "r = requests.get(url)\n",
    "json_data = r.json()"
   ]
  },
  {
   "cell_type": "code",
   "execution_count": 4,
   "metadata": {},
   "outputs": [
    {
     "data": {
      "text/plain": [
       "{'dataset': {'id': 10095370,\n",
       "  'dataset_code': 'AFX_X',\n",
       "  'database_code': 'FSE',\n",
       "  'name': 'Carl Zeiss Meditec (AFX_X)',\n",
       "  'description': 'Stock Prices for Carl Zeiss Meditec (AFX) from the Frankfurt Stock Exchange.<br><br>Trading System: Xetra<br><br>ISIN: DE0005313704',\n",
       "  'refreshed_at': '2019-05-20T22:30:41.159Z',\n",
       "  'newest_available_date': '2019-05-20',\n",
       "  'oldest_available_date': '2000-06-07',\n",
       "  'column_names': ['Date',\n",
       "   'Open',\n",
       "   'High',\n",
       "   'Low',\n",
       "   'Close',\n",
       "   'Change',\n",
       "   'Traded Volume',\n",
       "   'Turnover',\n",
       "   'Last Price of the Day',\n",
       "   'Daily Traded Units',\n",
       "   'Daily Turnover'],\n",
       "  'frequency': 'daily',\n",
       "  'type': 'Time Series',\n",
       "  'premium': False,\n",
       "  'limit': None,\n",
       "  'transform': None,\n",
       "  'column_index': None,\n",
       "  'start_date': '2019-05-17',\n",
       "  'end_date': '2019-05-17',\n",
       "  'data': [['2019-05-17',\n",
       "    None,\n",
       "    89.4,\n",
       "    88.55,\n",
       "    89.25,\n",
       "    None,\n",
       "    117480.0,\n",
       "    10466561.0,\n",
       "    None,\n",
       "    None,\n",
       "    None]],\n",
       "  'collapse': None,\n",
       "  'order': None,\n",
       "  'database_id': 6129}}"
      ]
     },
     "execution_count": 4,
     "metadata": {},
     "output_type": "execute_result"
    }
   ],
   "source": [
    "# Inspect the JSON structure of the object you created, and take note of how nested it is,\n",
    "# as well as the overall structure\n",
    "json_data"
   ]
  },
  {
   "cell_type": "markdown",
   "metadata": {},
   "source": [
    "The structure of the object \"json_data\" is a nested dictionary. Within the 'dataset' key you have a bunch of key-value pairs that are accessible for various information. For the purposes of this exercise we are interested in looking at 'column_names' and 'data'. 'column_names' has a list of each column name and 'data' has a nested list for from each day of collected data."
   ]
  },
  {
   "cell_type": "markdown",
   "metadata": {},
   "source": [
    "## Task \n",
    "****\n",
    "#### 1. Collect data from the Franfurt Stock Exchange, for the ticker AFX_X, for the whole year 2017 (keep in mind that the date format is YYYY-MM-DD)."
   ]
  },
  {
   "cell_type": "code",
   "execution_count": 5,
   "metadata": {},
   "outputs": [
    {
     "data": {
      "text/plain": [
       "<Response [200]>"
      ]
     },
     "execution_count": 5,
     "metadata": {},
     "output_type": "execute_result"
    }
   ],
   "source": [
    "url = 'https://www.quandl.com/api/v3/datasets/FSE/AFX_X?start_date=2017-01-01&end_date=2017-12-31&api_key=' + API_KEY\n",
    "# Request dat from url and API Key\n",
    "r = requests.get(url)\n",
    "r"
   ]
  },
  {
   "cell_type": "markdown",
   "metadata": {},
   "source": [
    "#### 2. Convert the returned JSON object into a Python dictionary.\n",
    "+ From looking at the structure for one day, we know that we want the column_names and data to be attached in a dictionary. I have two methods below to do so.\n"
   ]
  },
  {
   "cell_type": "code",
   "execution_count": 6,
   "metadata": {},
   "outputs": [],
   "source": [
    "# Convert JSON Object into a dictionary\n",
    "afx_data = r.json()['dataset']"
   ]
  },
  {
   "cell_type": "markdown",
   "metadata": {},
   "source": [
    "METHOD 1 - Collections package"
   ]
  },
  {
   "cell_type": "code",
   "execution_count": 7,
   "metadata": {},
   "outputs": [],
   "source": [
    "column_list = afx_data['column_names']    # Separate column names into new list\n",
    "data_list = afx_data['data']              # Separate data into new list\n",
    "afx = defaultdict(list)                   # Create new dict\n",
    "\n",
    "# Append data values to appropriate column key\n",
    "for d in data_list:\n",
    "    for x in range(len(column_list)):\n",
    "        afx[column_list[x]].append(d[x])"
   ]
  },
  {
   "cell_type": "markdown",
   "metadata": {},
   "source": [
    "METHOD 2 - Zip"
   ]
  },
  {
   "cell_type": "code",
   "execution_count": 8,
   "metadata": {},
   "outputs": [],
   "source": [
    "# Append data values to appropriate column key\n",
    "afx = dict(zip(afx_data['column_names'], list(zip(*afx_data['data']))))"
   ]
  },
  {
   "cell_type": "markdown",
   "metadata": {},
   "source": [
    "#### 3. Calculate what the highest and lowest opening prices were for the stock in this period."
   ]
  },
  {
   "cell_type": "code",
   "execution_count": 9,
   "metadata": {
    "scrolled": false
   },
   "outputs": [
    {
     "name": "stdout",
     "output_type": "stream",
     "text": [
      "High Opening Price: 53.11\n",
      "Low Opening Price: 34.0\n"
     ]
    }
   ],
   "source": [
    "high_open = max(o for o in afx['Open'] if o != None)\n",
    "low_open = min(l for l in afx['Open'] if l != None)\n",
    "\n",
    "print('High Opening Price: ' + str(high_open))\n",
    "print('Low Opening Price: ' + str(low_open))"
   ]
  },
  {
   "cell_type": "markdown",
   "metadata": {},
   "source": [
    "#### 4. What was the largest change in any one day (based on High and Low price)?"
   ]
  },
  {
   "cell_type": "code",
   "execution_count": 10,
   "metadata": {},
   "outputs": [
    {
     "name": "stdout",
     "output_type": "stream",
     "text": [
      "The largest change in one day was: 2.8100000000000023.\n"
     ]
    }
   ],
   "source": [
    "change = max(abs(x - i) for (x, i) in zip(afx['High'], afx['Low']))\n",
    "print('The largest change in one day was: ' + str(change) + '.')"
   ]
  },
  {
   "cell_type": "markdown",
   "metadata": {},
   "source": [
    "#### 5. What was the largest change between any two days (based on Closing Price)?"
   ]
  },
  {
   "cell_type": "code",
   "execution_count": 11,
   "metadata": {},
   "outputs": [
    {
     "name": "stdout",
     "output_type": "stream",
     "text": [
      "The largest change between any two days based off closing price was: 2.559999999999995.\n"
     ]
    }
   ],
   "source": [
    "two_change = max(abs(x-i) for (x,i) in zip(afx['Close'], afx['Close'][1:]))\n",
    "print('The largest change between any two days based off closing price was: ' + str(two_change) + '.')"
   ]
  },
  {
   "cell_type": "markdown",
   "metadata": {},
   "source": [
    "#### 6. What was the average daily trading volume during this year?"
   ]
  },
  {
   "cell_type": "code",
   "execution_count": 12,
   "metadata": {},
   "outputs": [
    {
     "name": "stdout",
     "output_type": "stream",
     "text": [
      "The average daily trading volume was: 89124.33725490196.\n"
     ]
    }
   ],
   "source": [
    "avg_trade_vol = sum(afx['Traded Volume']) / len(afx['Traded Volume'])\n",
    "print('The average daily trading volume was: ' + str(avg_trade_vol) + '.')"
   ]
  },
  {
   "cell_type": "markdown",
   "metadata": {},
   "source": [
    "#### 7. (Optional) What was the median trading volume during this year. (Note: you may need to implement your own function for calculating the median.)"
   ]
  },
  {
   "cell_type": "code",
   "execution_count": 13,
   "metadata": {
    "scrolled": true
   },
   "outputs": [
    {
     "name": "stdout",
     "output_type": "stream",
     "text": [
      "The median of trading volume was: 76286.0.\n"
     ]
    }
   ],
   "source": [
    "# Function to find the median of a list\n",
    "def find_median(values):\n",
    "    # Sort the list if it isn't already\n",
    "    sorted_values = sorted(values)\n",
    "    # Determine the size of the list\n",
    "    size = len(values)\n",
    "    # Determine the middle index of any list\n",
    "    index = (size - 1) // 2\n",
    "    \n",
    "    # If list has even number of inputs take the two middle values and average them\n",
    "    # Elif they are an odd number of inputs, use the middle value as the median.\n",
    "    # Else return an error for not enough values to calculate median\n",
    "    if size % 2 == 0:\n",
    "        return (sorted_values[index] + sorted_values[index + 1])/2\n",
    "    elif size % 2 != 0:\n",
    "        return sorted_values[index]\n",
    "    else:\n",
    "        raise ValueError('Not enough values to calculate median.')    \n",
    "        \n",
    "print('The median of trading volume was: ' + str(find_median(afx['Traded Volume'])) + '.')"
   ]
  }
 ],
 "metadata": {
  "kernelspec": {
   "display_name": "Python 3",
   "language": "python",
   "name": "python3"
  },
  "language_info": {
   "codemirror_mode": {
    "name": "ipython",
    "version": 3
   },
   "file_extension": ".py",
   "mimetype": "text/x-python",
   "name": "python",
   "nbconvert_exporter": "python",
   "pygments_lexer": "ipython3",
   "version": "3.7.1"
  }
 },
 "nbformat": 4,
 "nbformat_minor": 2
}
