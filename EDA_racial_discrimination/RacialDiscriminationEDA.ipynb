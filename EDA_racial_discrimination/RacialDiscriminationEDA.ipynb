{
 "cells": [
  {
   "cell_type": "markdown",
   "metadata": {},
   "source": [
    "# Examining Racial Discrimination in the US Job Market\n",
    "\n",
    "### Background\n",
    "Racial discrimination continues to be pervasive in cultures throughout the world. Researchers examined the level of racial discrimination in the United States labor market by randomly assigning identical résumés to black-sounding or white-sounding names and observing the impact on requests for interviews from employers.\n",
    "\n",
    "### Data\n",
    "In the dataset provided, each row represents a resume. The 'race' column has two values, 'b' and 'w', indicating black-sounding and white-sounding. The column 'call' has two values, 1 and 0, indicating whether the resume received a call from employers or not.\n",
    "\n",
    "Note that the 'b' and 'w' values in race are assigned randomly to the resumes when presented to the employer."
   ]
  },
  {
   "cell_type": "markdown",
   "metadata": {},
   "source": [
    "## Summary\n",
    "***"
   ]
  },
  {
   "cell_type": "code",
   "execution_count": 1,
   "metadata": {},
   "outputs": [],
   "source": [
    "# IMPORTS\n",
    "import pandas as pd\n",
    "import numpy as np\n",
    "from scipy import stats\n",
    "import matplotlib.pyplot as plt\n",
    "import seaborn as sns\n",
    "import pylab"
   ]
  },
  {
   "cell_type": "code",
   "execution_count": 2,
   "metadata": {},
   "outputs": [
    {
     "data": {
      "text/html": [
       "<div>\n",
       "<style scoped>\n",
       "    .dataframe tbody tr th:only-of-type {\n",
       "        vertical-align: middle;\n",
       "    }\n",
       "\n",
       "    .dataframe tbody tr th {\n",
       "        vertical-align: top;\n",
       "    }\n",
       "\n",
       "    .dataframe thead th {\n",
       "        text-align: right;\n",
       "    }\n",
       "</style>\n",
       "<table border=\"1\" class=\"dataframe\">\n",
       "  <thead>\n",
       "    <tr style=\"text-align: right;\">\n",
       "      <th></th>\n",
       "      <th>id</th>\n",
       "      <th>ad</th>\n",
       "      <th>education</th>\n",
       "      <th>ofjobs</th>\n",
       "      <th>yearsexp</th>\n",
       "      <th>honors</th>\n",
       "      <th>volunteer</th>\n",
       "      <th>military</th>\n",
       "      <th>empholes</th>\n",
       "      <th>occupspecific</th>\n",
       "      <th>...</th>\n",
       "      <th>compreq</th>\n",
       "      <th>orgreq</th>\n",
       "      <th>manuf</th>\n",
       "      <th>transcom</th>\n",
       "      <th>bankreal</th>\n",
       "      <th>trade</th>\n",
       "      <th>busservice</th>\n",
       "      <th>othservice</th>\n",
       "      <th>missind</th>\n",
       "      <th>ownership</th>\n",
       "    </tr>\n",
       "  </thead>\n",
       "  <tbody>\n",
       "    <tr>\n",
       "      <th>0</th>\n",
       "      <td>b</td>\n",
       "      <td>1</td>\n",
       "      <td>4</td>\n",
       "      <td>2</td>\n",
       "      <td>6</td>\n",
       "      <td>0</td>\n",
       "      <td>0</td>\n",
       "      <td>0</td>\n",
       "      <td>1</td>\n",
       "      <td>17</td>\n",
       "      <td>...</td>\n",
       "      <td>1.0</td>\n",
       "      <td>0.0</td>\n",
       "      <td>1.0</td>\n",
       "      <td>0.0</td>\n",
       "      <td>0.0</td>\n",
       "      <td>0.0</td>\n",
       "      <td>0.0</td>\n",
       "      <td>0.0</td>\n",
       "      <td>0.0</td>\n",
       "      <td></td>\n",
       "    </tr>\n",
       "    <tr>\n",
       "      <th>1</th>\n",
       "      <td>b</td>\n",
       "      <td>1</td>\n",
       "      <td>3</td>\n",
       "      <td>3</td>\n",
       "      <td>6</td>\n",
       "      <td>0</td>\n",
       "      <td>1</td>\n",
       "      <td>1</td>\n",
       "      <td>0</td>\n",
       "      <td>316</td>\n",
       "      <td>...</td>\n",
       "      <td>1.0</td>\n",
       "      <td>0.0</td>\n",
       "      <td>1.0</td>\n",
       "      <td>0.0</td>\n",
       "      <td>0.0</td>\n",
       "      <td>0.0</td>\n",
       "      <td>0.0</td>\n",
       "      <td>0.0</td>\n",
       "      <td>0.0</td>\n",
       "      <td></td>\n",
       "    </tr>\n",
       "    <tr>\n",
       "      <th>2</th>\n",
       "      <td>b</td>\n",
       "      <td>1</td>\n",
       "      <td>4</td>\n",
       "      <td>1</td>\n",
       "      <td>6</td>\n",
       "      <td>0</td>\n",
       "      <td>0</td>\n",
       "      <td>0</td>\n",
       "      <td>0</td>\n",
       "      <td>19</td>\n",
       "      <td>...</td>\n",
       "      <td>1.0</td>\n",
       "      <td>0.0</td>\n",
       "      <td>1.0</td>\n",
       "      <td>0.0</td>\n",
       "      <td>0.0</td>\n",
       "      <td>0.0</td>\n",
       "      <td>0.0</td>\n",
       "      <td>0.0</td>\n",
       "      <td>0.0</td>\n",
       "      <td></td>\n",
       "    </tr>\n",
       "    <tr>\n",
       "      <th>3</th>\n",
       "      <td>b</td>\n",
       "      <td>1</td>\n",
       "      <td>3</td>\n",
       "      <td>4</td>\n",
       "      <td>6</td>\n",
       "      <td>0</td>\n",
       "      <td>1</td>\n",
       "      <td>0</td>\n",
       "      <td>1</td>\n",
       "      <td>313</td>\n",
       "      <td>...</td>\n",
       "      <td>1.0</td>\n",
       "      <td>0.0</td>\n",
       "      <td>1.0</td>\n",
       "      <td>0.0</td>\n",
       "      <td>0.0</td>\n",
       "      <td>0.0</td>\n",
       "      <td>0.0</td>\n",
       "      <td>0.0</td>\n",
       "      <td>0.0</td>\n",
       "      <td></td>\n",
       "    </tr>\n",
       "    <tr>\n",
       "      <th>4</th>\n",
       "      <td>b</td>\n",
       "      <td>1</td>\n",
       "      <td>3</td>\n",
       "      <td>3</td>\n",
       "      <td>22</td>\n",
       "      <td>0</td>\n",
       "      <td>0</td>\n",
       "      <td>0</td>\n",
       "      <td>0</td>\n",
       "      <td>313</td>\n",
       "      <td>...</td>\n",
       "      <td>1.0</td>\n",
       "      <td>1.0</td>\n",
       "      <td>0.0</td>\n",
       "      <td>0.0</td>\n",
       "      <td>0.0</td>\n",
       "      <td>0.0</td>\n",
       "      <td>0.0</td>\n",
       "      <td>1.0</td>\n",
       "      <td>0.0</td>\n",
       "      <td>Nonprofit</td>\n",
       "    </tr>\n",
       "  </tbody>\n",
       "</table>\n",
       "<p>5 rows × 65 columns</p>\n",
       "</div>"
      ],
      "text/plain": [
       "  id ad  education  ofjobs  yearsexp  honors  volunteer  military  empholes  \\\n",
       "0  b  1          4       2         6       0          0         0         1   \n",
       "1  b  1          3       3         6       0          1         1         0   \n",
       "2  b  1          4       1         6       0          0         0         0   \n",
       "3  b  1          3       4         6       0          1         0         1   \n",
       "4  b  1          3       3        22       0          0         0         0   \n",
       "\n",
       "   occupspecific    ...      compreq  orgreq  manuf  transcom  bankreal trade  \\\n",
       "0             17    ...          1.0     0.0    1.0       0.0       0.0   0.0   \n",
       "1            316    ...          1.0     0.0    1.0       0.0       0.0   0.0   \n",
       "2             19    ...          1.0     0.0    1.0       0.0       0.0   0.0   \n",
       "3            313    ...          1.0     0.0    1.0       0.0       0.0   0.0   \n",
       "4            313    ...          1.0     1.0    0.0       0.0       0.0   0.0   \n",
       "\n",
       "  busservice othservice  missind  ownership  \n",
       "0        0.0        0.0      0.0             \n",
       "1        0.0        0.0      0.0             \n",
       "2        0.0        0.0      0.0             \n",
       "3        0.0        0.0      0.0             \n",
       "4        0.0        1.0      0.0  Nonprofit  \n",
       "\n",
       "[5 rows x 65 columns]"
      ]
     },
     "execution_count": 2,
     "metadata": {},
     "output_type": "execute_result"
    }
   ],
   "source": [
    "data = pd.io.stata.read_stata('data/us_job_market_discrimination.dta')\n",
    "data.head()"
   ]
  },
  {
   "cell_type": "markdown",
   "metadata": {},
   "source": [
    "### Q1: What test is appropriate for this problem? Does CLT apply?\n",
    "\n",
    "<p> First lets check to see if the Central Limit Theorem applies to this problem. Since we are comparing two proportions: rate of callback for black sounding names and rate of callback of white sounding names, we have the following conditions to meet. </p>\n",
    "\n",
    "1. **The samples are independent.** It is safe to assume that the samples are independent based on the background information. Also it is safe to assume that the population is greater than 10 times the size of the sample. &#9745;\n",
    "2. **The samples are random.** Again, based off the background information it is safe to assume that the samples are random. &#9745;\n",
    "3. **Each sample includes at least 10 successes and 10 failures.** To determine this one we have to look at the samples and see if they are large enough to justify that us using the Normal Distribution. The equations to follow will be\n",
    " + $n_{1} * p_{1} >= 5$\n",
    " + $n_{1} * (1- p_{1}) >= 5$\n",
    " + $n_{2} * p_{2} >= 5$\n",
    " + $n_{2} * (1- p_{2}) >= 5$\n",
    "\n",
    "The guideline to follow will be "
   ]
  },
  {
   "cell_type": "code",
   "execution_count": 3,
   "metadata": {
    "scrolled": true
   },
   "outputs": [
    {
     "name": "stdout",
     "output_type": "stream",
     "text": [
      "Number of Black Names Called Back:  157.0\n",
      "Total Black Sounding Names:  2435\n",
      "Black Rate of Callback:  0.06447638603696099\n",
      "\n",
      "Number of White Names Called Back:  235.0\n",
      "Total White Sounding Names:  2435\n",
      "White Rate of Callback:  0.09650924024640657\n"
     ]
    }
   ],
   "source": [
    "# Determine size of each sample: b_names for black sounding names, w_names for white sounding names\n",
    "b_names = len(data[data.race=='b'])\n",
    "w_names = len(data[data.race=='w'])\n",
    "\n",
    "# Determine number of callbacks for each sample: b_call, w_call\n",
    "b_call = sum(data[data.race=='b'].call)\n",
    "w_call = sum(data[data.race=='w'].call)\n",
    "\n",
    "# Determine percentage of names that were called back: rate_b, rate_w\n",
    "rate_b = b_call / b_names\n",
    "rate_w = w_call / w_names\n",
    "\n",
    "print('Number of Black Names Called Back: ', b_call)\n",
    "print('Total Black Sounding Names: ', b_names)\n",
    "print('Black Rate of Callback: ', rate_b)\n",
    "\n",
    "print('\\nNumber of White Names Called Back: ', w_call)\n",
    "print('Total White Sounding Names: ', w_names)\n",
    "print('White Rate of Callback: ', rate_w)"
   ]
  },
  {
   "cell_type": "code",
   "execution_count": 4,
   "metadata": {},
   "outputs": [
    {
     "name": "stdout",
     "output_type": "stream",
     "text": [
      "True True True True\n"
     ]
    }
   ],
   "source": [
    "# Check for success and failures amongst black sounding names sample: s_b, f_b\n",
    "s_b = b_names * rate_b >= 10\n",
    "f_b = b_names * (1 - rate_b) >= 10\n",
    "\n",
    "# Check for successes and failures amongst white sounding names sample: s_w, f_w\n",
    "s_w = w_names * rate_w >= 10\n",
    "f_w = w_names * (1 - rate_w) >= 10\n",
    "\n",
    "print(s_b, f_b, s_w, f_w)"
   ]
  },
  {
   "cell_type": "markdown",
   "metadata": {},
   "source": [
    "<div class=\"span5 alert alert-success\">\n",
    "\n",
    "**Analysis:**\n",
    "\n",
    "Since both of our samples have at least 10 successes and at least 10 failures, we can go back and say that **the Central Limit Theorem applies**.\n",
    "\n",
    "We are looking at two different proportions and therefore will perform a **two sample proportion Z-test.**"
   ]
  },
  {
   "cell_type": "markdown",
   "metadata": {},
   "source": [
    "***\n",
    "### Q2: What are the null and alternate hypotheses?\n",
    "\n",
    "**Null Hypothesis:** The probability of getting a callback is the same for both white-sounding names and black-sounding names.\n",
    "+ $H_0: p_w - p_b = 0$\n",
    "\n",
    "**Alternate Hypothesis:** The probability of getting a call back is not the same between white sounding names and black sounding names.\n",
    "+ $H_a: p_w - p_b \\neq 0$\n",
    "\n",
    "***\n",
    "### Q3: Compute margin of error, confidence interval, and p-value. Try using both the bootstrapping and the frequentist statistical approaches.\n",
    "\n",
    "**3.1 Frequentist Statistical Testing**"
   ]
  },
  {
   "cell_type": "code",
   "execution_count": 5,
   "metadata": {},
   "outputs": [
    {
     "name": "stdout",
     "output_type": "stream",
     "text": [
      "P-Value:  3.862565207522622e-05\n",
      "Margin of Error:  0.015255406349886438\n",
      "95% Confidence Interval:  (0.016777447859559147, 0.047288260559332024)\n"
     ]
    }
   ],
   "source": [
    "# Calculate difference in proportions: p_diff\n",
    "p_diff = rate_w - rate_b\n",
    "\n",
    "# Calculate standard deviation of sample parameters: std\n",
    "std = np.sqrt((rate_w * (1 - rate_w) / w_names) + (rate_b * (1 - rate_b) / b_names))\n",
    "z_crit = 1.96 \n",
    "\n",
    "# Calculate p-value, Margin of Error, and Confidence Interval: p_val, ME, CI\n",
    "p_val = stats.norm.sf(abs(p_diff/std))*2\n",
    "ME = std * z_crit\n",
    "CI = (p_diff - ME, p_diff + ME)\n",
    "\n",
    "print('P-Value: ', p_val)\n",
    "print('Margin of Error: ', ME)\n",
    "print('95% Confidence Interval: ', CI)"
   ]
  },
  {
   "cell_type": "code",
   "execution_count": 10,
   "metadata": {},
   "outputs": [
    {
     "data": {
      "text/plain": [
       "4.11555043573"
      ]
     },
     "execution_count": 10,
     "metadata": {},
     "output_type": "execute_result"
    }
   ],
   "source": [
    "abs(p_diff/std)"
   ]
  },
  {
   "cell_type": "markdown",
   "metadata": {},
   "source": [
    "**3.2 Bootstrap Hypothesis Test**"
   ]
  },
  {
   "cell_type": "code",
   "execution_count": 43,
   "metadata": {},
   "outputs": [],
   "source": [
    "# Functions\n",
    "def bootstrap_replicate_1d(data, func):\n",
    "    \"\"\"Generate bootstrap replicate\"\"\"\n",
    "    \n",
    "    return func(np.random.choice(data, size=len(data)))\n",
    "\n",
    "\n",
    "def draw_bs_reps(data, func, size=1):\n",
    "    \"\"\"Draw bootstrap replicates.\"\"\"\n",
    "    \n",
    "    # Initialize array of replicates: bs_replicates\n",
    "    bs_replicates = np.empty(size)\n",
    "\n",
    "    # Generate replicates\n",
    "    for i in range(size):\n",
    "        bs_replicates[i] = bootstrap_replicate_1d(data, func)\n",
    "\n",
    "    return bs_replicates\n",
    "\n",
    "def permutation_sample(data1, data2):\n",
    "    \"\"\"Generate a permutation sample from two data sets.\"\"\"\n",
    "    \n",
    "    # Concatenate the data sets: data\n",
    "    data = np.concatenate((data1, data2))\n",
    "    \n",
    "    # Permute the concatenated array: permuted_data\n",
    "    permuted_data = np.random.choice(data, size=len(data))\n",
    "    \n",
    "    # Split the permuted array into two: perm_sample1, perm_sample2\n",
    "    perm_sample1 = permuted_data[:len(data1)]\n",
    "    perm_sample2 = permuted_data[len(data1):]\n",
    "    \n",
    "    return perm_sample1, perm_sample2\n",
    "\n",
    "\n",
    "def draw_perm_reps(data1, data2, size=1):\n",
    "    \"\"\"Generate multiple permutation replicates\"\"\"\n",
    "    \n",
    "    # Initialize array of replicates: perm_replicates\n",
    "    perm_replicates = np.empty(size)\n",
    "    \n",
    "    for i in range(size):\n",
    "        # Generate Permutation Sample\n",
    "        perm_sample1, perm_sample2 = permutation_sample(data1, data2)\n",
    "        \n",
    "        # Compute the test statistic\n",
    "        perm_replicates[i] = sum(perm_sample1)/len(perm_sample1) - sum(perm_sample2)/len(perm_sample2)\n",
    "        \n",
    "    return perm_replicates"
   ]
  },
  {
   "cell_type": "code",
   "execution_count": 44,
   "metadata": {
    "scrolled": true
   },
   "outputs": [],
   "source": [
    "b = data[data.race=='b'].call\n",
    "w = data[data.race=='w'].call\n",
    "\n",
    "# Calculate difference in proportions: p_diff\n",
    "p_diff = rate_w - rate_b\n",
    "\n",
    "# Set Random Generator Seeed\n",
    "np.random.seed(17)\n",
    "\n",
    "# Draw boostrap replicates for black sounding names: b_reps\n",
    "b_reps = draw_bs_reps(b, np.mean, size=10000)\n",
    "\n",
    "# Draw boostrap replicates for white sounding names: w_reps\n",
    "w_reps = draw_bs_reps(w, np.mean, size=10000)\n",
    "\n",
    "# Calculate difference in proportions for bootstrap replicates: diff_bs_reps\n",
    "diff_bs_reps = w_reps - b_reps\n",
    "\n",
    "# Calculate difference in proportions for permutation replicates: diff_perm_reps\n",
    "diff_perm_reps = draw_perm_reps(w, b, size=10000)"
   ]
  },
  {
   "cell_type": "code",
   "execution_count": 45,
   "metadata": {},
   "outputs": [
    {
     "name": "stdout",
     "output_type": "stream",
     "text": [
      "P-Value:  0.0\n",
      "Margin of Error:  0.015300939670857914\n",
      "95% Confidence Interval:  [0.01683778 0.04722793]\n"
     ]
    }
   ],
   "source": [
    "z_crit = 1.96\n",
    "p_val = np.sum(diff_perm_reps >= p_diff) / len(diff_perm_reps)\n",
    "ME = z_crit * np.std(diff_bs_reps)\n",
    "CI = np.percentile(diff_bs_reps, [2.5, 97.5])\n",
    "\n",
    "print('P-Value: ', p_val)\n",
    "print('Margin of Error: ', ME)\n",
    "print('95% Confidence Interval: ', CI)"
   ]
  },
  {
   "cell_type": "markdown",
   "metadata": {
    "collapsed": true
   },
   "source": [
    "<div class=\"span5 alert alert-success\">\n",
    "\n",
    "**Analysis:**\n",
    "\n",
    "The p-value is below the significance level of 0.05 and therefore we are able to reject the null hypothesis. "
   ]
  },
  {
   "cell_type": "markdown",
   "metadata": {},
   "source": [
    "### Q4: Write a story describing the statistical significance in the context or the original problem.\n",
    "\n",
    "Is there racial discrimination in the job market? According to the data collected by researchers in this study there indeed is. Based off the samples analyzed above it appears that the likelihood of a resume with a white sounding name getting a callback is roughly 50% higher than their black counterpart.  It has been proven that the proportion of callbacks for white sounding names is significantly higher than the proportion of callbacks for black sounding names. We are 95% confident that the different in rate of callbacks between the two groups is approximately between 1.7% and 4.7%.\n",
    "\n",
    "***\n",
    "\n",
    "### Q5: Does your analysis mean that race/name is the most important factor in callback success? Why or why not? If not, how would you amend your analysis?\n",
    "\n",
    "The analysis done above tells us that there is a significant relationship between race and callbacks. However, we cannot say for certain that this is the most important factor in callback success. There are other variables that have to be taken into account that we did not analyze from the dataset. Similar to what we did for race and callback rate, we must perform tests to determine which one is the most important factor. In addition to testing for significance we'd want to see if there is any correlation between different variables. "
   ]
  }
 ],
 "metadata": {
  "kernelspec": {
   "display_name": "Python 3",
   "language": "python",
   "name": "python3"
  },
  "language_info": {
   "codemirror_mode": {
    "name": "ipython",
    "version": 3
   },
   "file_extension": ".py",
   "mimetype": "text/x-python",
   "name": "python",
   "nbconvert_exporter": "python",
   "pygments_lexer": "ipython3",
   "version": "3.7.1"
  }
 },
 "nbformat": 4,
 "nbformat_minor": 1
}
